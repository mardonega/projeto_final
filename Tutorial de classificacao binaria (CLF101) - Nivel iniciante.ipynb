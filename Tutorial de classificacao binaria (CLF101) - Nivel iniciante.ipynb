{
 "cells": [
  {
   "cell_type": "markdown",
   "metadata": {
    "colab_type": "text",
    "id": "Y57RMM1LEQmR"
   },
   "source": [
    "#  <span style=\"color:orange\">Tutorial de classificação binária (CLF101) - Nível iniciante</span>"
   ]
  },
  {
   "cell_type": "code",
   "execution_count": 1,
   "metadata": {},
   "outputs": [],
   "source": [
    "from pycaret.datasets import get_data\n",
    "from pycaret.classification import setup, compare_models"
   ]
  },
  {
   "cell_type": "code",
   "execution_count": 1,
   "metadata": {},
   "outputs": [
    {
     "name": "stdout",
     "output_type": "stream",
     "text": [
      "Collecting ucimlrepo\n",
      "  Downloading ucimlrepo-0.0.7-py3-none-any.whl.metadata (5.5 kB)\n",
      "Requirement already satisfied: pandas>=1.0.0 in c:\\users\\mardo\\.conda\\envs\\pycaret_env_2\\lib\\site-packages (from ucimlrepo) (1.5.3)\n",
      "Requirement already satisfied: certifi>=2020.12.5 in c:\\users\\mardo\\.conda\\envs\\pycaret_env_2\\lib\\site-packages (from ucimlrepo) (2024.8.30)\n",
      "Requirement already satisfied: python-dateutil>=2.8.1 in c:\\users\\mardo\\.conda\\envs\\pycaret_env_2\\lib\\site-packages (from pandas>=1.0.0->ucimlrepo) (2.9.0)\n",
      "Requirement already satisfied: pytz>=2020.1 in c:\\users\\mardo\\.conda\\envs\\pycaret_env_2\\lib\\site-packages (from pandas>=1.0.0->ucimlrepo) (2024.2)\n",
      "Requirement already satisfied: numpy>=1.21.0 in c:\\users\\mardo\\.conda\\envs\\pycaret_env_2\\lib\\site-packages (from pandas>=1.0.0->ucimlrepo) (1.22.4)\n",
      "Requirement already satisfied: six>=1.5 in c:\\users\\mardo\\.conda\\envs\\pycaret_env_2\\lib\\site-packages (from python-dateutil>=2.8.1->pandas>=1.0.0->ucimlrepo) (1.16.0)\n",
      "Downloading ucimlrepo-0.0.7-py3-none-any.whl (8.0 kB)\n",
      "Installing collected packages: ucimlrepo\n",
      "Successfully installed ucimlrepo-0.0.7\n"
     ]
    }
   ],
   "source": [
    "!pip install ucimlrepo"
   ]
  },
  {
   "cell_type": "code",
   "execution_count": 2,
   "metadata": {},
   "outputs": [
    {
     "name": "stdout",
     "output_type": "stream",
     "text": [
      "{'uci_id': 350, 'name': 'Default of Credit Card Clients', 'repository_url': 'https://archive.ics.uci.edu/dataset/350/default+of+credit+card+clients', 'data_url': 'https://archive.ics.uci.edu/static/public/350/data.csv', 'abstract': \"This research aimed at the case of customers' default payments in Taiwan and compares the predictive accuracy of probability of default among six data mining methods.\", 'area': 'Business', 'tasks': ['Classification'], 'characteristics': ['Multivariate'], 'num_instances': 30000, 'num_features': 23, 'feature_types': ['Integer', 'Real'], 'demographics': ['Sex', 'Education Level', 'Marital Status', 'Age'], 'target_col': ['Y'], 'index_col': ['ID'], 'has_missing_values': 'no', 'missing_values_symbol': None, 'year_of_dataset_creation': 2009, 'last_updated': 'Fri Mar 29 2024', 'dataset_doi': '10.24432/C55S3H', 'creators': ['I-Cheng Yeh'], 'intro_paper': {'ID': 365, 'type': 'NATIVE', 'title': 'The comparisons of data mining techniques for the predictive accuracy of probability of default of credit card clients', 'authors': 'I. Yeh, Che-hui Lien', 'venue': 'Expert systems with applications', 'year': 2009, 'journal': None, 'DOI': '10.1016/j.eswa.2007.12.020', 'URL': 'https://www.semanticscholar.org/paper/1cacac4f0ea9fdff3cd88c151c94115a9fddcf33', 'sha': None, 'corpus': None, 'arxiv': None, 'mag': None, 'acl': None, 'pmid': None, 'pmcid': None}, 'additional_info': {'summary': \"This research aimed at the case of customers' default payments in Taiwan and compares the predictive accuracy of probability of default among six data mining methods. From the perspective of risk management, the result of predictive accuracy of the estimated probability of default will be more valuable than the binary result of classification - credible or not credible clients. Because the real probability of default is unknown, this study presented the novel Sorting Smoothing Method to estimate the real probability of default. With the real probability of default as the response variable (Y), and the predictive probability of default as the independent variable (X), the simple linear regression result (Y = A + BX) shows that the forecasting model produced by artificial neural network has the highest coefficient of determination; its regression intercept (A) is close to zero, and regression coefficient (B) to one. Therefore, among the six data mining techniques, artificial neural network is the only one that can accurately estimate the real probability of default.\", 'purpose': None, 'funded_by': None, 'instances_represent': None, 'recommended_data_splits': None, 'sensitive_data': None, 'preprocessing_description': None, 'variable_info': 'This research employed a binary variable, default payment (Yes = 1, No = 0), as the response variable. This study reviewed the literature and used the following 23 variables as explanatory variables:\\r\\nX1: Amount of the given credit (NT dollar): it includes both the individual consumer credit and his/her family (supplementary) credit.\\r\\nX2: Gender (1 = male; 2 = female).\\r\\nX3: Education (1 = graduate school; 2 = university; 3 = high school; 4 = others).\\r\\nX4: Marital status (1 = married; 2 = single; 3 = others).\\r\\nX5: Age (year).\\r\\nX6 - X11: History of past payment. We tracked the past monthly payment records (from April to September, 2005) as follows: X6 = the repayment status in September, 2005; X7 = the repayment status in August, 2005; . . .;X11 = the repayment status in April, 2005. The measurement scale for the repayment status is: -1 = pay duly; 1 = payment delay for one month; 2 = payment delay for two months; . . .; 8 = payment delay for eight months; 9 = payment delay for nine months and above.\\r\\nX12-X17: Amount of bill statement (NT dollar). X12 = amount of bill statement in September, 2005; X13 = amount of bill statement in August, 2005; . . .; X17 = amount of bill statement in April, 2005. \\r\\nX18-X23: Amount of previous payment (NT dollar). X18 = amount paid in September, 2005; X19 = amount paid in August, 2005; . . .;X23 = amount paid in April, 2005.\\r\\n', 'citation': None}}\n",
      "   name     role     type      demographic                 description units  \\\n",
      "0    ID       ID  Integer             None                        None  None   \n",
      "1    X1  Feature  Integer             None                   LIMIT_BAL  None   \n",
      "2    X2  Feature  Integer              Sex                         SEX  None   \n",
      "3    X3  Feature  Integer  Education Level                   EDUCATION  None   \n",
      "4    X4  Feature  Integer   Marital Status                    MARRIAGE  None   \n",
      "5    X5  Feature  Integer              Age                         AGE  None   \n",
      "6    X6  Feature  Integer             None                       PAY_0  None   \n",
      "7    X7  Feature  Integer             None                       PAY_2  None   \n",
      "8    X8  Feature  Integer             None                       PAY_3  None   \n",
      "9    X9  Feature  Integer             None                       PAY_4  None   \n",
      "10  X10  Feature  Integer             None                       PAY_5  None   \n",
      "11  X11  Feature  Integer             None                       PAY_6  None   \n",
      "12  X12  Feature  Integer             None                   BILL_AMT1  None   \n",
      "13  X13  Feature  Integer             None                   BILL_AMT2  None   \n",
      "14  X14  Feature  Integer             None                   BILL_AMT3  None   \n",
      "15  X15  Feature  Integer             None                   BILL_AMT4  None   \n",
      "16  X16  Feature  Integer             None                   BILL_AMT5  None   \n",
      "17  X17  Feature  Integer             None                   BILL_AMT6  None   \n",
      "18  X18  Feature  Integer             None                    PAY_AMT1  None   \n",
      "19  X19  Feature  Integer             None                    PAY_AMT2  None   \n",
      "20  X20  Feature  Integer             None                    PAY_AMT3  None   \n",
      "21  X21  Feature  Integer             None                    PAY_AMT4  None   \n",
      "22  X22  Feature  Integer             None                    PAY_AMT5  None   \n",
      "23  X23  Feature  Integer             None                    PAY_AMT6  None   \n",
      "24    Y   Target   Binary             None  default payment next month  None   \n",
      "\n",
      "   missing_values  \n",
      "0              no  \n",
      "1              no  \n",
      "2              no  \n",
      "3              no  \n",
      "4              no  \n",
      "5              no  \n",
      "6              no  \n",
      "7              no  \n",
      "8              no  \n",
      "9              no  \n",
      "10             no  \n",
      "11             no  \n",
      "12             no  \n",
      "13             no  \n",
      "14             no  \n",
      "15             no  \n",
      "16             no  \n",
      "17             no  \n",
      "18             no  \n",
      "19             no  \n",
      "20             no  \n",
      "21             no  \n",
      "22             no  \n",
      "23             no  \n",
      "24             no  \n"
     ]
    }
   ],
   "source": [
    "from ucimlrepo import fetch_ucirepo \n",
    "  \n",
    "# fetch dataset \n",
    "default_of_credit_card_clients = fetch_ucirepo(id=350) \n",
    "  \n",
    "# data (as pandas dataframes) \n",
    "X = default_of_credit_card_clients.data.features \n",
    "y = default_of_credit_card_clients.data.targets \n",
    "  \n",
    "# metadata \n",
    "print(default_of_credit_card_clients.metadata) \n",
    "  \n",
    "# variable information \n",
    "print(default_of_credit_card_clients.variables) "
   ]
  },
  {
   "cell_type": "code",
   "execution_count": 6,
   "metadata": {},
   "outputs": [
    {
     "name": "stdout",
     "output_type": "stream",
     "text": [
      "       X1  X2  X3  X4  X5  X6  X7  X8  X9  X10  ...    X15    X16    X17  \\\n",
      "0   20000   2   2   1  24   2   2  -1  -1   -2  ...      0      0      0   \n",
      "1  120000   2   2   2  26  -1   2   0   0    0  ...   3272   3455   3261   \n",
      "2   90000   2   2   2  34   0   0   0   0    0  ...  14331  14948  15549   \n",
      "3   50000   2   2   1  37   0   0   0   0    0  ...  28314  28959  29547   \n",
      "4   50000   1   2   1  57  -1   0  -1   0    0  ...  20940  19146  19131   \n",
      "\n",
      "    X18    X19    X20   X21   X22   X23  DEFAULT  \n",
      "0     0    689      0     0     0     0        1  \n",
      "1     0   1000   1000  1000     0  2000        1  \n",
      "2  1518   1500   1000  1000  1000  5000        0  \n",
      "3  2000   2019   1200  1100  1069  1000        0  \n",
      "4  2000  36681  10000  9000   689   679        0  \n",
      "\n",
      "[5 rows x 24 columns]\n"
     ]
    }
   ],
   "source": [
    "import pandas as pd\n",
    "\n",
    "# Verifique se `y` é um DataFrame e selecione a coluna correta para transformá-lo em uma Series\n",
    "if isinstance(y, pd.DataFrame):\n",
    "    y = y.iloc[:, 0]  # Seleciona a primeira coluna de y caso ele seja um DataFrame\n",
    "\n",
    "# Agora, defina o nome de y como 'DEFAULT'\n",
    "y = y.rename('DEFAULT')\n",
    "\n",
    "# Combine X e y em um único DataFrame\n",
    "data = pd.concat([X, y], axis=1)\n",
    "\n",
    "# Visualizar as primeiras linhas do dataset\n",
    "print(data.head())"
   ]
  },
  {
   "cell_type": "code",
   "execution_count": 7,
   "metadata": {},
   "outputs": [
    {
     "data": {
      "text/html": [
       "<style type=\"text/css\">\n",
       "#T_7a7ba_row8_col1 {\n",
       "  background-color: lightgreen;\n",
       "}\n",
       "</style>\n",
       "<table id=\"T_7a7ba\">\n",
       "  <thead>\n",
       "    <tr>\n",
       "      <th class=\"blank level0\" >&nbsp;</th>\n",
       "      <th id=\"T_7a7ba_level0_col0\" class=\"col_heading level0 col0\" >Description</th>\n",
       "      <th id=\"T_7a7ba_level0_col1\" class=\"col_heading level0 col1\" >Value</th>\n",
       "    </tr>\n",
       "  </thead>\n",
       "  <tbody>\n",
       "    <tr>\n",
       "      <th id=\"T_7a7ba_level0_row0\" class=\"row_heading level0 row0\" >0</th>\n",
       "      <td id=\"T_7a7ba_row0_col0\" class=\"data row0 col0\" >Session id</td>\n",
       "      <td id=\"T_7a7ba_row0_col1\" class=\"data row0 col1\" >123</td>\n",
       "    </tr>\n",
       "    <tr>\n",
       "      <th id=\"T_7a7ba_level0_row1\" class=\"row_heading level0 row1\" >1</th>\n",
       "      <td id=\"T_7a7ba_row1_col0\" class=\"data row1 col0\" >Target</td>\n",
       "      <td id=\"T_7a7ba_row1_col1\" class=\"data row1 col1\" >DEFAULT</td>\n",
       "    </tr>\n",
       "    <tr>\n",
       "      <th id=\"T_7a7ba_level0_row2\" class=\"row_heading level0 row2\" >2</th>\n",
       "      <td id=\"T_7a7ba_row2_col0\" class=\"data row2 col0\" >Target type</td>\n",
       "      <td id=\"T_7a7ba_row2_col1\" class=\"data row2 col1\" >Binary</td>\n",
       "    </tr>\n",
       "    <tr>\n",
       "      <th id=\"T_7a7ba_level0_row3\" class=\"row_heading level0 row3\" >3</th>\n",
       "      <td id=\"T_7a7ba_row3_col0\" class=\"data row3 col0\" >Original data shape</td>\n",
       "      <td id=\"T_7a7ba_row3_col1\" class=\"data row3 col1\" >(30000, 24)</td>\n",
       "    </tr>\n",
       "    <tr>\n",
       "      <th id=\"T_7a7ba_level0_row4\" class=\"row_heading level0 row4\" >4</th>\n",
       "      <td id=\"T_7a7ba_row4_col0\" class=\"data row4 col0\" >Transformed data shape</td>\n",
       "      <td id=\"T_7a7ba_row4_col1\" class=\"data row4 col1\" >(30000, 24)</td>\n",
       "    </tr>\n",
       "    <tr>\n",
       "      <th id=\"T_7a7ba_level0_row5\" class=\"row_heading level0 row5\" >5</th>\n",
       "      <td id=\"T_7a7ba_row5_col0\" class=\"data row5 col0\" >Transformed train set shape</td>\n",
       "      <td id=\"T_7a7ba_row5_col1\" class=\"data row5 col1\" >(21000, 24)</td>\n",
       "    </tr>\n",
       "    <tr>\n",
       "      <th id=\"T_7a7ba_level0_row6\" class=\"row_heading level0 row6\" >6</th>\n",
       "      <td id=\"T_7a7ba_row6_col0\" class=\"data row6 col0\" >Transformed test set shape</td>\n",
       "      <td id=\"T_7a7ba_row6_col1\" class=\"data row6 col1\" >(9000, 24)</td>\n",
       "    </tr>\n",
       "    <tr>\n",
       "      <th id=\"T_7a7ba_level0_row7\" class=\"row_heading level0 row7\" >7</th>\n",
       "      <td id=\"T_7a7ba_row7_col0\" class=\"data row7 col0\" >Numeric features</td>\n",
       "      <td id=\"T_7a7ba_row7_col1\" class=\"data row7 col1\" >23</td>\n",
       "    </tr>\n",
       "    <tr>\n",
       "      <th id=\"T_7a7ba_level0_row8\" class=\"row_heading level0 row8\" >8</th>\n",
       "      <td id=\"T_7a7ba_row8_col0\" class=\"data row8 col0\" >Preprocess</td>\n",
       "      <td id=\"T_7a7ba_row8_col1\" class=\"data row8 col1\" >True</td>\n",
       "    </tr>\n",
       "    <tr>\n",
       "      <th id=\"T_7a7ba_level0_row9\" class=\"row_heading level0 row9\" >9</th>\n",
       "      <td id=\"T_7a7ba_row9_col0\" class=\"data row9 col0\" >Imputation type</td>\n",
       "      <td id=\"T_7a7ba_row9_col1\" class=\"data row9 col1\" >simple</td>\n",
       "    </tr>\n",
       "    <tr>\n",
       "      <th id=\"T_7a7ba_level0_row10\" class=\"row_heading level0 row10\" >10</th>\n",
       "      <td id=\"T_7a7ba_row10_col0\" class=\"data row10 col0\" >Numeric imputation</td>\n",
       "      <td id=\"T_7a7ba_row10_col1\" class=\"data row10 col1\" >mean</td>\n",
       "    </tr>\n",
       "    <tr>\n",
       "      <th id=\"T_7a7ba_level0_row11\" class=\"row_heading level0 row11\" >11</th>\n",
       "      <td id=\"T_7a7ba_row11_col0\" class=\"data row11 col0\" >Categorical imputation</td>\n",
       "      <td id=\"T_7a7ba_row11_col1\" class=\"data row11 col1\" >mode</td>\n",
       "    </tr>\n",
       "    <tr>\n",
       "      <th id=\"T_7a7ba_level0_row12\" class=\"row_heading level0 row12\" >12</th>\n",
       "      <td id=\"T_7a7ba_row12_col0\" class=\"data row12 col0\" >Fold Generator</td>\n",
       "      <td id=\"T_7a7ba_row12_col1\" class=\"data row12 col1\" >StratifiedKFold</td>\n",
       "    </tr>\n",
       "    <tr>\n",
       "      <th id=\"T_7a7ba_level0_row13\" class=\"row_heading level0 row13\" >13</th>\n",
       "      <td id=\"T_7a7ba_row13_col0\" class=\"data row13 col0\" >Fold Number</td>\n",
       "      <td id=\"T_7a7ba_row13_col1\" class=\"data row13 col1\" >10</td>\n",
       "    </tr>\n",
       "    <tr>\n",
       "      <th id=\"T_7a7ba_level0_row14\" class=\"row_heading level0 row14\" >14</th>\n",
       "      <td id=\"T_7a7ba_row14_col0\" class=\"data row14 col0\" >CPU Jobs</td>\n",
       "      <td id=\"T_7a7ba_row14_col1\" class=\"data row14 col1\" >-1</td>\n",
       "    </tr>\n",
       "    <tr>\n",
       "      <th id=\"T_7a7ba_level0_row15\" class=\"row_heading level0 row15\" >15</th>\n",
       "      <td id=\"T_7a7ba_row15_col0\" class=\"data row15 col0\" >Use GPU</td>\n",
       "      <td id=\"T_7a7ba_row15_col1\" class=\"data row15 col1\" >False</td>\n",
       "    </tr>\n",
       "    <tr>\n",
       "      <th id=\"T_7a7ba_level0_row16\" class=\"row_heading level0 row16\" >16</th>\n",
       "      <td id=\"T_7a7ba_row16_col0\" class=\"data row16 col0\" >Log Experiment</td>\n",
       "      <td id=\"T_7a7ba_row16_col1\" class=\"data row16 col1\" >False</td>\n",
       "    </tr>\n",
       "    <tr>\n",
       "      <th id=\"T_7a7ba_level0_row17\" class=\"row_heading level0 row17\" >17</th>\n",
       "      <td id=\"T_7a7ba_row17_col0\" class=\"data row17 col0\" >Experiment Name</td>\n",
       "      <td id=\"T_7a7ba_row17_col1\" class=\"data row17 col1\" >clf-default-name</td>\n",
       "    </tr>\n",
       "    <tr>\n",
       "      <th id=\"T_7a7ba_level0_row18\" class=\"row_heading level0 row18\" >18</th>\n",
       "      <td id=\"T_7a7ba_row18_col0\" class=\"data row18 col0\" >USI</td>\n",
       "      <td id=\"T_7a7ba_row18_col1\" class=\"data row18 col1\" >481e</td>\n",
       "    </tr>\n",
       "  </tbody>\n",
       "</table>\n"
      ],
      "text/plain": [
       "<pandas.io.formats.style.Styler at 0x17be5a2fb80>"
      ]
     },
     "metadata": {},
     "output_type": "display_data"
    }
   ],
   "source": [
    "from pycaret.classification import *\n",
    "\n",
    "# Configuração do experimento\n",
    "clf_setup = setup(data=data, target='DEFAULT', session_id=123)"
   ]
  },
  {
   "cell_type": "code",
   "execution_count": 8,
   "metadata": {},
   "outputs": [
    {
     "data": {
      "text/html": [],
      "text/plain": [
       "<IPython.core.display.HTML object>"
      ]
     },
     "metadata": {},
     "output_type": "display_data"
    },
    {
     "data": {
      "text/html": [
       "<style type=\"text/css\">\n",
       "#T_408d3 th {\n",
       "  text-align: left;\n",
       "}\n",
       "#T_408d3_row0_col0, #T_408d3_row0_col3, #T_408d3_row0_col4, #T_408d3_row1_col0, #T_408d3_row1_col1, #T_408d3_row1_col2, #T_408d3_row1_col3, #T_408d3_row1_col4, #T_408d3_row1_col5, #T_408d3_row1_col6, #T_408d3_row1_col7, #T_408d3_row2_col0, #T_408d3_row2_col1, #T_408d3_row2_col2, #T_408d3_row2_col3, #T_408d3_row2_col4, #T_408d3_row2_col5, #T_408d3_row2_col6, #T_408d3_row2_col7, #T_408d3_row3_col0, #T_408d3_row3_col1, #T_408d3_row3_col2, #T_408d3_row3_col3, #T_408d3_row3_col4, #T_408d3_row3_col5, #T_408d3_row3_col6, #T_408d3_row3_col7, #T_408d3_row4_col0, #T_408d3_row4_col1, #T_408d3_row4_col2, #T_408d3_row4_col3, #T_408d3_row4_col4, #T_408d3_row4_col5, #T_408d3_row4_col6, #T_408d3_row4_col7, #T_408d3_row5_col0, #T_408d3_row5_col1, #T_408d3_row5_col2, #T_408d3_row5_col3, #T_408d3_row5_col4, #T_408d3_row5_col5, #T_408d3_row5_col6, #T_408d3_row5_col7, #T_408d3_row6_col0, #T_408d3_row6_col1, #T_408d3_row6_col2, #T_408d3_row6_col3, #T_408d3_row6_col5, #T_408d3_row6_col6, #T_408d3_row6_col7, #T_408d3_row7_col0, #T_408d3_row7_col1, #T_408d3_row7_col2, #T_408d3_row7_col3, #T_408d3_row7_col4, #T_408d3_row7_col5, #T_408d3_row7_col6, #T_408d3_row7_col7, #T_408d3_row8_col0, #T_408d3_row8_col1, #T_408d3_row8_col2, #T_408d3_row8_col3, #T_408d3_row8_col4, #T_408d3_row8_col5, #T_408d3_row8_col6, #T_408d3_row8_col7, #T_408d3_row9_col0, #T_408d3_row9_col1, #T_408d3_row9_col2, #T_408d3_row9_col3, #T_408d3_row9_col4, #T_408d3_row9_col5, #T_408d3_row9_col6, #T_408d3_row9_col7, #T_408d3_row10_col0, #T_408d3_row10_col1, #T_408d3_row10_col2, #T_408d3_row10_col3, #T_408d3_row10_col4, #T_408d3_row10_col5, #T_408d3_row10_col6, #T_408d3_row10_col7, #T_408d3_row11_col0, #T_408d3_row11_col1, #T_408d3_row11_col2, #T_408d3_row11_col3, #T_408d3_row11_col4, #T_408d3_row11_col5, #T_408d3_row11_col6, #T_408d3_row11_col7, #T_408d3_row12_col0, #T_408d3_row12_col1, #T_408d3_row12_col2, #T_408d3_row12_col3, #T_408d3_row12_col4, #T_408d3_row12_col5, #T_408d3_row12_col6, #T_408d3_row12_col7, #T_408d3_row13_col0, #T_408d3_row13_col1, #T_408d3_row13_col2, #T_408d3_row13_col4, #T_408d3_row13_col5, #T_408d3_row13_col6, #T_408d3_row13_col7 {\n",
       "  text-align: left;\n",
       "}\n",
       "#T_408d3_row0_col1, #T_408d3_row0_col2, #T_408d3_row0_col5, #T_408d3_row0_col6, #T_408d3_row0_col7, #T_408d3_row6_col4, #T_408d3_row13_col3 {\n",
       "  text-align: left;\n",
       "  background-color: yellow;\n",
       "}\n",
       "#T_408d3_row0_col8, #T_408d3_row1_col8, #T_408d3_row2_col8, #T_408d3_row3_col8, #T_408d3_row4_col8, #T_408d3_row5_col8, #T_408d3_row7_col8, #T_408d3_row8_col8, #T_408d3_row9_col8, #T_408d3_row10_col8, #T_408d3_row11_col8, #T_408d3_row12_col8, #T_408d3_row13_col8 {\n",
       "  text-align: left;\n",
       "  background-color: lightgrey;\n",
       "}\n",
       "#T_408d3_row6_col8 {\n",
       "  text-align: left;\n",
       "  background-color: yellow;\n",
       "  background-color: lightgrey;\n",
       "}\n",
       "</style>\n",
       "<table id=\"T_408d3\">\n",
       "  <thead>\n",
       "    <tr>\n",
       "      <th class=\"blank level0\" >&nbsp;</th>\n",
       "      <th id=\"T_408d3_level0_col0\" class=\"col_heading level0 col0\" >Model</th>\n",
       "      <th id=\"T_408d3_level0_col1\" class=\"col_heading level0 col1\" >Accuracy</th>\n",
       "      <th id=\"T_408d3_level0_col2\" class=\"col_heading level0 col2\" >AUC</th>\n",
       "      <th id=\"T_408d3_level0_col3\" class=\"col_heading level0 col3\" >Recall</th>\n",
       "      <th id=\"T_408d3_level0_col4\" class=\"col_heading level0 col4\" >Prec.</th>\n",
       "      <th id=\"T_408d3_level0_col5\" class=\"col_heading level0 col5\" >F1</th>\n",
       "      <th id=\"T_408d3_level0_col6\" class=\"col_heading level0 col6\" >Kappa</th>\n",
       "      <th id=\"T_408d3_level0_col7\" class=\"col_heading level0 col7\" >MCC</th>\n",
       "      <th id=\"T_408d3_level0_col8\" class=\"col_heading level0 col8\" >TT (Sec)</th>\n",
       "    </tr>\n",
       "  </thead>\n",
       "  <tbody>\n",
       "    <tr>\n",
       "      <th id=\"T_408d3_level0_row0\" class=\"row_heading level0 row0\" >gbc</th>\n",
       "      <td id=\"T_408d3_row0_col0\" class=\"data row0 col0\" >Gradient Boosting Classifier</td>\n",
       "      <td id=\"T_408d3_row0_col1\" class=\"data row0 col1\" >0.8202</td>\n",
       "      <td id=\"T_408d3_row0_col2\" class=\"data row0 col2\" >0.7788</td>\n",
       "      <td id=\"T_408d3_row0_col3\" class=\"data row0 col3\" >0.3645</td>\n",
       "      <td id=\"T_408d3_row0_col4\" class=\"data row0 col4\" >0.6731</td>\n",
       "      <td id=\"T_408d3_row0_col5\" class=\"data row0 col5\" >0.4727</td>\n",
       "      <td id=\"T_408d3_row0_col6\" class=\"data row0 col6\" >0.3757</td>\n",
       "      <td id=\"T_408d3_row0_col7\" class=\"data row0 col7\" >0.4015</td>\n",
       "      <td id=\"T_408d3_row0_col8\" class=\"data row0 col8\" >2.2720</td>\n",
       "    </tr>\n",
       "    <tr>\n",
       "      <th id=\"T_408d3_level0_row1\" class=\"row_heading level0 row1\" >lightgbm</th>\n",
       "      <td id=\"T_408d3_row1_col0\" class=\"data row1 col0\" >Light Gradient Boosting Machine</td>\n",
       "      <td id=\"T_408d3_row1_col1\" class=\"data row1 col1\" >0.8177</td>\n",
       "      <td id=\"T_408d3_row1_col2\" class=\"data row1 col2\" >0.7762</td>\n",
       "      <td id=\"T_408d3_row1_col3\" class=\"data row1 col3\" >0.3597</td>\n",
       "      <td id=\"T_408d3_row1_col4\" class=\"data row1 col4\" >0.6624</td>\n",
       "      <td id=\"T_408d3_row1_col5\" class=\"data row1 col5\" >0.4661</td>\n",
       "      <td id=\"T_408d3_row1_col6\" class=\"data row1 col6\" >0.3676</td>\n",
       "      <td id=\"T_408d3_row1_col7\" class=\"data row1 col7\" >0.3926</td>\n",
       "      <td id=\"T_408d3_row1_col8\" class=\"data row1 col8\" >0.2590</td>\n",
       "    </tr>\n",
       "    <tr>\n",
       "      <th id=\"T_408d3_level0_row2\" class=\"row_heading level0 row2\" >rf</th>\n",
       "      <td id=\"T_408d3_row2_col0\" class=\"data row2 col0\" >Random Forest Classifier</td>\n",
       "      <td id=\"T_408d3_row2_col1\" class=\"data row2 col1\" >0.8154</td>\n",
       "      <td id=\"T_408d3_row2_col2\" class=\"data row2 col2\" >0.7644</td>\n",
       "      <td id=\"T_408d3_row2_col3\" class=\"data row2 col3\" >0.3677</td>\n",
       "      <td id=\"T_408d3_row2_col4\" class=\"data row2 col4\" >0.6459</td>\n",
       "      <td id=\"T_408d3_row2_col5\" class=\"data row2 col5\" >0.4684</td>\n",
       "      <td id=\"T_408d3_row2_col6\" class=\"data row2 col6\" >0.3667</td>\n",
       "      <td id=\"T_408d3_row2_col7\" class=\"data row2 col7\" >0.3882</td>\n",
       "      <td id=\"T_408d3_row2_col8\" class=\"data row2 col8\" >1.1790</td>\n",
       "    </tr>\n",
       "    <tr>\n",
       "      <th id=\"T_408d3_level0_row3\" class=\"row_heading level0 row3\" >ada</th>\n",
       "      <td id=\"T_408d3_row3_col0\" class=\"data row3 col0\" >Ada Boost Classifier</td>\n",
       "      <td id=\"T_408d3_row3_col1\" class=\"data row3 col1\" >0.8150</td>\n",
       "      <td id=\"T_408d3_row3_col2\" class=\"data row3 col2\" >0.7718</td>\n",
       "      <td id=\"T_408d3_row3_col3\" class=\"data row3 col3\" >0.3160</td>\n",
       "      <td id=\"T_408d3_row3_col4\" class=\"data row3 col4\" >0.6738</td>\n",
       "      <td id=\"T_408d3_row3_col5\" class=\"data row3 col5\" >0.4300</td>\n",
       "      <td id=\"T_408d3_row3_col6\" class=\"data row3 col6\" >0.3365</td>\n",
       "      <td id=\"T_408d3_row3_col7\" class=\"data row3 col7\" >0.3710</td>\n",
       "      <td id=\"T_408d3_row3_col8\" class=\"data row3 col8\" >0.5590</td>\n",
       "    </tr>\n",
       "    <tr>\n",
       "      <th id=\"T_408d3_level0_row4\" class=\"row_heading level0 row4\" >lda</th>\n",
       "      <td id=\"T_408d3_row4_col0\" class=\"data row4 col0\" >Linear Discriminant Analysis</td>\n",
       "      <td id=\"T_408d3_row4_col1\" class=\"data row4 col1\" >0.8101</td>\n",
       "      <td id=\"T_408d3_row4_col2\" class=\"data row4 col2\" >0.7145</td>\n",
       "      <td id=\"T_408d3_row4_col3\" class=\"data row4 col3\" >0.2506</td>\n",
       "      <td id=\"T_408d3_row4_col4\" class=\"data row4 col4\" >0.6962</td>\n",
       "      <td id=\"T_408d3_row4_col5\" class=\"data row4 col5\" >0.3684</td>\n",
       "      <td id=\"T_408d3_row4_col6\" class=\"data row4 col6\" >0.2849</td>\n",
       "      <td id=\"T_408d3_row4_col7\" class=\"data row4 col7\" >0.3367</td>\n",
       "      <td id=\"T_408d3_row4_col8\" class=\"data row4 col8\" >0.0680</td>\n",
       "    </tr>\n",
       "    <tr>\n",
       "      <th id=\"T_408d3_level0_row5\" class=\"row_heading level0 row5\" >et</th>\n",
       "      <td id=\"T_408d3_row5_col0\" class=\"data row5 col0\" >Extra Trees Classifier</td>\n",
       "      <td id=\"T_408d3_row5_col1\" class=\"data row5 col1\" >0.8095</td>\n",
       "      <td id=\"T_408d3_row5_col2\" class=\"data row5 col2\" >0.7522</td>\n",
       "      <td id=\"T_408d3_row5_col3\" class=\"data row5 col3\" >0.3604</td>\n",
       "      <td id=\"T_408d3_row5_col4\" class=\"data row5 col4\" >0.6197</td>\n",
       "      <td id=\"T_408d3_row5_col5\" class=\"data row5 col5\" >0.4556</td>\n",
       "      <td id=\"T_408d3_row5_col6\" class=\"data row5 col6\" >0.3498</td>\n",
       "      <td id=\"T_408d3_row5_col7\" class=\"data row5 col7\" >0.3688</td>\n",
       "      <td id=\"T_408d3_row5_col8\" class=\"data row5 col8\" >0.6550</td>\n",
       "    </tr>\n",
       "    <tr>\n",
       "      <th id=\"T_408d3_level0_row6\" class=\"row_heading level0 row6\" >ridge</th>\n",
       "      <td id=\"T_408d3_row6_col0\" class=\"data row6 col0\" >Ridge Classifier</td>\n",
       "      <td id=\"T_408d3_row6_col1\" class=\"data row6 col1\" >0.7985</td>\n",
       "      <td id=\"T_408d3_row6_col2\" class=\"data row6 col2\" >0.0000</td>\n",
       "      <td id=\"T_408d3_row6_col3\" class=\"data row6 col3\" >0.1436</td>\n",
       "      <td id=\"T_408d3_row6_col4\" class=\"data row6 col4\" >0.7239</td>\n",
       "      <td id=\"T_408d3_row6_col5\" class=\"data row6 col5\" >0.2393</td>\n",
       "      <td id=\"T_408d3_row6_col6\" class=\"data row6 col6\" >0.1794</td>\n",
       "      <td id=\"T_408d3_row6_col7\" class=\"data row6 col7\" >0.2592</td>\n",
       "      <td id=\"T_408d3_row6_col8\" class=\"data row6 col8\" >0.0420</td>\n",
       "    </tr>\n",
       "    <tr>\n",
       "      <th id=\"T_408d3_level0_row7\" class=\"row_heading level0 row7\" >lr</th>\n",
       "      <td id=\"T_408d3_row7_col0\" class=\"data row7 col0\" >Logistic Regression</td>\n",
       "      <td id=\"T_408d3_row7_col1\" class=\"data row7 col1\" >0.7788</td>\n",
       "      <td id=\"T_408d3_row7_col2\" class=\"data row7 col2\" >0.6450</td>\n",
       "      <td id=\"T_408d3_row7_col3\" class=\"data row7 col3\" >0.0000</td>\n",
       "      <td id=\"T_408d3_row7_col4\" class=\"data row7 col4\" >0.0000</td>\n",
       "      <td id=\"T_408d3_row7_col5\" class=\"data row7 col5\" >0.0000</td>\n",
       "      <td id=\"T_408d3_row7_col6\" class=\"data row7 col6\" >0.0000</td>\n",
       "      <td id=\"T_408d3_row7_col7\" class=\"data row7 col7\" >0.0000</td>\n",
       "      <td id=\"T_408d3_row7_col8\" class=\"data row7 col8\" >0.5600</td>\n",
       "    </tr>\n",
       "    <tr>\n",
       "      <th id=\"T_408d3_level0_row8\" class=\"row_heading level0 row8\" >dummy</th>\n",
       "      <td id=\"T_408d3_row8_col0\" class=\"data row8 col0\" >Dummy Classifier</td>\n",
       "      <td id=\"T_408d3_row8_col1\" class=\"data row8 col1\" >0.7788</td>\n",
       "      <td id=\"T_408d3_row8_col2\" class=\"data row8 col2\" >0.5000</td>\n",
       "      <td id=\"T_408d3_row8_col3\" class=\"data row8 col3\" >0.0000</td>\n",
       "      <td id=\"T_408d3_row8_col4\" class=\"data row8 col4\" >0.0000</td>\n",
       "      <td id=\"T_408d3_row8_col5\" class=\"data row8 col5\" >0.0000</td>\n",
       "      <td id=\"T_408d3_row8_col6\" class=\"data row8 col6\" >0.0000</td>\n",
       "      <td id=\"T_408d3_row8_col7\" class=\"data row8 col7\" >0.0000</td>\n",
       "      <td id=\"T_408d3_row8_col8\" class=\"data row8 col8\" >0.0780</td>\n",
       "    </tr>\n",
       "    <tr>\n",
       "      <th id=\"T_408d3_level0_row9\" class=\"row_heading level0 row9\" >knn</th>\n",
       "      <td id=\"T_408d3_row9_col0\" class=\"data row9 col0\" >K Neighbors Classifier</td>\n",
       "      <td id=\"T_408d3_row9_col1\" class=\"data row9 col1\" >0.7500</td>\n",
       "      <td id=\"T_408d3_row9_col2\" class=\"data row9 col2\" >0.5993</td>\n",
       "      <td id=\"T_408d3_row9_col3\" class=\"data row9 col3\" >0.1681</td>\n",
       "      <td id=\"T_408d3_row9_col4\" class=\"data row9 col4\" >0.3592</td>\n",
       "      <td id=\"T_408d3_row9_col5\" class=\"data row9 col5\" >0.2289</td>\n",
       "      <td id=\"T_408d3_row9_col6\" class=\"data row9 col6\" >0.1028</td>\n",
       "      <td id=\"T_408d3_row9_col7\" class=\"data row9 col7\" >0.1133</td>\n",
       "      <td id=\"T_408d3_row9_col8\" class=\"data row9 col8\" >1.9130</td>\n",
       "    </tr>\n",
       "    <tr>\n",
       "      <th id=\"T_408d3_level0_row10\" class=\"row_heading level0 row10\" >svm</th>\n",
       "      <td id=\"T_408d3_row10_col0\" class=\"data row10 col0\" >SVM - Linear Kernel</td>\n",
       "      <td id=\"T_408d3_row10_col1\" class=\"data row10 col1\" >0.7340</td>\n",
       "      <td id=\"T_408d3_row10_col2\" class=\"data row10 col2\" >0.0000</td>\n",
       "      <td id=\"T_408d3_row10_col3\" class=\"data row10 col3\" >0.0741</td>\n",
       "      <td id=\"T_408d3_row10_col4\" class=\"data row10 col4\" >0.0687</td>\n",
       "      <td id=\"T_408d3_row10_col5\" class=\"data row10 col5\" >0.0648</td>\n",
       "      <td id=\"T_408d3_row10_col6\" class=\"data row10 col6\" >-0.0018</td>\n",
       "      <td id=\"T_408d3_row10_col7\" class=\"data row10 col7\" >-0.0033</td>\n",
       "      <td id=\"T_408d3_row10_col8\" class=\"data row10 col8\" >0.1290</td>\n",
       "    </tr>\n",
       "    <tr>\n",
       "      <th id=\"T_408d3_level0_row11\" class=\"row_heading level0 row11\" >dt</th>\n",
       "      <td id=\"T_408d3_row11_col0\" class=\"data row11 col0\" >Decision Tree Classifier</td>\n",
       "      <td id=\"T_408d3_row11_col1\" class=\"data row11 col1\" >0.7279</td>\n",
       "      <td id=\"T_408d3_row11_col2\" class=\"data row11 col2\" >0.6161</td>\n",
       "      <td id=\"T_408d3_row11_col3\" class=\"data row11 col3\" >0.4148</td>\n",
       "      <td id=\"T_408d3_row11_col4\" class=\"data row11 col4\" >0.3919</td>\n",
       "      <td id=\"T_408d3_row11_col5\" class=\"data row11 col5\" >0.4028</td>\n",
       "      <td id=\"T_408d3_row11_col6\" class=\"data row11 col6\" >0.2269</td>\n",
       "      <td id=\"T_408d3_row11_col7\" class=\"data row11 col7\" >0.2272</td>\n",
       "      <td id=\"T_408d3_row11_col8\" class=\"data row11 col8\" >0.1470</td>\n",
       "    </tr>\n",
       "    <tr>\n",
       "      <th id=\"T_408d3_level0_row12\" class=\"row_heading level0 row12\" >qda</th>\n",
       "      <td id=\"T_408d3_row12_col0\" class=\"data row12 col0\" >Quadratic Discriminant Analysis</td>\n",
       "      <td id=\"T_408d3_row12_col1\" class=\"data row12 col1\" >0.4483</td>\n",
       "      <td id=\"T_408d3_row12_col2\" class=\"data row12 col2\" >0.7176</td>\n",
       "      <td id=\"T_408d3_row12_col3\" class=\"data row12 col3\" >0.8512</td>\n",
       "      <td id=\"T_408d3_row12_col4\" class=\"data row12 col4\" >0.2665</td>\n",
       "      <td id=\"T_408d3_row12_col5\" class=\"data row12 col5\" >0.4059</td>\n",
       "      <td id=\"T_408d3_row12_col6\" class=\"data row12 col6\" >0.1040</td>\n",
       "      <td id=\"T_408d3_row12_col7\" class=\"data row12 col7\" >0.1688</td>\n",
       "      <td id=\"T_408d3_row12_col8\" class=\"data row12 col8\" >0.0760</td>\n",
       "    </tr>\n",
       "    <tr>\n",
       "      <th id=\"T_408d3_level0_row13\" class=\"row_heading level0 row13\" >nb</th>\n",
       "      <td id=\"T_408d3_row13_col0\" class=\"data row13 col0\" >Naive Bayes</td>\n",
       "      <td id=\"T_408d3_row13_col1\" class=\"data row13 col1\" >0.3682</td>\n",
       "      <td id=\"T_408d3_row13_col2\" class=\"data row13 col2\" >0.6705</td>\n",
       "      <td id=\"T_408d3_row13_col3\" class=\"data row13 col3\" >0.8934</td>\n",
       "      <td id=\"T_408d3_row13_col4\" class=\"data row13 col4\" >0.2452</td>\n",
       "      <td id=\"T_408d3_row13_col5\" class=\"data row13 col5\" >0.3848</td>\n",
       "      <td id=\"T_408d3_row13_col6\" class=\"data row13 col6\" >0.0578</td>\n",
       "      <td id=\"T_408d3_row13_col7\" class=\"data row13 col7\" >0.1181</td>\n",
       "      <td id=\"T_408d3_row13_col8\" class=\"data row13 col8\" >0.0450</td>\n",
       "    </tr>\n",
       "  </tbody>\n",
       "</table>\n"
      ],
      "text/plain": [
       "<pandas.io.formats.style.Styler at 0x17bcd940430>"
      ]
     },
     "metadata": {},
     "output_type": "display_data"
    },
    {
     "data": {
      "text/html": [],
      "text/plain": [
       "<IPython.core.display.HTML object>"
      ]
     },
     "metadata": {},
     "output_type": "display_data"
    }
   ],
   "source": [
    "# Comparar diferentes modelos de classificação\n",
    "best_model = compare_models()"
   ]
  },
  {
   "cell_type": "code",
   "execution_count": 9,
   "metadata": {},
   "outputs": [
    {
     "data": {
      "text/html": [],
      "text/plain": [
       "<IPython.core.display.HTML object>"
      ]
     },
     "metadata": {},
     "output_type": "display_data"
    },
    {
     "data": {
      "text/html": [
       "<style type=\"text/css\">\n",
       "#T_6898f_row10_col0, #T_6898f_row10_col1, #T_6898f_row10_col2, #T_6898f_row10_col3, #T_6898f_row10_col4, #T_6898f_row10_col5, #T_6898f_row10_col6 {\n",
       "  background: yellow;\n",
       "}\n",
       "</style>\n",
       "<table id=\"T_6898f\">\n",
       "  <thead>\n",
       "    <tr>\n",
       "      <th class=\"blank level0\" >&nbsp;</th>\n",
       "      <th id=\"T_6898f_level0_col0\" class=\"col_heading level0 col0\" >Accuracy</th>\n",
       "      <th id=\"T_6898f_level0_col1\" class=\"col_heading level0 col1\" >AUC</th>\n",
       "      <th id=\"T_6898f_level0_col2\" class=\"col_heading level0 col2\" >Recall</th>\n",
       "      <th id=\"T_6898f_level0_col3\" class=\"col_heading level0 col3\" >Prec.</th>\n",
       "      <th id=\"T_6898f_level0_col4\" class=\"col_heading level0 col4\" >F1</th>\n",
       "      <th id=\"T_6898f_level0_col5\" class=\"col_heading level0 col5\" >Kappa</th>\n",
       "      <th id=\"T_6898f_level0_col6\" class=\"col_heading level0 col6\" >MCC</th>\n",
       "    </tr>\n",
       "    <tr>\n",
       "      <th class=\"index_name level0\" >Fold</th>\n",
       "      <th class=\"blank col0\" >&nbsp;</th>\n",
       "      <th class=\"blank col1\" >&nbsp;</th>\n",
       "      <th class=\"blank col2\" >&nbsp;</th>\n",
       "      <th class=\"blank col3\" >&nbsp;</th>\n",
       "      <th class=\"blank col4\" >&nbsp;</th>\n",
       "      <th class=\"blank col5\" >&nbsp;</th>\n",
       "      <th class=\"blank col6\" >&nbsp;</th>\n",
       "    </tr>\n",
       "  </thead>\n",
       "  <tbody>\n",
       "    <tr>\n",
       "      <th id=\"T_6898f_level0_row0\" class=\"row_heading level0 row0\" >0</th>\n",
       "      <td id=\"T_6898f_row0_col0\" class=\"data row0 col0\" >0.8171</td>\n",
       "      <td id=\"T_6898f_row0_col1\" class=\"data row0 col1\" >0.7844</td>\n",
       "      <td id=\"T_6898f_row0_col2\" class=\"data row0 col2\" >0.3793</td>\n",
       "      <td id=\"T_6898f_row0_col3\" class=\"data row0 col3\" >0.6471</td>\n",
       "      <td id=\"T_6898f_row0_col4\" class=\"data row0 col4\" >0.4783</td>\n",
       "      <td id=\"T_6898f_row0_col5\" class=\"data row0 col5\" >0.3764</td>\n",
       "      <td id=\"T_6898f_row0_col6\" class=\"data row0 col6\" >0.3962</td>\n",
       "    </tr>\n",
       "    <tr>\n",
       "      <th id=\"T_6898f_level0_row1\" class=\"row_heading level0 row1\" >1</th>\n",
       "      <td id=\"T_6898f_row1_col0\" class=\"data row1 col0\" >0.8295</td>\n",
       "      <td id=\"T_6898f_row1_col1\" class=\"data row1 col1\" >0.7879</td>\n",
       "      <td id=\"T_6898f_row1_col2\" class=\"data row1 col2\" >0.3858</td>\n",
       "      <td id=\"T_6898f_row1_col3\" class=\"data row1 col3\" >0.7103</td>\n",
       "      <td id=\"T_6898f_row1_col4\" class=\"data row1 col4\" >0.5000</td>\n",
       "      <td id=\"T_6898f_row1_col5\" class=\"data row1 col5\" >0.4079</td>\n",
       "      <td id=\"T_6898f_row1_col6\" class=\"data row1 col6\" >0.4356</td>\n",
       "    </tr>\n",
       "    <tr>\n",
       "      <th id=\"T_6898f_level0_row2\" class=\"row_heading level0 row2\" >2</th>\n",
       "      <td id=\"T_6898f_row2_col0\" class=\"data row2 col0\" >0.8167</td>\n",
       "      <td id=\"T_6898f_row2_col1\" class=\"data row2 col1\" >0.7751</td>\n",
       "      <td id=\"T_6898f_row2_col2\" class=\"data row2 col2\" >0.3578</td>\n",
       "      <td id=\"T_6898f_row2_col3\" class=\"data row2 col3\" >0.6561</td>\n",
       "      <td id=\"T_6898f_row2_col4\" class=\"data row2 col4\" >0.4630</td>\n",
       "      <td id=\"T_6898f_row2_col5\" class=\"data row2 col5\" >0.3638</td>\n",
       "      <td id=\"T_6898f_row2_col6\" class=\"data row2 col6\" >0.3882</td>\n",
       "    </tr>\n",
       "    <tr>\n",
       "      <th id=\"T_6898f_level0_row3\" class=\"row_heading level0 row3\" >3</th>\n",
       "      <td id=\"T_6898f_row3_col0\" class=\"data row3 col0\" >0.8110</td>\n",
       "      <td id=\"T_6898f_row3_col1\" class=\"data row3 col1\" >0.7525</td>\n",
       "      <td id=\"T_6898f_row3_col2\" class=\"data row3 col2\" >0.3276</td>\n",
       "      <td id=\"T_6898f_row3_col3\" class=\"data row3 col3\" >0.6414</td>\n",
       "      <td id=\"T_6898f_row3_col4\" class=\"data row3 col4\" >0.4337</td>\n",
       "      <td id=\"T_6898f_row3_col5\" class=\"data row3 col5\" >0.3342</td>\n",
       "      <td id=\"T_6898f_row3_col6\" class=\"data row3 col6\" >0.3614</td>\n",
       "    </tr>\n",
       "    <tr>\n",
       "      <th id=\"T_6898f_level0_row4\" class=\"row_heading level0 row4\" >4</th>\n",
       "      <td id=\"T_6898f_row4_col0\" class=\"data row4 col0\" >0.8243</td>\n",
       "      <td id=\"T_6898f_row4_col1\" class=\"data row4 col1\" >0.7829</td>\n",
       "      <td id=\"T_6898f_row4_col2\" class=\"data row4 col2\" >0.3664</td>\n",
       "      <td id=\"T_6898f_row4_col3\" class=\"data row4 col3\" >0.6939</td>\n",
       "      <td id=\"T_6898f_row4_col4\" class=\"data row4 col4\" >0.4795</td>\n",
       "      <td id=\"T_6898f_row4_col5\" class=\"data row4 col5\" >0.3858</td>\n",
       "      <td id=\"T_6898f_row4_col6\" class=\"data row4 col6\" >0.4143</td>\n",
       "    </tr>\n",
       "    <tr>\n",
       "      <th id=\"T_6898f_level0_row5\" class=\"row_heading level0 row5\" >5</th>\n",
       "      <td id=\"T_6898f_row5_col0\" class=\"data row5 col0\" >0.8224</td>\n",
       "      <td id=\"T_6898f_row5_col1\" class=\"data row5 col1\" >0.7802</td>\n",
       "      <td id=\"T_6898f_row5_col2\" class=\"data row5 col2\" >0.3849</td>\n",
       "      <td id=\"T_6898f_row5_col3\" class=\"data row5 col3\" >0.6729</td>\n",
       "      <td id=\"T_6898f_row5_col4\" class=\"data row5 col4\" >0.4897</td>\n",
       "      <td id=\"T_6898f_row5_col5\" class=\"data row5 col5\" >0.3917</td>\n",
       "      <td id=\"T_6898f_row5_col6\" class=\"data row5 col6\" >0.4141</td>\n",
       "    </tr>\n",
       "    <tr>\n",
       "      <th id=\"T_6898f_level0_row6\" class=\"row_heading level0 row6\" >6</th>\n",
       "      <td id=\"T_6898f_row6_col0\" class=\"data row6 col0\" >0.8090</td>\n",
       "      <td id=\"T_6898f_row6_col1\" class=\"data row6 col1\" >0.7760</td>\n",
       "      <td id=\"T_6898f_row6_col2\" class=\"data row6 col2\" >0.3505</td>\n",
       "      <td id=\"T_6898f_row6_col3\" class=\"data row6 col3\" >0.6221</td>\n",
       "      <td id=\"T_6898f_row6_col4\" class=\"data row6 col4\" >0.4484</td>\n",
       "      <td id=\"T_6898f_row6_col5\" class=\"data row6 col5\" >0.3437</td>\n",
       "      <td id=\"T_6898f_row6_col6\" class=\"data row6 col6\" >0.3644</td>\n",
       "    </tr>\n",
       "    <tr>\n",
       "      <th id=\"T_6898f_level0_row7\" class=\"row_heading level0 row7\" >7</th>\n",
       "      <td id=\"T_6898f_row7_col0\" class=\"data row7 col0\" >0.8262</td>\n",
       "      <td id=\"T_6898f_row7_col1\" class=\"data row7 col1\" >0.7956</td>\n",
       "      <td id=\"T_6898f_row7_col2\" class=\"data row7 col2\" >0.3806</td>\n",
       "      <td id=\"T_6898f_row7_col3\" class=\"data row7 col3\" >0.6969</td>\n",
       "      <td id=\"T_6898f_row7_col4\" class=\"data row7 col4\" >0.4924</td>\n",
       "      <td id=\"T_6898f_row7_col5\" class=\"data row7 col5\" >0.3982</td>\n",
       "      <td id=\"T_6898f_row7_col6\" class=\"data row7 col6\" >0.4247</td>\n",
       "    </tr>\n",
       "    <tr>\n",
       "      <th id=\"T_6898f_level0_row8\" class=\"row_heading level0 row8\" >8</th>\n",
       "      <td id=\"T_6898f_row8_col0\" class=\"data row8 col0\" >0.8243</td>\n",
       "      <td id=\"T_6898f_row8_col1\" class=\"data row8 col1\" >0.7840</td>\n",
       "      <td id=\"T_6898f_row8_col2\" class=\"data row8 col2\" >0.3634</td>\n",
       "      <td id=\"T_6898f_row8_col3\" class=\"data row8 col3\" >0.6983</td>\n",
       "      <td id=\"T_6898f_row8_col4\" class=\"data row8 col4\" >0.4781</td>\n",
       "      <td id=\"T_6898f_row8_col5\" class=\"data row8 col5\" >0.3848</td>\n",
       "      <td id=\"T_6898f_row8_col6\" class=\"data row8 col6\" >0.4145</td>\n",
       "    </tr>\n",
       "    <tr>\n",
       "      <th id=\"T_6898f_level0_row9\" class=\"row_heading level0 row9\" >9</th>\n",
       "      <td id=\"T_6898f_row9_col0\" class=\"data row9 col0\" >0.8214</td>\n",
       "      <td id=\"T_6898f_row9_col1\" class=\"data row9 col1\" >0.7698</td>\n",
       "      <td id=\"T_6898f_row9_col2\" class=\"data row9 col2\" >0.3484</td>\n",
       "      <td id=\"T_6898f_row9_col3\" class=\"data row9 col3\" >0.6923</td>\n",
       "      <td id=\"T_6898f_row9_col4\" class=\"data row9 col4\" >0.4635</td>\n",
       "      <td id=\"T_6898f_row9_col5\" class=\"data row9 col5\" >0.3701</td>\n",
       "      <td id=\"T_6898f_row9_col6\" class=\"data row9 col6\" >0.4016</td>\n",
       "    </tr>\n",
       "    <tr>\n",
       "      <th id=\"T_6898f_level0_row10\" class=\"row_heading level0 row10\" >Mean</th>\n",
       "      <td id=\"T_6898f_row10_col0\" class=\"data row10 col0\" >0.8202</td>\n",
       "      <td id=\"T_6898f_row10_col1\" class=\"data row10 col1\" >0.7788</td>\n",
       "      <td id=\"T_6898f_row10_col2\" class=\"data row10 col2\" >0.3645</td>\n",
       "      <td id=\"T_6898f_row10_col3\" class=\"data row10 col3\" >0.6731</td>\n",
       "      <td id=\"T_6898f_row10_col4\" class=\"data row10 col4\" >0.4727</td>\n",
       "      <td id=\"T_6898f_row10_col5\" class=\"data row10 col5\" >0.3757</td>\n",
       "      <td id=\"T_6898f_row10_col6\" class=\"data row10 col6\" >0.4015</td>\n",
       "    </tr>\n",
       "    <tr>\n",
       "      <th id=\"T_6898f_level0_row11\" class=\"row_heading level0 row11\" >Std</th>\n",
       "      <td id=\"T_6898f_row11_col0\" class=\"data row11 col0\" >0.0063</td>\n",
       "      <td id=\"T_6898f_row11_col1\" class=\"data row11 col1\" >0.0111</td>\n",
       "      <td id=\"T_6898f_row11_col2\" class=\"data row11 col2\" >0.0179</td>\n",
       "      <td id=\"T_6898f_row11_col3\" class=\"data row11 col3\" >0.0282</td>\n",
       "      <td id=\"T_6898f_row11_col4\" class=\"data row11 col4\" >0.0195</td>\n",
       "      <td id=\"T_6898f_row11_col5\" class=\"data row11 col5\" >0.0221</td>\n",
       "      <td id=\"T_6898f_row11_col6\" class=\"data row11 col6\" >0.0232</td>\n",
       "    </tr>\n",
       "  </tbody>\n",
       "</table>\n"
      ],
      "text/plain": [
       "<pandas.io.formats.style.Styler at 0x17be599c700>"
      ]
     },
     "metadata": {},
     "output_type": "display_data"
    },
    {
     "data": {
      "text/html": [],
      "text/plain": [
       "<IPython.core.display.HTML object>"
      ]
     },
     "metadata": {},
     "output_type": "display_data"
    }
   ],
   "source": [
    "# Criar o modelo com o melhor estimador\n",
    "model = create_model('gbc')"
   ]
  },
  {
   "cell_type": "code",
   "execution_count": 10,
   "metadata": {},
   "outputs": [
    {
     "data": {
      "text/html": [],
      "text/plain": [
       "<IPython.core.display.HTML object>"
      ]
     },
     "metadata": {},
     "output_type": "display_data"
    },
    {
     "data": {
      "text/html": [
       "<style type=\"text/css\">\n",
       "#T_09fb8_row10_col0, #T_09fb8_row10_col1, #T_09fb8_row10_col2, #T_09fb8_row10_col3, #T_09fb8_row10_col4, #T_09fb8_row10_col5, #T_09fb8_row10_col6 {\n",
       "  background: yellow;\n",
       "}\n",
       "</style>\n",
       "<table id=\"T_09fb8\">\n",
       "  <thead>\n",
       "    <tr>\n",
       "      <th class=\"blank level0\" >&nbsp;</th>\n",
       "      <th id=\"T_09fb8_level0_col0\" class=\"col_heading level0 col0\" >Accuracy</th>\n",
       "      <th id=\"T_09fb8_level0_col1\" class=\"col_heading level0 col1\" >AUC</th>\n",
       "      <th id=\"T_09fb8_level0_col2\" class=\"col_heading level0 col2\" >Recall</th>\n",
       "      <th id=\"T_09fb8_level0_col3\" class=\"col_heading level0 col3\" >Prec.</th>\n",
       "      <th id=\"T_09fb8_level0_col4\" class=\"col_heading level0 col4\" >F1</th>\n",
       "      <th id=\"T_09fb8_level0_col5\" class=\"col_heading level0 col5\" >Kappa</th>\n",
       "      <th id=\"T_09fb8_level0_col6\" class=\"col_heading level0 col6\" >MCC</th>\n",
       "    </tr>\n",
       "    <tr>\n",
       "      <th class=\"index_name level0\" >Fold</th>\n",
       "      <th class=\"blank col0\" >&nbsp;</th>\n",
       "      <th class=\"blank col1\" >&nbsp;</th>\n",
       "      <th class=\"blank col2\" >&nbsp;</th>\n",
       "      <th class=\"blank col3\" >&nbsp;</th>\n",
       "      <th class=\"blank col4\" >&nbsp;</th>\n",
       "      <th class=\"blank col5\" >&nbsp;</th>\n",
       "      <th class=\"blank col6\" >&nbsp;</th>\n",
       "    </tr>\n",
       "  </thead>\n",
       "  <tbody>\n",
       "    <tr>\n",
       "      <th id=\"T_09fb8_level0_row0\" class=\"row_heading level0 row0\" >0</th>\n",
       "      <td id=\"T_09fb8_row0_col0\" class=\"data row0 col0\" >0.8071</td>\n",
       "      <td id=\"T_09fb8_row0_col1\" class=\"data row0 col1\" >0.7870</td>\n",
       "      <td id=\"T_09fb8_row0_col2\" class=\"data row0 col2\" >0.2435</td>\n",
       "      <td id=\"T_09fb8_row0_col3\" class=\"data row0 col3\" >0.6766</td>\n",
       "      <td id=\"T_09fb8_row0_col4\" class=\"data row0 col4\" >0.3582</td>\n",
       "      <td id=\"T_09fb8_row0_col5\" class=\"data row0 col5\" >0.2732</td>\n",
       "      <td id=\"T_09fb8_row0_col6\" class=\"data row0 col6\" >0.3228</td>\n",
       "    </tr>\n",
       "    <tr>\n",
       "      <th id=\"T_09fb8_level0_row1\" class=\"row_heading level0 row1\" >1</th>\n",
       "      <td id=\"T_09fb8_row1_col0\" class=\"data row1 col0\" >0.8157</td>\n",
       "      <td id=\"T_09fb8_row1_col1\" class=\"data row1 col1\" >0.7836</td>\n",
       "      <td id=\"T_09fb8_row1_col2\" class=\"data row1 col2\" >0.2543</td>\n",
       "      <td id=\"T_09fb8_row1_col3\" class=\"data row1 col3\" >0.7421</td>\n",
       "      <td id=\"T_09fb8_row1_col4\" class=\"data row1 col4\" >0.3788</td>\n",
       "      <td id=\"T_09fb8_row1_col5\" class=\"data row1 col5\" >0.2998</td>\n",
       "      <td id=\"T_09fb8_row1_col6\" class=\"data row1 col6\" >0.3595</td>\n",
       "    </tr>\n",
       "    <tr>\n",
       "      <th id=\"T_09fb8_level0_row2\" class=\"row_heading level0 row2\" >2</th>\n",
       "      <td id=\"T_09fb8_row2_col0\" class=\"data row2 col0\" >0.8148</td>\n",
       "      <td id=\"T_09fb8_row2_col1\" class=\"data row2 col1\" >0.7788</td>\n",
       "      <td id=\"T_09fb8_row2_col2\" class=\"data row2 col2\" >0.2478</td>\n",
       "      <td id=\"T_09fb8_row2_col3\" class=\"data row2 col3\" >0.7419</td>\n",
       "      <td id=\"T_09fb8_row2_col4\" class=\"data row2 col4\" >0.3716</td>\n",
       "      <td id=\"T_09fb8_row2_col5\" class=\"data row2 col5\" >0.2934</td>\n",
       "      <td id=\"T_09fb8_row2_col6\" class=\"data row2 col6\" >0.3545</td>\n",
       "    </tr>\n",
       "    <tr>\n",
       "      <th id=\"T_09fb8_level0_row3\" class=\"row_heading level0 row3\" >3</th>\n",
       "      <td id=\"T_09fb8_row3_col0\" class=\"data row3 col0\" >0.8071</td>\n",
       "      <td id=\"T_09fb8_row3_col1\" class=\"data row3 col1\" >0.7505</td>\n",
       "      <td id=\"T_09fb8_row3_col2\" class=\"data row3 col2\" >0.2457</td>\n",
       "      <td id=\"T_09fb8_row3_col3\" class=\"data row3 col3\" >0.6746</td>\n",
       "      <td id=\"T_09fb8_row3_col4\" class=\"data row3 col4\" >0.3602</td>\n",
       "      <td id=\"T_09fb8_row3_col5\" class=\"data row3 col5\" >0.2746</td>\n",
       "      <td id=\"T_09fb8_row3_col6\" class=\"data row3 col6\" >0.3234</td>\n",
       "    </tr>\n",
       "    <tr>\n",
       "      <th id=\"T_09fb8_level0_row4\" class=\"row_heading level0 row4\" >4</th>\n",
       "      <td id=\"T_09fb8_row4_col0\" class=\"data row4 col0\" >0.8195</td>\n",
       "      <td id=\"T_09fb8_row4_col1\" class=\"data row4 col1\" >0.7868</td>\n",
       "      <td id=\"T_09fb8_row4_col2\" class=\"data row4 col2\" >0.2716</td>\n",
       "      <td id=\"T_09fb8_row4_col3\" class=\"data row4 col3\" >0.7545</td>\n",
       "      <td id=\"T_09fb8_row4_col4\" class=\"data row4 col4\" >0.3994</td>\n",
       "      <td id=\"T_09fb8_row4_col5\" class=\"data row4 col5\" >0.3198</td>\n",
       "      <td id=\"T_09fb8_row4_col6\" class=\"data row4 col6\" >0.3780</td>\n",
       "    </tr>\n",
       "    <tr>\n",
       "      <th id=\"T_09fb8_level0_row5\" class=\"row_heading level0 row5\" >5</th>\n",
       "      <td id=\"T_09fb8_row5_col0\" class=\"data row5 col0\" >0.8157</td>\n",
       "      <td id=\"T_09fb8_row5_col1\" class=\"data row5 col1\" >0.7791</td>\n",
       "      <td id=\"T_09fb8_row5_col2\" class=\"data row5 col2\" >0.2581</td>\n",
       "      <td id=\"T_09fb8_row5_col3\" class=\"data row5 col3\" >0.7407</td>\n",
       "      <td id=\"T_09fb8_row5_col4\" class=\"data row5 col4\" >0.3828</td>\n",
       "      <td id=\"T_09fb8_row5_col5\" class=\"data row5 col5\" >0.3030</td>\n",
       "      <td id=\"T_09fb8_row5_col6\" class=\"data row5 col6\" >0.3616</td>\n",
       "    </tr>\n",
       "    <tr>\n",
       "      <th id=\"T_09fb8_level0_row6\" class=\"row_heading level0 row6\" >6</th>\n",
       "      <td id=\"T_09fb8_row6_col0\" class=\"data row6 col0\" >0.8071</td>\n",
       "      <td id=\"T_09fb8_row6_col1\" class=\"data row6 col1\" >0.7708</td>\n",
       "      <td id=\"T_09fb8_row6_col2\" class=\"data row6 col2\" >0.2280</td>\n",
       "      <td id=\"T_09fb8_row6_col3\" class=\"data row6 col3\" >0.6974</td>\n",
       "      <td id=\"T_09fb8_row6_col4\" class=\"data row6 col4\" >0.3436</td>\n",
       "      <td id=\"T_09fb8_row6_col5\" class=\"data row6 col5\" >0.2632</td>\n",
       "      <td id=\"T_09fb8_row6_col6\" class=\"data row6 col6\" >0.3202</td>\n",
       "    </tr>\n",
       "    <tr>\n",
       "      <th id=\"T_09fb8_level0_row7\" class=\"row_heading level0 row7\" >7</th>\n",
       "      <td id=\"T_09fb8_row7_col0\" class=\"data row7 col0\" >0.8119</td>\n",
       "      <td id=\"T_09fb8_row7_col1\" class=\"data row7 col1\" >0.7940</td>\n",
       "      <td id=\"T_09fb8_row7_col2\" class=\"data row7 col2\" >0.2495</td>\n",
       "      <td id=\"T_09fb8_row7_col3\" class=\"data row7 col3\" >0.7160</td>\n",
       "      <td id=\"T_09fb8_row7_col4\" class=\"data row7 col4\" >0.3700</td>\n",
       "      <td id=\"T_09fb8_row7_col5\" class=\"data row7 col5\" >0.2886</td>\n",
       "      <td id=\"T_09fb8_row7_col6\" class=\"data row7 col6\" >0.3444</td>\n",
       "    </tr>\n",
       "    <tr>\n",
       "      <th id=\"T_09fb8_level0_row8\" class=\"row_heading level0 row8\" >8</th>\n",
       "      <td id=\"T_09fb8_row8_col0\" class=\"data row8 col0\" >0.8167</td>\n",
       "      <td id=\"T_09fb8_row8_col1\" class=\"data row8 col1\" >0.7819</td>\n",
       "      <td id=\"T_09fb8_row8_col2\" class=\"data row8 col2\" >0.2645</td>\n",
       "      <td id=\"T_09fb8_row8_col3\" class=\"data row8 col3\" >0.7410</td>\n",
       "      <td id=\"T_09fb8_row8_col4\" class=\"data row8 col4\" >0.3899</td>\n",
       "      <td id=\"T_09fb8_row8_col5\" class=\"data row8 col5\" >0.3094</td>\n",
       "      <td id=\"T_09fb8_row8_col6\" class=\"data row8 col6\" >0.3666</td>\n",
       "    </tr>\n",
       "    <tr>\n",
       "      <th id=\"T_09fb8_level0_row9\" class=\"row_heading level0 row9\" >9</th>\n",
       "      <td id=\"T_09fb8_row9_col0\" class=\"data row9 col0\" >0.8119</td>\n",
       "      <td id=\"T_09fb8_row9_col1\" class=\"data row9 col1\" >0.7729</td>\n",
       "      <td id=\"T_09fb8_row9_col2\" class=\"data row9 col2\" >0.2495</td>\n",
       "      <td id=\"T_09fb8_row9_col3\" class=\"data row9 col3\" >0.7160</td>\n",
       "      <td id=\"T_09fb8_row9_col4\" class=\"data row9 col4\" >0.3700</td>\n",
       "      <td id=\"T_09fb8_row9_col5\" class=\"data row9 col5\" >0.2886</td>\n",
       "      <td id=\"T_09fb8_row9_col6\" class=\"data row9 col6\" >0.3444</td>\n",
       "    </tr>\n",
       "    <tr>\n",
       "      <th id=\"T_09fb8_level0_row10\" class=\"row_heading level0 row10\" >Mean</th>\n",
       "      <td id=\"T_09fb8_row10_col0\" class=\"data row10 col0\" >0.8128</td>\n",
       "      <td id=\"T_09fb8_row10_col1\" class=\"data row10 col1\" >0.7786</td>\n",
       "      <td id=\"T_09fb8_row10_col2\" class=\"data row10 col2\" >0.2512</td>\n",
       "      <td id=\"T_09fb8_row10_col3\" class=\"data row10 col3\" >0.7201</td>\n",
       "      <td id=\"T_09fb8_row10_col4\" class=\"data row10 col4\" >0.3724</td>\n",
       "      <td id=\"T_09fb8_row10_col5\" class=\"data row10 col5\" >0.2914</td>\n",
       "      <td id=\"T_09fb8_row10_col6\" class=\"data row10 col6\" >0.3476</td>\n",
       "    </tr>\n",
       "    <tr>\n",
       "      <th id=\"T_09fb8_level0_row11\" class=\"row_heading level0 row11\" >Std</th>\n",
       "      <td id=\"T_09fb8_row11_col0\" class=\"data row11 col0\" >0.0042</td>\n",
       "      <td id=\"T_09fb8_row11_col1\" class=\"data row11 col1\" >0.0114</td>\n",
       "      <td id=\"T_09fb8_row11_col2\" class=\"data row11 col2\" >0.0114</td>\n",
       "      <td id=\"T_09fb8_row11_col3\" class=\"data row11 col3\" >0.0274</td>\n",
       "      <td id=\"T_09fb8_row11_col4\" class=\"data row11 col4\" >0.0154</td>\n",
       "      <td id=\"T_09fb8_row11_col5\" class=\"data row11 col5\" >0.0166</td>\n",
       "      <td id=\"T_09fb8_row11_col6\" class=\"data row11 col6\" >0.0191</td>\n",
       "    </tr>\n",
       "  </tbody>\n",
       "</table>\n"
      ],
      "text/plain": [
       "<pandas.io.formats.style.Styler at 0x17be45d2770>"
      ]
     },
     "metadata": {},
     "output_type": "display_data"
    },
    {
     "data": {
      "text/html": [],
      "text/plain": [
       "<IPython.core.display.HTML object>"
      ]
     },
     "metadata": {},
     "output_type": "display_data"
    },
    {
     "name": "stdout",
     "output_type": "stream",
     "text": [
      "Fitting 10 folds for each of 10 candidates, totalling 100 fits\n",
      "Original model was better than the tuned model, hence it will be returned. NOTE: The display metrics are for the tuned model (not the original one).\n"
     ]
    }
   ],
   "source": [
    "# Ajustar o modelo\n",
    "tuned_model = tune_model(model)"
   ]
  },
  {
   "cell_type": "code",
   "execution_count": 11,
   "metadata": {},
   "outputs": [
    {
     "data": {
      "text/html": [],
      "text/plain": [
       "<IPython.core.display.HTML object>"
      ]
     },
     "metadata": {},
     "output_type": "display_data"
    },
    {
     "data": {
      "image/png": "[encoded data removed]",
      "text/plain": [
       "<Figure size 800x550 with 1 Axes>"
      ]
     },
     "metadata": {},
     "output_type": "display_data"
    },
    {
     "data": {
      "text/html": [],
      "text/plain": [
       "<IPython.core.display.HTML object>"
      ]
     },
     "metadata": {},
     "output_type": "display_data"
    },
    {
     "data": {
      "image/png": "[encoded data removed]",
      "text/plain": [
       "<Figure size 800x550 with 1 Axes>"
      ]
     },
     "metadata": {},
     "output_type": "display_data"
    },
    {
     "data": {
      "text/html": [],
      "text/plain": [
       "<IPython.core.display.HTML object>"
      ]
     },
     "metadata": {},
     "output_type": "display_data"
    },
    {
     "data": {
      "image/png": "[encoded data removed]",
      "text/plain": [
       "<Figure size 800x500 with 1 Axes>"
      ]
     },
     "metadata": {},
     "output_type": "display_data"
    }
   ],
   "source": [
    "# Curva ROC\n",
    "plot_model(model, plot='auc')\n",
    "\n",
    "# Matriz de confusão\n",
    "plot_model(model, plot='confusion_matrix')\n",
    "\n",
    "# Importância das variáveis\n",
    "plot_model(model, plot='feature')"
   ]
  },
  {
   "cell_type": "code",
   "execution_count": 12,
   "metadata": {},
   "outputs": [],
   "source": [
    "from pycaret.classification import finalize_model\n",
    "\n",
    "# Finalizar o modelo\n",
    "final_model = finalize_model(tuned_model)"
   ]
  },
  {
   "cell_type": "code",
   "execution_count": 14,
   "metadata": {},
   "outputs": [
    {
     "data": {
      "text/html": [
       "<style type=\"text/css\">\n",
       "</style>\n",
       "<table id=\"T_700a5\">\n",
       "  <thead>\n",
       "    <tr>\n",
       "      <th class=\"blank level0\" >&nbsp;</th>\n",
       "      <th id=\"T_700a5_level0_col0\" class=\"col_heading level0 col0\" >Model</th>\n",
       "      <th id=\"T_700a5_level0_col1\" class=\"col_heading level0 col1\" >Accuracy</th>\n",
       "      <th id=\"T_700a5_level0_col2\" class=\"col_heading level0 col2\" >AUC</th>\n",
       "      <th id=\"T_700a5_level0_col3\" class=\"col_heading level0 col3\" >Recall</th>\n",
       "      <th id=\"T_700a5_level0_col4\" class=\"col_heading level0 col4\" >Prec.</th>\n",
       "      <th id=\"T_700a5_level0_col5\" class=\"col_heading level0 col5\" >F1</th>\n",
       "      <th id=\"T_700a5_level0_col6\" class=\"col_heading level0 col6\" >Kappa</th>\n",
       "      <th id=\"T_700a5_level0_col7\" class=\"col_heading level0 col7\" >MCC</th>\n",
       "    </tr>\n",
       "  </thead>\n",
       "  <tbody>\n",
       "    <tr>\n",
       "      <th id=\"T_700a5_level0_row0\" class=\"row_heading level0 row0\" >0</th>\n",
       "      <td id=\"T_700a5_row0_col0\" class=\"data row0 col0\" >Gradient Boosting Classifier</td>\n",
       "      <td id=\"T_700a5_row0_col1\" class=\"data row0 col1\" >0.8267</td>\n",
       "      <td id=\"T_700a5_row0_col2\" class=\"data row0 col2\" >0.8024</td>\n",
       "      <td id=\"T_700a5_row0_col3\" class=\"data row0 col3\" >0.3804</td>\n",
       "      <td id=\"T_700a5_row0_col4\" class=\"data row0 col4\" >0.6773</td>\n",
       "      <td id=\"T_700a5_row0_col5\" class=\"data row0 col5\" >0.4872</td>\n",
       "      <td id=\"T_700a5_row0_col6\" class=\"data row0 col6\" >0.3926</td>\n",
       "      <td id=\"T_700a5_row0_col7\" class=\"data row0 col7\" >0.4163</td>\n",
       "    </tr>\n",
       "  </tbody>\n",
       "</table>\n"
      ],
      "text/plain": [
       "<pandas.io.formats.style.Styler at 0x17be19e33d0>"
      ]
     },
     "metadata": {},
     "output_type": "display_data"
    },
    {
     "name": "stdout",
     "output_type": "stream",
     "text": [
      "           X1  X2  X3  X4  X5  X6  X7  X8  X9  X10  ...     X17   X18   X19  \\\n",
      "25665   40000   2   2   2  26  -1   0   0   0   -1  ...   18697  1300  1000   \n",
      "16464   80000   2   3   1  59   0   0   0   0    0  ...   49470  3212  2106   \n",
      "22386  170000   2   1   2  30   2   2   2   2    2  ...  170922  6800  6500   \n",
      "10149  200000   2   2   1  41  -2  -2  -2  -2   -2  ...       0   742     0   \n",
      "8729    50000   1   2   1  43   0   0   0   0    0  ...    9617  1140  1150   \n",
      "\n",
      "        X20    X21   X22    X23  DEFAULT  prediction_label  prediction_score  \n",
      "25665     0  22373   680  10000        0                 0            0.8383  \n",
      "16464  2000   1603  1903   2006        0                 0            0.8862  \n",
      "22386     0  13000  5500   1000        1                 1            0.7999  \n",
      "10149     0      0     0      0        1                 0            0.8746  \n",
      "8729    331    341   356    330        0                 0            0.7327  \n",
      "\n",
      "[5 rows x 26 columns]\n"
     ]
    }
   ],
   "source": [
    "from sklearn.model_selection import train_test_split\n",
    "\n",
    "# Dividir o conjunto de dados em dados de treino e teste\n",
    "train_data, data_test = train_test_split(data, test_size=0.3, random_state=123)\n",
    "\n",
    "# Usar o modelo finalizado para fazer previsões no conjunto de dados de teste\n",
    "predictions = predict_model(final_model, data=data_test)\n",
    "print(predictions.head())"
   ]
  },
  {
   "cell_type": "code",
   "execution_count": 15,
   "metadata": {},
   "outputs": [
    {
     "data": {
      "text/html": [
       "<style type=\"text/css\">\n",
       "</style>\n",
       "<table id=\"T_cb6d4\">\n",
       "  <thead>\n",
       "    <tr>\n",
       "      <th class=\"blank level0\" >&nbsp;</th>\n",
       "      <th id=\"T_cb6d4_level0_col0\" class=\"col_heading level0 col0\" >Model</th>\n",
       "      <th id=\"T_cb6d4_level0_col1\" class=\"col_heading level0 col1\" >Accuracy</th>\n",
       "      <th id=\"T_cb6d4_level0_col2\" class=\"col_heading level0 col2\" >AUC</th>\n",
       "      <th id=\"T_cb6d4_level0_col3\" class=\"col_heading level0 col3\" >Recall</th>\n",
       "      <th id=\"T_cb6d4_level0_col4\" class=\"col_heading level0 col4\" >Prec.</th>\n",
       "      <th id=\"T_cb6d4_level0_col5\" class=\"col_heading level0 col5\" >F1</th>\n",
       "      <th id=\"T_cb6d4_level0_col6\" class=\"col_heading level0 col6\" >Kappa</th>\n",
       "      <th id=\"T_cb6d4_level0_col7\" class=\"col_heading level0 col7\" >MCC</th>\n",
       "    </tr>\n",
       "  </thead>\n",
       "  <tbody>\n",
       "    <tr>\n",
       "      <th id=\"T_cb6d4_level0_row0\" class=\"row_heading level0 row0\" >0</th>\n",
       "      <td id=\"T_cb6d4_row0_col0\" class=\"data row0 col0\" >Gradient Boosting Classifier</td>\n",
       "      <td id=\"T_cb6d4_row0_col1\" class=\"data row0 col1\" >0.8267</td>\n",
       "      <td id=\"T_cb6d4_row0_col2\" class=\"data row0 col2\" >0.8024</td>\n",
       "      <td id=\"T_cb6d4_row0_col3\" class=\"data row0 col3\" >0.3804</td>\n",
       "      <td id=\"T_cb6d4_row0_col4\" class=\"data row0 col4\" >0.6773</td>\n",
       "      <td id=\"T_cb6d4_row0_col5\" class=\"data row0 col5\" >0.4872</td>\n",
       "      <td id=\"T_cb6d4_row0_col6\" class=\"data row0 col6\" >0.3926</td>\n",
       "      <td id=\"T_cb6d4_row0_col7\" class=\"data row0 col7\" >0.4163</td>\n",
       "    </tr>\n",
       "  </tbody>\n",
       "</table>\n"
      ],
      "text/plain": [
       "<pandas.io.formats.style.Styler at 0x17be19e33a0>"
      ]
     },
     "metadata": {},
     "output_type": "display_data"
    },
    {
     "name": "stdout",
     "output_type": "stream",
     "text": [
      "           X1  X2  X3  X4  X5  X6  X7  X8  X9  X10  ...     X17   X18   X19  \\\n",
      "25665   40000   2   2   2  26  -1   0   0   0   -1  ...   18697  1300  1000   \n",
      "16464   80000   2   3   1  59   0   0   0   0    0  ...   49470  3212  2106   \n",
      "22386  170000   2   1   2  30   2   2   2   2    2  ...  170922  6800  6500   \n",
      "10149  200000   2   2   1  41  -2  -2  -2  -2   -2  ...       0   742     0   \n",
      "8729    50000   1   2   1  43   0   0   0   0    0  ...    9617  1140  1150   \n",
      "\n",
      "        X20    X21   X22    X23  DEFAULT  prediction_label  prediction_score  \n",
      "25665     0  22373   680  10000        0                 0            0.8383  \n",
      "16464  2000   1603  1903   2006        0                 0            0.8862  \n",
      "22386     0  13000  5500   1000        1                 1            0.7999  \n",
      "10149     0      0     0      0        1                 0            0.8746  \n",
      "8729    331    341   356    330        0                 0            0.7327  \n",
      "\n",
      "[5 rows x 26 columns]\n"
     ]
    }
   ],
   "source": [
    "# Previsão em dados de teste (substitua `data_test` pelo seu conjunto de dados de teste)\n",
    "predictions = predict_model(final_model, data=data_test)\n",
    "print(predictions.head())"
   ]
  },
  {
   "cell_type": "code",
   "execution_count": 17,
   "metadata": {},
   "outputs": [
    {
     "name": "stdout",
     "output_type": "stream",
     "text": [
      "Transformation Pipeline and Model Successfully Saved\n",
      "Transformation Pipeline and Model Successfully Loaded\n"
     ]
    }
   ],
   "source": [
    "from pycaret.classification import save_model, load_model\n",
    "\n",
    "# Salvar o modelo\n",
    "save_model(final_model, 'modelo_classificacao_credito')\n",
    "\n",
    "# Carregar o modelo (quando precisar usá-lo novamente)\n",
    "loaded_model = load_model('modelo_classificacao_credito')"
   ]
  },
  {
   "cell_type": "markdown",
   "metadata": {
    "colab_type": "text",
    "id": "GM-nQ7LqEQma"
   },
   "source": [
    "**Criado usando: PyCaret 2.3.10** <br />\n",
    "**Data de atualização versão em inglês: 11 de novembro de 2020**<br />\n",
    "**Data de atualização versão em português: 01 de junho de 2022**\n",
    "\n",
    "- __[Link do repositório pycaret no github](https://github.com/pycaret/pycaret)__\n",
    "- __[Link da versão em inglês no github](https://github.com/pycaret/pycaret/blob/master/tutorials/Binary%20Classification%20Tutorial%20Level%20Beginner%20-%20%20CLF101.ipynb)__\n",
    "\n",
    "\n",
    "# 1.0 Objetivo do tutorial\n",
    "Bem-vindo ao Tutorial de Classificação Binária (CLF101) - Nível Iniciante. Este tutorial assume que você é novo no PyCaret e quer começar com Classificação Binária usando o módulo `pycaret.classification`.\n",
    "\n",
    "Neste tutorial vamos aprender:\n",
    "\n",
    "\n",
    "* **Obtendo dados:** como importar dados do repositório PyCaret\n",
    "* **Configurando o ambiente:** como configurar um experimento no PyCaret e começar a criar modelos de classificação\n",
    "* **Criar modelo:** como criar um modelo, realizar validação cruzada estratificada e avaliar métricas de classificação\n",
    "* **Ajustar modelo:** como ajustar automaticamente os hiperparâmetros de um modelo de classificação\n",
    "* **Plotagem do modelo:** como analisar o desempenho do modelo usando vários gráficos\n",
    "* **Finalizar o modelo:** como finalizar o melhor modelo ao final do experimento\n",
    "* **Predict usando o modelo:** como fazer previsões em dados novos/não vistos\n",
    "* **Salvar/carregar modelo:** como salvar/carregar um modelo para uso futuro\n",
    "\n",
    "Tempo de leitura: Aprox. 30 minutos\n",
    "\n",
    "\n",
    "## 1.1 Instalando o PyCaret\n",
    "O primeiro passo para começar a usar o PyCaret é instalar o pycaret. A instalação é fácil e levará apenas alguns minutos. Siga as instruções abaixo:\n",
    "\n",
    "#### Instalando o PyCaret no Jupyter Notebook Local\n",
    "`pip install pycaret` <br />\n",
    "\n",
    "#### Instalando o PyCaret no Google Colab ou no Azure Notebooks\n",
    "`!pip install pycaret`\n",
    "\n",
    "\n",
    "## 1.2 Pré-requisitos\n",
    "- Python 3.6 ou superior\n",
    "- PyCaret 2.0 ou superior\n",
    "- Conexão com a Internet para carregar dados do repositório do pycaret\n",
    "- Conhecimentos Básicos de Classificação Binária\n",
    "\n",
    "## 1.3 Para usuários do Google colab:\n",
    "Se você estiver executando este notebook no Google colab, execute o código a seguir na parte superior do notebook para exibir recursos visuais interativos.<br/>\n",
    "<br/>\n",
    "`from pycaret.utils import enable_colab` <br/>\n",
    "`enable_colab()`\n",
    "\n",
    "\n",
    "## 1.4 Veja também:\n",
    "- __[Tutorial de classificação binária (CLF102) - Nível intermediário - Inglês](https://github.com/pycaret/pycaret/blob/master/tutorials/Binary%20Classification%20Tutorial%20Level%20Intermediate%20-%20CLF102.ipynb)__\n",
    "- __[Tutorial de classificação binária (CLF103) - Nível de especialista - Inglês](https://github.com/pycaret/pycaret/blob/master/tutorials/Binary%20Classification%20Tutorial%20Level%20Expert%20-%20CLF103.ipynb)__"
   ]
  },
  {
   "cell_type": "markdown",
   "metadata": {
    "colab_type": "text",
    "id": "2DJaOwC_EQme"
   },
   "source": [
    "# 2.0 O que é Classificação Binária?\n",
    "A classificação binária é uma técnica de aprendizado de máquina supervisionada em que o objetivo é prever rótulos de classe categórica que são discretos e não ordenados, como Aprovado/Reprovado, Positivo/Negativo, Padrão/Não Padrão etc. Alguns casos de uso do mundo real para classificação estão listados abaixo :\n",
    "\n",
    "- Exames médicos para determinar se um paciente tem uma determinada doença ou não - a propriedade de classificação é a presença da doença.\n",
    "- Um método de teste \"aprovado ou reprovado\" ou controle de qualidade em fábricas, ou seja, decidindo se uma especificação foi ou não atendida - uma classificação de aprovação/reprovação.\n",
    "- Recuperação de informação, nomeadamente decidir se uma página ou um artigo deve ou não estar no conjunto de resultados de uma pesquisa – a propriedade de classificação é a relevância do artigo, ou a utilidade para o utilizador.\n",
    "\n",
    "__[Saiba mais sobre classificação binária](https://medium.com/@categitau/in-one-of-my-previous-posts-i-introduced-machine-learning-and-talked-about-the-two-most-common-c1ac6e18df16)__"
   ]
  },
  {
   "cell_type": "markdown",
   "metadata": {
    "colab_type": "text",
    "id": "XC3kSuueEQmh"
   },
   "source": [
    "# 3.0 Visão geral do módulo de classificação no PyCaret\n",
    "O módulo de classificação do PyCaret (`pycaret.classification`) é um módulo de aprendizado de máquina supervisionado que é usado para classificar os elementos em um grupo binário baseado em várias técnicas e algoritmos. Alguns casos de uso comuns de problemas de classificação incluem a previsão de inadimplência do cliente (sim ou não), rotatividade de clientes (o cliente sairá ou ficará), doença encontrada (positiva ou negativa).\n",
    "\n",
    "O módulo de classificação PyCaret pode ser usado para problemas de classificação binária ou multiclasse. Possui mais de 18 algoritmos e 14 gráficos para analisar o desempenho dos modelos. Seja ajuste de hiperparâmetros, ensembling ou técnicas avançadas como empilhamento, o módulo de classificação do PyCaret tem tudo."
   ]
  },
  {
   "cell_type": "markdown",
   "metadata": {
    "colab_type": "text",
    "id": "aAKRo-EbEQml"
   },
   "source": [
    "# 4.0 Conjunto de dados para o tutorial"
   ]
  },
  {
   "cell_type": "markdown",
   "metadata": {
    "colab_type": "text",
    "id": "VLKxlFjrEQmq"
   },
   "source": [
    "Para este tutorial, usaremos um conjunto de dados da UCI chamado **Default of Credit Card Clients Dataset**. Este conjunto de dados contém informações sobre pagamentos padrão, fatores demográficos, dados de crédito, histórico de pagamentos e extratos de cobrança de clientes de cartão de crédito em Taiwan de abril de 2005 a setembro de 2005. Existem 24.000 amostras e 25 recursos. As descrições curtas de cada coluna são as seguintes:\n",
    "\n",
    "- **ID:** ID de cada cliente\n",
    "- **LIMIT_BAL:** Valor do crédito concedido em NEW TAIWAN dólares (inclui crédito individual e familiar/complementar)\n",
    "- **SEX:** Gênero (1=masculino, 2=feminino)\n",
    "- **EDUCATION:** (1=graduação, 2=universidade, 3=ensino médio, 4=outros, 5=desconhecido, 6=desconhecido)\n",
    "- **MARRIAGE:** Estado civil (1=casado, 2=solteiro, 3=outros)\n",
    "- **AGE:** Idade em anos\n",
    "- **PAY_0 a PAY_6:** Status de pagamento há n meses (PAY_0 = último mês ... PAY_6 = 6 meses atrás) (Rótulos: -1=pagamento devido, 1=atraso no pagamento por um mês, 2=atraso no pagamento por dois meses, ... 8=atraso de pagamento por oito meses, 9=atraso de pagamento por nove meses e acima)\n",
    "- **BILL_AMT1 a BILL_AMT6:** Valor do extrato da conta há n meses ( BILL_AMT1 = last_month .. BILL_AMT6 = 6 meses atrás)\n",
    "- **PAY_AMT1 a PAY_AMT6:** Valor do pagamento até n meses atrás ( BILL_AMT1 = last_month .. BILL_AMT6 = 6 meses atrás)\n",
    "- **DEFAULT:** default no pagamento (1=sim, 0=não) `Coluna target (resposta)`\n",
    "\n",
    "#### Fonte do conjunto de dados:\n",
    "Lichman, M. (2013). Repositório de aprendizado de máquina UCI. Irvine, CA: Universidade da Califórnia, Escola de Informação e Ciência da Computação.\n",
    "\n",
    "O conjunto de dados original e o dicionário de dados podem ser __[encontrados aqui.](https://archive.ics.uci.edu/ml/datasets/default+of+credit+card+clients)__"
   ]
  },
  {
   "cell_type": "markdown",
   "metadata": {
    "colab_type": "text",
    "id": "Ui_rALqYEQmv"
   },
   "source": [
    "# 5.0 Obtendo os dados"
   ]
  },
  {
   "cell_type": "markdown",
   "metadata": {
    "colab_type": "text",
    "id": "BfqIMeJNEQmz"
   },
   "source": [
    "Você pode baixar os dados da fonte original __[encontrado aqui](https://archive.ics.uci.edu/ml/datasets/default+of+credit+card+clients)__ e carregá-los usando pandas __[( Saiba como)](https://pandas.pydata.org/pandas-docs/stable/reference/api/pandas.read_csv.html)__ ou você pode usar o repositório de dados do PyCaret para carregar os dados usando o `get_data()` função (Isso exigirá uma conexão com a Internet)."
   ]
  },
  {
   "cell_type": "code",
   "execution_count": 8,
   "metadata": {},
   "outputs": [
    {
     "name": "stdout",
     "output_type": "stream",
     "text": [
      "Requirement already satisfied: pycaret in c:\\users\\mardo\\.conda\\envs\\pycaret_env_2\\lib\\site-packages (3.0.0)\n",
      "Requirement already satisfied: ipython>=5.5.0 in c:\\users\\mardo\\.conda\\envs\\pycaret_env_2\\lib\\site-packages (from pycaret) (8.29.0)\n",
      "Requirement already satisfied: ipywidgets>=7.6.5 in c:\\users\\mardo\\.conda\\envs\\pycaret_env_2\\lib\\site-packages (from pycaret) (8.1.5)\n",
      "Requirement already satisfied: tqdm>=4.62.0 in c:\\users\\mardo\\.conda\\envs\\pycaret_env_2\\lib\\site-packages (from pycaret) (4.67.0)\n",
      "Requirement already satisfied: numpy<1.25,>=1.21 in c:\\users\\mardo\\.conda\\envs\\pycaret_env_2\\lib\\site-packages (from pycaret) (1.22.4)\n",
      "Requirement already satisfied: pandas<1.6.0,>=1.3.0 in c:\\users\\mardo\\.conda\\envs\\pycaret_env_2\\lib\\site-packages (from pycaret) (1.5.3)\n",
      "Requirement already satisfied: jinja2>=1.2 in c:\\users\\mardo\\.conda\\envs\\pycaret_env_2\\lib\\site-packages (from pycaret) (3.1.4)\n",
      "Requirement already satisfied: scipy<2.0.0 in c:\\users\\mardo\\.conda\\envs\\pycaret_env_2\\lib\\site-packages (from pycaret) (1.7.3)\n",
      "Requirement already satisfied: joblib>=1.2.0 in c:\\users\\mardo\\.conda\\envs\\pycaret_env_2\\lib\\site-packages (from pycaret) (1.4.2)\n",
      "Requirement already satisfied: scikit-learn>=1.0 in c:\\users\\mardo\\.conda\\envs\\pycaret_env_2\\lib\\site-packages (from pycaret) (1.0.2)\n",
      "Requirement already satisfied: pyod>=1.0.8 in c:\\users\\mardo\\.conda\\envs\\pycaret_env_2\\lib\\site-packages (from pycaret) (2.0.2)\n",
      "Requirement already satisfied: imbalanced-learn>=0.8.1 in c:\\users\\mardo\\.conda\\envs\\pycaret_env_2\\lib\\site-packages (from pycaret) (0.12.4)\n",
      "Requirement already satisfied: category-encoders>=2.4.0 in c:\\users\\mardo\\.conda\\envs\\pycaret_env_2\\lib\\site-packages (from pycaret) (2.6.4)\n",
      "Requirement already satisfied: lightgbm>=3.0.0 in c:\\users\\mardo\\.conda\\envs\\pycaret_env_2\\lib\\site-packages (from pycaret) (4.5.0)\n",
      "Requirement already satisfied: numba>=0.55.0 in c:\\users\\mardo\\.conda\\envs\\pycaret_env_2\\lib\\site-packages (from pycaret) (0.60.0)\n",
      "Requirement already satisfied: requests>=2.27.1 in c:\\users\\mardo\\.conda\\envs\\pycaret_env_2\\lib\\site-packages (from pycaret) (2.32.3)\n",
      "Requirement already satisfied: psutil>=5.9.0 in c:\\users\\mardo\\.conda\\envs\\pycaret_env_2\\lib\\site-packages (from pycaret) (6.1.0)\n",
      "Requirement already satisfied: markupsafe>=2.0.1 in c:\\users\\mardo\\.conda\\envs\\pycaret_env_2\\lib\\site-packages (from pycaret) (3.0.2)\n",
      "Requirement already satisfied: importlib-metadata>=4.12.0 in c:\\users\\mardo\\.conda\\envs\\pycaret_env_2\\lib\\site-packages (from pycaret) (8.5.0)\n",
      "Requirement already satisfied: nbformat>=4.2.0 in c:\\users\\mardo\\.conda\\envs\\pycaret_env_2\\lib\\site-packages (from pycaret) (5.10.4)\n",
      "Requirement already satisfied: cloudpickle in c:\\users\\mardo\\.conda\\envs\\pycaret_env_2\\lib\\site-packages (from pycaret) (3.1.0)\n",
      "Requirement already satisfied: deprecation>=2.1.0 in c:\\users\\mardo\\.conda\\envs\\pycaret_env_2\\lib\\site-packages (from pycaret) (2.1.0)\n",
      "Requirement already satisfied: xxhash in c:\\users\\mardo\\.conda\\envs\\pycaret_env_2\\lib\\site-packages (from pycaret) (3.5.0)\n",
      "Requirement already satisfied: matplotlib>=3.3.0 in c:\\users\\mardo\\.conda\\envs\\pycaret_env_2\\lib\\site-packages (from pycaret) (3.8.4)\n",
      "Requirement already satisfied: scikit-plot>=0.3.7 in c:\\users\\mardo\\.conda\\envs\\pycaret_env_2\\lib\\site-packages (from pycaret) (0.3.7)\n",
      "Requirement already satisfied: yellowbrick>=1.4 in c:\\users\\mardo\\.conda\\envs\\pycaret_env_2\\lib\\site-packages (from pycaret) (1.5)\n",
      "Requirement already satisfied: plotly>=5.0.0 in c:\\users\\mardo\\.conda\\envs\\pycaret_env_2\\lib\\site-packages (from pycaret) (5.24.1)\n",
      "Requirement already satisfied: kaleido>=0.2.1 in c:\\users\\mardo\\.conda\\envs\\pycaret_env_2\\lib\\site-packages (from pycaret) (0.2.1)\n",
      "Requirement already satisfied: schemdraw>=0.14 in c:\\users\\mardo\\.conda\\envs\\pycaret_env_2\\lib\\site-packages (from pycaret) (0.19)\n",
      "Requirement already satisfied: plotly-resampler>=0.8.3.1 in c:\\users\\mardo\\.conda\\envs\\pycaret_env_2\\lib\\site-packages (from pycaret) (0.10.0)\n",
      "Requirement already satisfied: statsmodels>=0.12.1 in c:\\users\\mardo\\.conda\\envs\\pycaret_env_2\\lib\\site-packages (from pycaret) (0.14.1)\n",
      "Requirement already satisfied: sktime>=0.16.1 in c:\\users\\mardo\\.conda\\envs\\pycaret_env_2\\lib\\site-packages (from pycaret) (0.34.0)\n",
      "Requirement already satisfied: tbats>=1.1.0 in c:\\users\\mardo\\.conda\\envs\\pycaret_env_2\\lib\\site-packages (from pycaret) (1.1.3)\n",
      "Requirement already satisfied: pmdarima!=1.8.1,<3.0.0,>=1.8.0 in c:\\users\\mardo\\.conda\\envs\\pycaret_env_2\\lib\\site-packages (from pycaret) (2.0.4)\n",
      "Requirement already satisfied: patsy>=0.5.1 in c:\\users\\mardo\\.conda\\envs\\pycaret_env_2\\lib\\site-packages (from category-encoders>=2.4.0->pycaret) (1.0.1)\n",
      "Requirement already satisfied: packaging in c:\\users\\mardo\\.conda\\envs\\pycaret_env_2\\lib\\site-packages (from deprecation>=2.1.0->pycaret) (24.2)\n",
      "Requirement already satisfied: threadpoolctl>=2.0.0 in c:\\users\\mardo\\.conda\\envs\\pycaret_env_2\\lib\\site-packages (from imbalanced-learn>=0.8.1->pycaret) (3.5.0)\n",
      "Requirement already satisfied: zipp>=3.20 in c:\\users\\mardo\\.conda\\envs\\pycaret_env_2\\lib\\site-packages (from importlib-metadata>=4.12.0->pycaret) (3.21.0)\n",
      "Requirement already satisfied: decorator in c:\\users\\mardo\\.conda\\envs\\pycaret_env_2\\lib\\site-packages (from ipython>=5.5.0->pycaret) (5.1.1)\n",
      "Requirement already satisfied: jedi>=0.16 in c:\\users\\mardo\\.conda\\envs\\pycaret_env_2\\lib\\site-packages (from ipython>=5.5.0->pycaret) (0.19.2)\n",
      "Requirement already satisfied: matplotlib-inline in c:\\users\\mardo\\.conda\\envs\\pycaret_env_2\\lib\\site-packages (from ipython>=5.5.0->pycaret) (0.1.7)\n",
      "Requirement already satisfied: prompt-toolkit<3.1.0,>=3.0.41 in c:\\users\\mardo\\.conda\\envs\\pycaret_env_2\\lib\\site-packages (from ipython>=5.5.0->pycaret) (3.0.48)\n",
      "Requirement already satisfied: pygments>=2.4.0 in c:\\users\\mardo\\.conda\\envs\\pycaret_env_2\\lib\\site-packages (from ipython>=5.5.0->pycaret) (2.18.0)\n",
      "Requirement already satisfied: stack-data in c:\\users\\mardo\\.conda\\envs\\pycaret_env_2\\lib\\site-packages (from ipython>=5.5.0->pycaret) (0.6.2)\n",
      "Requirement already satisfied: traitlets>=5.13.0 in c:\\users\\mardo\\.conda\\envs\\pycaret_env_2\\lib\\site-packages (from ipython>=5.5.0->pycaret) (5.14.3)\n",
      "Requirement already satisfied: exceptiongroup in c:\\users\\mardo\\.conda\\envs\\pycaret_env_2\\lib\\site-packages (from ipython>=5.5.0->pycaret) (1.2.2)\n",
      "Requirement already satisfied: typing-extensions>=4.6 in c:\\users\\mardo\\.conda\\envs\\pycaret_env_2\\lib\\site-packages (from ipython>=5.5.0->pycaret) (4.12.2)\n",
      "Requirement already satisfied: colorama in c:\\users\\mardo\\.conda\\envs\\pycaret_env_2\\lib\\site-packages (from ipython>=5.5.0->pycaret) (0.4.6)\n",
      "Requirement already satisfied: comm>=0.1.3 in c:\\users\\mardo\\.conda\\envs\\pycaret_env_2\\lib\\site-packages (from ipywidgets>=7.6.5->pycaret) (0.2.2)\n",
      "Requirement already satisfied: widgetsnbextension~=4.0.12 in c:\\users\\mardo\\.conda\\envs\\pycaret_env_2\\lib\\site-packages (from ipywidgets>=7.6.5->pycaret) (4.0.13)\n",
      "Requirement already satisfied: jupyterlab-widgets~=3.0.12 in c:\\users\\mardo\\.conda\\envs\\pycaret_env_2\\lib\\site-packages (from ipywidgets>=7.6.5->pycaret) (3.0.13)\n",
      "Requirement already satisfied: contourpy>=1.0.1 in c:\\users\\mardo\\.conda\\envs\\pycaret_env_2\\lib\\site-packages (from matplotlib>=3.3.0->pycaret) (1.2.1)\n",
      "Requirement already satisfied: cycler>=0.10 in c:\\users\\mardo\\.conda\\envs\\pycaret_env_2\\lib\\site-packages (from matplotlib>=3.3.0->pycaret) (0.12.1)\n",
      "Requirement already satisfied: fonttools>=4.22.0 in c:\\users\\mardo\\.conda\\envs\\pycaret_env_2\\lib\\site-packages (from matplotlib>=3.3.0->pycaret) (4.55.0)\n",
      "Requirement already satisfied: kiwisolver>=1.3.1 in c:\\users\\mardo\\.conda\\envs\\pycaret_env_2\\lib\\site-packages (from matplotlib>=3.3.0->pycaret) (1.4.7)\n",
      "Requirement already satisfied: pillow>=8 in c:\\users\\mardo\\.conda\\envs\\pycaret_env_2\\lib\\site-packages (from matplotlib>=3.3.0->pycaret) (11.0.0)\n",
      "Requirement already satisfied: pyparsing>=2.3.1 in c:\\users\\mardo\\.conda\\envs\\pycaret_env_2\\lib\\site-packages (from matplotlib>=3.3.0->pycaret) (3.2.0)\n",
      "Requirement already satisfied: python-dateutil>=2.7 in c:\\users\\mardo\\.conda\\envs\\pycaret_env_2\\lib\\site-packages (from matplotlib>=3.3.0->pycaret) (2.9.0)\n",
      "Requirement already satisfied: fastjsonschema>=2.15 in c:\\users\\mardo\\.conda\\envs\\pycaret_env_2\\lib\\site-packages (from nbformat>=4.2.0->pycaret) (2.20.0)\n",
      "Requirement already satisfied: jsonschema>=2.6 in c:\\users\\mardo\\.conda\\envs\\pycaret_env_2\\lib\\site-packages (from nbformat>=4.2.0->pycaret) (4.23.0)\n",
      "Requirement already satisfied: jupyter-core!=5.0.*,>=4.12 in c:\\users\\mardo\\.conda\\envs\\pycaret_env_2\\lib\\site-packages (from nbformat>=4.2.0->pycaret) (5.7.2)\n",
      "Requirement already satisfied: llvmlite<0.44,>=0.43.0dev0 in c:\\users\\mardo\\.conda\\envs\\pycaret_env_2\\lib\\site-packages (from numba>=0.55.0->pycaret) (0.43.0)\n",
      "Requirement already satisfied: pytz>=2020.1 in c:\\users\\mardo\\.conda\\envs\\pycaret_env_2\\lib\\site-packages (from pandas<1.6.0,>=1.3.0->pycaret) (2024.2)\n",
      "Requirement already satisfied: tenacity>=6.2.0 in c:\\users\\mardo\\.conda\\envs\\pycaret_env_2\\lib\\site-packages (from plotly>=5.0.0->pycaret) (9.0.0)\n",
      "Requirement already satisfied: dash>=2.9.0 in c:\\users\\mardo\\.conda\\envs\\pycaret_env_2\\lib\\site-packages (from plotly-resampler>=0.8.3.1->pycaret) (2.18.2)\n",
      "Requirement already satisfied: orjson<4.0.0,>=3.8.0 in c:\\users\\mardo\\.conda\\envs\\pycaret_env_2\\lib\\site-packages (from plotly-resampler>=0.8.3.1->pycaret) (3.10.11)\n",
      "Requirement already satisfied: tsdownsample>=0.1.3 in c:\\users\\mardo\\.conda\\envs\\pycaret_env_2\\lib\\site-packages (from plotly-resampler>=0.8.3.1->pycaret) (0.1.3)\n",
      "Requirement already satisfied: Cython!=0.29.18,!=0.29.31,>=0.29 in c:\\users\\mardo\\.conda\\envs\\pycaret_env_2\\lib\\site-packages (from pmdarima!=1.8.1,<3.0.0,>=1.8.0->pycaret) (3.0.11)\n",
      "Requirement already satisfied: urllib3 in c:\\users\\mardo\\.conda\\envs\\pycaret_env_2\\lib\\site-packages (from pmdarima!=1.8.1,<3.0.0,>=1.8.0->pycaret) (2.2.3)\n",
      "Requirement already satisfied: setuptools!=50.0.0,>=38.6.0 in c:\\users\\mardo\\.conda\\envs\\pycaret_env_2\\lib\\site-packages (from pmdarima!=1.8.1,<3.0.0,>=1.8.0->pycaret) (75.1.0)\n",
      "Requirement already satisfied: charset-normalizer<4,>=2 in c:\\users\\mardo\\.conda\\envs\\pycaret_env_2\\lib\\site-packages (from requests>=2.27.1->pycaret) (3.4.0)\n",
      "Requirement already satisfied: idna<4,>=2.5 in c:\\users\\mardo\\.conda\\envs\\pycaret_env_2\\lib\\site-packages (from requests>=2.27.1->pycaret) (3.10)\n",
      "Requirement already satisfied: certifi>=2017.4.17 in c:\\users\\mardo\\.conda\\envs\\pycaret_env_2\\lib\\site-packages (from requests>=2.27.1->pycaret) (2024.8.30)\n",
      "Requirement already satisfied: scikit-base<0.12.0,>=0.6.1 in c:\\users\\mardo\\.conda\\envs\\pycaret_env_2\\lib\\site-packages (from sktime>=0.16.1->pycaret) (0.11.0)\n",
      "Requirement already satisfied: Flask<3.1,>=1.0.4 in c:\\users\\mardo\\.conda\\envs\\pycaret_env_2\\lib\\site-packages (from dash>=2.9.0->plotly-resampler>=0.8.3.1->pycaret) (3.0.3)\n",
      "Requirement already satisfied: Werkzeug<3.1 in c:\\users\\mardo\\.conda\\envs\\pycaret_env_2\\lib\\site-packages (from dash>=2.9.0->plotly-resampler>=0.8.3.1->pycaret) (3.0.6)\n",
      "Requirement already satisfied: dash-html-components==2.0.0 in c:\\users\\mardo\\.conda\\envs\\pycaret_env_2\\lib\\site-packages (from dash>=2.9.0->plotly-resampler>=0.8.3.1->pycaret) (2.0.0)\n",
      "Requirement already satisfied: dash-core-components==2.0.0 in c:\\users\\mardo\\.conda\\envs\\pycaret_env_2\\lib\\site-packages (from dash>=2.9.0->plotly-resampler>=0.8.3.1->pycaret) (2.0.0)\n",
      "Requirement already satisfied: dash-table==5.0.0 in c:\\users\\mardo\\.conda\\envs\\pycaret_env_2\\lib\\site-packages (from dash>=2.9.0->plotly-resampler>=0.8.3.1->pycaret) (5.0.0)\n",
      "Requirement already satisfied: retrying in c:\\users\\mardo\\.conda\\envs\\pycaret_env_2\\lib\\site-packages (from dash>=2.9.0->plotly-resampler>=0.8.3.1->pycaret) (1.3.4)\n",
      "Requirement already satisfied: nest-asyncio in c:\\users\\mardo\\.conda\\envs\\pycaret_env_2\\lib\\site-packages (from dash>=2.9.0->plotly-resampler>=0.8.3.1->pycaret) (1.6.0)\n",
      "Requirement already satisfied: parso<0.9.0,>=0.8.4 in c:\\users\\mardo\\.conda\\envs\\pycaret_env_2\\lib\\site-packages (from jedi>=0.16->ipython>=5.5.0->pycaret) (0.8.4)\n",
      "Requirement already satisfied: attrs>=22.2.0 in c:\\users\\mardo\\.conda\\envs\\pycaret_env_2\\lib\\site-packages (from jsonschema>=2.6->nbformat>=4.2.0->pycaret) (24.2.0)\n",
      "Requirement already satisfied: jsonschema-specifications>=2023.03.6 in c:\\users\\mardo\\.conda\\envs\\pycaret_env_2\\lib\\site-packages (from jsonschema>=2.6->nbformat>=4.2.0->pycaret) (2024.10.1)\n",
      "Requirement already satisfied: referencing>=0.28.4 in c:\\users\\mardo\\.conda\\envs\\pycaret_env_2\\lib\\site-packages (from jsonschema>=2.6->nbformat>=4.2.0->pycaret) (0.35.1)\n",
      "Requirement already satisfied: rpds-py>=0.7.1 in c:\\users\\mardo\\.conda\\envs\\pycaret_env_2\\lib\\site-packages (from jsonschema>=2.6->nbformat>=4.2.0->pycaret) (0.21.0)\n",
      "Requirement already satisfied: platformdirs>=2.5 in c:\\users\\mardo\\.conda\\envs\\pycaret_env_2\\lib\\site-packages (from jupyter-core!=5.0.*,>=4.12->nbformat>=4.2.0->pycaret) (4.3.6)\n",
      "Requirement already satisfied: pywin32>=300 in c:\\users\\mardo\\.conda\\envs\\pycaret_env_2\\lib\\site-packages (from jupyter-core!=5.0.*,>=4.12->nbformat>=4.2.0->pycaret) (307)\n",
      "Requirement already satisfied: wcwidth in c:\\users\\mardo\\.conda\\envs\\pycaret_env_2\\lib\\site-packages (from prompt-toolkit<3.1.0,>=3.0.41->ipython>=5.5.0->pycaret) (0.2.13)\n",
      "Requirement already satisfied: six>=1.5 in c:\\users\\mardo\\.conda\\envs\\pycaret_env_2\\lib\\site-packages (from python-dateutil>=2.7->matplotlib>=3.3.0->pycaret) (1.16.0)\n",
      "Requirement already satisfied: executing>=1.2.0 in c:\\users\\mardo\\.conda\\envs\\pycaret_env_2\\lib\\site-packages (from stack-data->ipython>=5.5.0->pycaret) (2.1.0)\n",
      "Requirement already satisfied: asttokens>=2.1.0 in c:\\users\\mardo\\.conda\\envs\\pycaret_env_2\\lib\\site-packages (from stack-data->ipython>=5.5.0->pycaret) (2.4.1)\n",
      "Requirement already satisfied: pure-eval in c:\\users\\mardo\\.conda\\envs\\pycaret_env_2\\lib\\site-packages (from stack-data->ipython>=5.5.0->pycaret) (0.2.3)\n",
      "Requirement already satisfied: itsdangerous>=2.1.2 in c:\\users\\mardo\\.conda\\envs\\pycaret_env_2\\lib\\site-packages (from Flask<3.1,>=1.0.4->dash>=2.9.0->plotly-resampler>=0.8.3.1->pycaret) (2.2.0)\n",
      "Requirement already satisfied: click>=8.1.3 in c:\\users\\mardo\\.conda\\envs\\pycaret_env_2\\lib\\site-packages (from Flask<3.1,>=1.0.4->dash>=2.9.0->plotly-resampler>=0.8.3.1->pycaret) (8.1.7)\n",
      "Requirement already satisfied: blinker>=1.6.2 in c:\\users\\mardo\\.conda\\envs\\pycaret_env_2\\lib\\site-packages (from Flask<3.1,>=1.0.4->dash>=2.9.0->plotly-resampler>=0.8.3.1->pycaret) (1.9.0)\n",
      "Note: you may need to restart the kernel to use updated packages.\n"
     ]
    }
   ],
   "source": [
    "pip install pycaret"
   ]
  },
  {
   "cell_type": "code",
   "execution_count": 9,
   "metadata": {},
   "outputs": [
    {
     "ename": "ImportError",
     "evalue": "cannot import name '_format_load_msg' from 'joblib.memory' (C:\\Users\\mardo\\.conda\\envs\\pycaret_env_2\\lib\\site-packages\\joblib\\memory.py)",
     "output_type": "error",
     "traceback": [
      "\u001b[1;31m---------------------------------------------------------------------------\u001b[0m",
      "\u001b[1;31mImportError\u001b[0m                               Traceback (most recent call last)",
      "Cell \u001b[1;32mIn[9], line 1\u001b[0m\n\u001b[1;32m----> 1\u001b[0m \u001b[38;5;28;01mfrom\u001b[39;00m \u001b[38;5;21;01mpycaret\u001b[39;00m\u001b[38;5;21;01m.\u001b[39;00m\u001b[38;5;21;01mclassification\u001b[39;00m \u001b[38;5;28;01mimport\u001b[39;00m setup, compare_models\n",
      "File \u001b[1;32m~\\.conda\\envs\\pycaret_env_2\\lib\\site-packages\\pycaret\\classification\\__init__.py:1\u001b[0m\n\u001b[1;32m----> 1\u001b[0m \u001b[38;5;28;01mfrom\u001b[39;00m \u001b[38;5;21;01mpycaret\u001b[39;00m\u001b[38;5;21;01m.\u001b[39;00m\u001b[38;5;21;01mclassification\u001b[39;00m\u001b[38;5;21;01m.\u001b[39;00m\u001b[38;5;21;01mfunctional\u001b[39;00m \u001b[38;5;28;01mimport\u001b[39;00m (\n\u001b[0;32m      2\u001b[0m     add_metric,\n\u001b[0;32m      3\u001b[0m     automl,\n\u001b[0;32m      4\u001b[0m     blend_models,\n\u001b[0;32m      5\u001b[0m     calibrate_model,\n\u001b[0;32m      6\u001b[0m     check_drift,\n\u001b[0;32m      7\u001b[0m     check_fairness,\n\u001b[0;32m      8\u001b[0m     compare_models,\n\u001b[0;32m      9\u001b[0m     convert_model,\n\u001b[0;32m     10\u001b[0m     create_api,\n\u001b[0;32m     11\u001b[0m     create_app,\n\u001b[0;32m     12\u001b[0m     create_docker,\n\u001b[0;32m     13\u001b[0m     create_model,\n\u001b[0;32m     14\u001b[0m     dashboard,\n\u001b[0;32m     15\u001b[0m     deep_check,\n\u001b[0;32m     16\u001b[0m     deploy_model,\n\u001b[0;32m     17\u001b[0m     eda,\n\u001b[0;32m     18\u001b[0m     ensemble_model,\n\u001b[0;32m     19\u001b[0m     evaluate_model,\n\u001b[0;32m     20\u001b[0m     finalize_model,\n\u001b[0;32m     21\u001b[0m     get_allowed_engines,\n\u001b[0;32m     22\u001b[0m     get_config,\n\u001b[0;32m     23\u001b[0m     get_current_experiment,\n\u001b[0;32m     24\u001b[0m     get_engine,\n\u001b[0;32m     25\u001b[0m     get_leaderboard,\n\u001b[0;32m     26\u001b[0m     get_logs,\n\u001b[0;32m     27\u001b[0m     get_metrics,\n\u001b[0;32m     28\u001b[0m     interpret_model,\n\u001b[0;32m     29\u001b[0m     load_experiment,\n\u001b[0;32m     30\u001b[0m     load_model,\n\u001b[0;32m     31\u001b[0m     models,\n\u001b[0;32m     32\u001b[0m     optimize_threshold,\n\u001b[0;32m     33\u001b[0m     plot_model,\n\u001b[0;32m     34\u001b[0m     predict_model,\n\u001b[0;32m     35\u001b[0m     pull,\n\u001b[0;32m     36\u001b[0m     remove_metric,\n\u001b[0;32m     37\u001b[0m     save_experiment,\n\u001b[0;32m     38\u001b[0m     save_model,\n\u001b[0;32m     39\u001b[0m     set_config,\n\u001b[0;32m     40\u001b[0m     set_current_experiment,\n\u001b[0;32m     41\u001b[0m     setup,\n\u001b[0;32m     42\u001b[0m     stack_models,\n\u001b[0;32m     43\u001b[0m     tune_model,\n\u001b[0;32m     44\u001b[0m )\n\u001b[0;32m     45\u001b[0m \u001b[38;5;28;01mfrom\u001b[39;00m \u001b[38;5;21;01mpycaret\u001b[39;00m\u001b[38;5;21;01m.\u001b[39;00m\u001b[38;5;21;01mclassification\u001b[39;00m\u001b[38;5;21;01m.\u001b[39;00m\u001b[38;5;21;01moop\u001b[39;00m \u001b[38;5;28;01mimport\u001b[39;00m ClassificationExperiment\n\u001b[0;32m     47\u001b[0m __all__ \u001b[38;5;241m=\u001b[39m [\n\u001b[0;32m     48\u001b[0m     \u001b[38;5;124m\"\u001b[39m\u001b[38;5;124mClassificationExperiment\u001b[39m\u001b[38;5;124m\"\u001b[39m,\n\u001b[0;32m     49\u001b[0m     \u001b[38;5;124m\"\u001b[39m\u001b[38;5;124msetup\u001b[39m\u001b[38;5;124m\"\u001b[39m,\n\u001b[1;32m   (...)\u001b[0m\n\u001b[0;32m     90\u001b[0m     \u001b[38;5;124m\"\u001b[39m\u001b[38;5;124mcheck_drift\u001b[39m\u001b[38;5;124m\"\u001b[39m,\n\u001b[0;32m     91\u001b[0m ]\n",
      "File \u001b[1;32m~\\.conda\\envs\\pycaret_env_2\\lib\\site-packages\\pycaret\\classification\\functional.py:8\u001b[0m\n\u001b[0;32m      5\u001b[0m \u001b[38;5;28;01mimport\u001b[39;00m \u001b[38;5;21;01mpandas\u001b[39;00m \u001b[38;5;28;01mas\u001b[39;00m \u001b[38;5;21;01mpd\u001b[39;00m\n\u001b[0;32m      6\u001b[0m \u001b[38;5;28;01mfrom\u001b[39;00m \u001b[38;5;21;01mjoblib\u001b[39;00m\u001b[38;5;21;01m.\u001b[39;00m\u001b[38;5;21;01mmemory\u001b[39;00m \u001b[38;5;28;01mimport\u001b[39;00m Memory\n\u001b[1;32m----> 8\u001b[0m \u001b[38;5;28;01mfrom\u001b[39;00m \u001b[38;5;21;01mpycaret\u001b[39;00m\u001b[38;5;21;01m.\u001b[39;00m\u001b[38;5;21;01mclassification\u001b[39;00m\u001b[38;5;21;01m.\u001b[39;00m\u001b[38;5;21;01moop\u001b[39;00m \u001b[38;5;28;01mimport\u001b[39;00m ClassificationExperiment\n\u001b[0;32m      9\u001b[0m \u001b[38;5;28;01mfrom\u001b[39;00m \u001b[38;5;21;01mpycaret\u001b[39;00m\u001b[38;5;21;01m.\u001b[39;00m\u001b[38;5;21;01minternal\u001b[39;00m\u001b[38;5;21;01m.\u001b[39;00m\u001b[38;5;21;01mparallel\u001b[39;00m\u001b[38;5;21;01m.\u001b[39;00m\u001b[38;5;21;01mparallel_backend\u001b[39;00m \u001b[38;5;28;01mimport\u001b[39;00m ParallelBackend\n\u001b[0;32m     10\u001b[0m \u001b[38;5;28;01mfrom\u001b[39;00m \u001b[38;5;21;01mpycaret\u001b[39;00m\u001b[38;5;21;01m.\u001b[39;00m\u001b[38;5;21;01mloggers\u001b[39;00m\u001b[38;5;21;01m.\u001b[39;00m\u001b[38;5;21;01mbase_logger\u001b[39;00m \u001b[38;5;28;01mimport\u001b[39;00m BaseLogger\n",
      "File \u001b[1;32m~\\.conda\\envs\\pycaret_env_2\\lib\\site-packages\\pycaret\\classification\\oop.py:31\u001b[0m\n\u001b[0;32m     29\u001b[0m \u001b[38;5;28;01mfrom\u001b[39;00m \u001b[38;5;21;01mpycaret\u001b[39;00m\u001b[38;5;21;01m.\u001b[39;00m\u001b[38;5;21;01minternal\u001b[39;00m\u001b[38;5;21;01m.\u001b[39;00m\u001b[38;5;21;01mpipeline\u001b[39;00m \u001b[38;5;28;01mimport\u001b[39;00m Pipeline \u001b[38;5;28;01mas\u001b[39;00m InternalPipeline\n\u001b[0;32m     30\u001b[0m \u001b[38;5;28;01mfrom\u001b[39;00m \u001b[38;5;21;01mpycaret\u001b[39;00m\u001b[38;5;21;01m.\u001b[39;00m\u001b[38;5;21;01minternal\u001b[39;00m\u001b[38;5;21;01m.\u001b[39;00m\u001b[38;5;21;01mpreprocess\u001b[39;00m\u001b[38;5;21;01m.\u001b[39;00m\u001b[38;5;21;01mpreprocessor\u001b[39;00m \u001b[38;5;28;01mimport\u001b[39;00m Preprocessor\n\u001b[1;32m---> 31\u001b[0m \u001b[38;5;28;01mfrom\u001b[39;00m \u001b[38;5;21;01mpycaret\u001b[39;00m\u001b[38;5;21;01m.\u001b[39;00m\u001b[38;5;21;01minternal\u001b[39;00m\u001b[38;5;21;01m.\u001b[39;00m\u001b[38;5;21;01mpycaret_experiment\u001b[39;00m\u001b[38;5;21;01m.\u001b[39;00m\u001b[38;5;21;01mnon_ts_supervised_experiment\u001b[39;00m \u001b[38;5;28;01mimport\u001b[39;00m (\n\u001b[0;32m     32\u001b[0m     _NonTSSupervisedExperiment,\n\u001b[0;32m     33\u001b[0m )\n\u001b[0;32m     34\u001b[0m \u001b[38;5;28;01mfrom\u001b[39;00m \u001b[38;5;21;01mpycaret\u001b[39;00m\u001b[38;5;21;01m.\u001b[39;00m\u001b[38;5;21;01minternal\u001b[39;00m\u001b[38;5;21;01m.\u001b[39;00m\u001b[38;5;21;01mvalidation\u001b[39;00m \u001b[38;5;28;01mimport\u001b[39;00m is_sklearn_cv_generator\n\u001b[0;32m     35\u001b[0m \u001b[38;5;28;01mfrom\u001b[39;00m \u001b[38;5;21;01mpycaret\u001b[39;00m\u001b[38;5;21;01m.\u001b[39;00m\u001b[38;5;21;01mloggers\u001b[39;00m\u001b[38;5;21;01m.\u001b[39;00m\u001b[38;5;21;01mbase_logger\u001b[39;00m \u001b[38;5;28;01mimport\u001b[39;00m BaseLogger\n",
      "File \u001b[1;32m~\\.conda\\envs\\pycaret_env_2\\lib\\site-packages\\pycaret\\internal\\pycaret_experiment\\non_ts_supervised_experiment.py:3\u001b[0m\n\u001b[0;32m      1\u001b[0m \u001b[38;5;28;01mimport\u001b[39;00m \u001b[38;5;21;01mpandas\u001b[39;00m \u001b[38;5;28;01mas\u001b[39;00m \u001b[38;5;21;01mpd\u001b[39;00m\n\u001b[1;32m----> 3\u001b[0m \u001b[38;5;28;01mfrom\u001b[39;00m \u001b[38;5;21;01mpycaret\u001b[39;00m\u001b[38;5;21;01m.\u001b[39;00m\u001b[38;5;21;01minternal\u001b[39;00m\u001b[38;5;21;01m.\u001b[39;00m\u001b[38;5;21;01mpycaret_experiment\u001b[39;00m\u001b[38;5;21;01m.\u001b[39;00m\u001b[38;5;21;01msupervised_experiment\u001b[39;00m \u001b[38;5;28;01mimport\u001b[39;00m (\n\u001b[0;32m      4\u001b[0m     _SupervisedExperiment,\n\u001b[0;32m      5\u001b[0m )\n\u001b[0;32m      8\u001b[0m \u001b[38;5;28;01mclass\u001b[39;00m \u001b[38;5;21;01m_NonTSSupervisedExperiment\u001b[39;00m(_SupervisedExperiment):\n\u001b[0;32m      9\u001b[0m     \u001b[38;5;28;01mdef\u001b[39;00m \u001b[38;5;21m__init__\u001b[39m(\u001b[38;5;28mself\u001b[39m) \u001b[38;5;241m-\u001b[39m\u001b[38;5;241m>\u001b[39m \u001b[38;5;28;01mNone\u001b[39;00m:\n",
      "File \u001b[1;32m~\\.conda\\envs\\pycaret_env_2\\lib\\site-packages\\pycaret\\internal\\pycaret_experiment\\supervised_experiment.py:53\u001b[0m\n\u001b[0;32m     46\u001b[0m \u001b[38;5;28;01mfrom\u001b[39;00m \u001b[38;5;21;01mpycaret\u001b[39;00m\u001b[38;5;21;01m.\u001b[39;00m\u001b[38;5;21;01minternal\u001b[39;00m\u001b[38;5;21;01m.\u001b[39;00m\u001b[38;5;21;01mparallel\u001b[39;00m\u001b[38;5;21;01m.\u001b[39;00m\u001b[38;5;21;01mparallel_backend\u001b[39;00m \u001b[38;5;28;01mimport\u001b[39;00m ParallelBackend\n\u001b[0;32m     47\u001b[0m \u001b[38;5;28;01mfrom\u001b[39;00m \u001b[38;5;21;01mpycaret\u001b[39;00m\u001b[38;5;21;01m.\u001b[39;00m\u001b[38;5;21;01minternal\u001b[39;00m\u001b[38;5;21;01m.\u001b[39;00m\u001b[38;5;21;01mpipeline\u001b[39;00m \u001b[38;5;28;01mimport\u001b[39;00m (\n\u001b[0;32m     48\u001b[0m     Pipeline,\n\u001b[0;32m     49\u001b[0m     estimator_pipeline,\n\u001b[0;32m     50\u001b[0m     get_pipeline_estimator_label,\n\u001b[0;32m     51\u001b[0m     get_pipeline_fit_kwargs,\n\u001b[0;32m     52\u001b[0m )\n\u001b[1;32m---> 53\u001b[0m \u001b[38;5;28;01mfrom\u001b[39;00m \u001b[38;5;21;01mpycaret\u001b[39;00m\u001b[38;5;21;01m.\u001b[39;00m\u001b[38;5;21;01minternal\u001b[39;00m\u001b[38;5;21;01m.\u001b[39;00m\u001b[38;5;21;01mpycaret_experiment\u001b[39;00m\u001b[38;5;21;01m.\u001b[39;00m\u001b[38;5;21;01mtabular_experiment\u001b[39;00m \u001b[38;5;28;01mimport\u001b[39;00m _TabularExperiment\n\u001b[0;32m     54\u001b[0m \u001b[38;5;28;01mfrom\u001b[39;00m \u001b[38;5;21;01mpycaret\u001b[39;00m\u001b[38;5;21;01m.\u001b[39;00m\u001b[38;5;21;01minternal\u001b[39;00m\u001b[38;5;21;01m.\u001b[39;00m\u001b[38;5;21;01mtunable\u001b[39;00m \u001b[38;5;28;01mimport\u001b[39;00m TunableMixin\n\u001b[0;32m     55\u001b[0m \u001b[38;5;28;01mfrom\u001b[39;00m \u001b[38;5;21;01mpycaret\u001b[39;00m\u001b[38;5;21;01m.\u001b[39;00m\u001b[38;5;21;01minternal\u001b[39;00m\u001b[38;5;21;01m.\u001b[39;00m\u001b[38;5;21;01mvalidation\u001b[39;00m \u001b[38;5;28;01mimport\u001b[39;00m is_fitted, is_sklearn_cv_generator\n",
      "File \u001b[1;32m~\\.conda\\envs\\pycaret_env_2\\lib\\site-packages\\pycaret\\internal\\pycaret_experiment\\tabular_experiment.py:29\u001b[0m\n\u001b[0;32m     27\u001b[0m \u001b[38;5;28;01mfrom\u001b[39;00m \u001b[38;5;21;01mpycaret\u001b[39;00m\u001b[38;5;21;01m.\u001b[39;00m\u001b[38;5;21;01minternal\u001b[39;00m\u001b[38;5;21;01m.\u001b[39;00m\u001b[38;5;21;01mdisplay\u001b[39;00m \u001b[38;5;28;01mimport\u001b[39;00m CommonDisplay\n\u001b[0;32m     28\u001b[0m \u001b[38;5;28;01mfrom\u001b[39;00m \u001b[38;5;21;01mpycaret\u001b[39;00m\u001b[38;5;21;01m.\u001b[39;00m\u001b[38;5;21;01minternal\u001b[39;00m\u001b[38;5;21;01m.\u001b[39;00m\u001b[38;5;21;01mlogging\u001b[39;00m \u001b[38;5;28;01mimport\u001b[39;00m create_logger, get_logger, redirect_output\n\u001b[1;32m---> 29\u001b[0m \u001b[38;5;28;01mfrom\u001b[39;00m \u001b[38;5;21;01mpycaret\u001b[39;00m\u001b[38;5;21;01m.\u001b[39;00m\u001b[38;5;21;01minternal\u001b[39;00m\u001b[38;5;21;01m.\u001b[39;00m\u001b[38;5;21;01mmemory\u001b[39;00m \u001b[38;5;28;01mimport\u001b[39;00m get_memory\n\u001b[0;32m     30\u001b[0m \u001b[38;5;28;01mfrom\u001b[39;00m \u001b[38;5;21;01mpycaret\u001b[39;00m\u001b[38;5;21;01m.\u001b[39;00m\u001b[38;5;21;01minternal\u001b[39;00m\u001b[38;5;21;01m.\u001b[39;00m\u001b[38;5;21;01mpipeline\u001b[39;00m \u001b[38;5;28;01mimport\u001b[39;00m Pipeline \u001b[38;5;28;01mas\u001b[39;00m InternalPipeline\n\u001b[0;32m     31\u001b[0m \u001b[38;5;28;01mfrom\u001b[39;00m \u001b[38;5;21;01mpycaret\u001b[39;00m\u001b[38;5;21;01m.\u001b[39;00m\u001b[38;5;21;01minternal\u001b[39;00m\u001b[38;5;21;01m.\u001b[39;00m\u001b[38;5;21;01mplots\u001b[39;00m\u001b[38;5;21;01m.\u001b[39;00m\u001b[38;5;21;01mhelper\u001b[39;00m \u001b[38;5;28;01mimport\u001b[39;00m MatplotlibDefaultDPI\n",
      "File \u001b[1;32m~\\.conda\\envs\\pycaret_env_2\\lib\\site-packages\\pycaret\\internal\\memory.py:25\u001b[0m\n\u001b[0;32m     22\u001b[0m \u001b[38;5;28;01mfrom\u001b[39;00m \u001b[38;5;21;01mtyping\u001b[39;00m \u001b[38;5;28;01mimport\u001b[39;00m TYPE_CHECKING, Union\n\u001b[0;32m     24\u001b[0m \u001b[38;5;28;01mfrom\u001b[39;00m \u001b[38;5;21;01mjoblib\u001b[39;00m\u001b[38;5;21;01m.\u001b[39;00m\u001b[38;5;21;01mhashing\u001b[39;00m \u001b[38;5;28;01mimport\u001b[39;00m Hasher, Pickler\n\u001b[1;32m---> 25\u001b[0m \u001b[38;5;28;01mfrom\u001b[39;00m \u001b[38;5;21;01mjoblib\u001b[39;00m\u001b[38;5;21;01m.\u001b[39;00m\u001b[38;5;21;01mmemory\u001b[39;00m \u001b[38;5;28;01mimport\u001b[39;00m (\n\u001b[0;32m     26\u001b[0m     MemorizedFunc,\n\u001b[0;32m     27\u001b[0m     MemorizedResult,\n\u001b[0;32m     28\u001b[0m     Memory,\n\u001b[0;32m     29\u001b[0m     NotMemorizedResult,\n\u001b[0;32m     30\u001b[0m     _format_load_msg,\n\u001b[0;32m     31\u001b[0m     filter_args,\n\u001b[0;32m     32\u001b[0m     format_call,\n\u001b[0;32m     33\u001b[0m     format_signature,\n\u001b[0;32m     34\u001b[0m     format_time,\n\u001b[0;32m     35\u001b[0m     get_func_name,\n\u001b[0;32m     36\u001b[0m )\n\u001b[0;32m     37\u001b[0m \u001b[38;5;28;01mfrom\u001b[39;00m \u001b[38;5;21;01mxxhash\u001b[39;00m \u001b[38;5;28;01mimport\u001b[39;00m xxh128 \u001b[38;5;28;01mas\u001b[39;00m xxh\n\u001b[0;32m     39\u001b[0m \u001b[38;5;28;01mtry\u001b[39;00m:\n",
      "\u001b[1;31mImportError\u001b[0m: cannot import name '_format_load_msg' from 'joblib.memory' (C:\\Users\\mardo\\.conda\\envs\\pycaret_env_2\\lib\\site-packages\\joblib\\memory.py)"
     ]
    }
   ],
   "source": [
    "from pycaret.classification import setup, compare_models"
   ]
  },
  {
   "cell_type": "code",
   "execution_count": null,
   "metadata": {},
   "outputs": [],
   "source": [
    "import sys\n",
    "print(sys.version)"
   ]
  },
  {
   "cell_type": "code",
   "execution_count": 10,
   "metadata": {
    "colab": {
     "base_uri": "https://localhost:8080/",
     "height": 211
    },
    "colab_type": "code",
    "id": "lUvE187JEQm3",
    "outputId": "8741262c-0e33-4ec0-b54d-3c8fb41e52c0"
   },
   "outputs": [
    {
     "data": {
      "text/html": [
       "<div>\n",
       "<style scoped>\n",
       "    .dataframe tbody tr th:only-of-type {\n",
       "        vertical-align: middle;\n",
       "    }\n",
       "\n",
       "    .dataframe tbody tr th {\n",
       "        vertical-align: top;\n",
       "    }\n",
       "\n",
       "    .dataframe thead th {\n",
       "        text-align: right;\n",
       "    }\n",
       "</style>\n",
       "<table border=\"1\" class=\"dataframe\">\n",
       "  <thead>\n",
       "    <tr style=\"text-align: right;\">\n",
       "      <th></th>\n",
       "      <th>LIMIT_BAL</th>\n",
       "      <th>SEX</th>\n",
       "      <th>EDUCATION</th>\n",
       "      <th>MARRIAGE</th>\n",
       "      <th>AGE</th>\n",
       "      <th>PAY_1</th>\n",
       "      <th>PAY_2</th>\n",
       "      <th>PAY_3</th>\n",
       "      <th>PAY_4</th>\n",
       "      <th>PAY_5</th>\n",
       "      <th>...</th>\n",
       "      <th>BILL_AMT4</th>\n",
       "      <th>BILL_AMT5</th>\n",
       "      <th>BILL_AMT6</th>\n",
       "      <th>PAY_AMT1</th>\n",
       "      <th>PAY_AMT2</th>\n",
       "      <th>PAY_AMT3</th>\n",
       "      <th>PAY_AMT4</th>\n",
       "      <th>PAY_AMT5</th>\n",
       "      <th>PAY_AMT6</th>\n",
       "      <th>default</th>\n",
       "    </tr>\n",
       "  </thead>\n",
       "  <tbody>\n",
       "    <tr>\n",
       "      <th>0</th>\n",
       "      <td>20000</td>\n",
       "      <td>2</td>\n",
       "      <td>2</td>\n",
       "      <td>1</td>\n",
       "      <td>24</td>\n",
       "      <td>2</td>\n",
       "      <td>2</td>\n",
       "      <td>-1</td>\n",
       "      <td>-1</td>\n",
       "      <td>-2</td>\n",
       "      <td>...</td>\n",
       "      <td>0.0</td>\n",
       "      <td>0.0</td>\n",
       "      <td>0.0</td>\n",
       "      <td>0.0</td>\n",
       "      <td>689.0</td>\n",
       "      <td>0.0</td>\n",
       "      <td>0.0</td>\n",
       "      <td>0.0</td>\n",
       "      <td>0.0</td>\n",
       "      <td>1</td>\n",
       "    </tr>\n",
       "    <tr>\n",
       "      <th>1</th>\n",
       "      <td>90000</td>\n",
       "      <td>2</td>\n",
       "      <td>2</td>\n",
       "      <td>2</td>\n",
       "      <td>34</td>\n",
       "      <td>0</td>\n",
       "      <td>0</td>\n",
       "      <td>0</td>\n",
       "      <td>0</td>\n",
       "      <td>0</td>\n",
       "      <td>...</td>\n",
       "      <td>14331.0</td>\n",
       "      <td>14948.0</td>\n",
       "      <td>15549.0</td>\n",
       "      <td>1518.0</td>\n",
       "      <td>1500.0</td>\n",
       "      <td>1000.0</td>\n",
       "      <td>1000.0</td>\n",
       "      <td>1000.0</td>\n",
       "      <td>5000.0</td>\n",
       "      <td>0</td>\n",
       "    </tr>\n",
       "    <tr>\n",
       "      <th>2</th>\n",
       "      <td>50000</td>\n",
       "      <td>2</td>\n",
       "      <td>2</td>\n",
       "      <td>1</td>\n",
       "      <td>37</td>\n",
       "      <td>0</td>\n",
       "      <td>0</td>\n",
       "      <td>0</td>\n",
       "      <td>0</td>\n",
       "      <td>0</td>\n",
       "      <td>...</td>\n",
       "      <td>28314.0</td>\n",
       "      <td>28959.0</td>\n",
       "      <td>29547.0</td>\n",
       "      <td>2000.0</td>\n",
       "      <td>2019.0</td>\n",
       "      <td>1200.0</td>\n",
       "      <td>1100.0</td>\n",
       "      <td>1069.0</td>\n",
       "      <td>1000.0</td>\n",
       "      <td>0</td>\n",
       "    </tr>\n",
       "    <tr>\n",
       "      <th>3</th>\n",
       "      <td>50000</td>\n",
       "      <td>1</td>\n",
       "      <td>2</td>\n",
       "      <td>1</td>\n",
       "      <td>57</td>\n",
       "      <td>-1</td>\n",
       "      <td>0</td>\n",
       "      <td>-1</td>\n",
       "      <td>0</td>\n",
       "      <td>0</td>\n",
       "      <td>...</td>\n",
       "      <td>20940.0</td>\n",
       "      <td>19146.0</td>\n",
       "      <td>19131.0</td>\n",
       "      <td>2000.0</td>\n",
       "      <td>36681.0</td>\n",
       "      <td>10000.0</td>\n",
       "      <td>9000.0</td>\n",
       "      <td>689.0</td>\n",
       "      <td>679.0</td>\n",
       "      <td>0</td>\n",
       "    </tr>\n",
       "    <tr>\n",
       "      <th>4</th>\n",
       "      <td>50000</td>\n",
       "      <td>1</td>\n",
       "      <td>1</td>\n",
       "      <td>2</td>\n",
       "      <td>37</td>\n",
       "      <td>0</td>\n",
       "      <td>0</td>\n",
       "      <td>0</td>\n",
       "      <td>0</td>\n",
       "      <td>0</td>\n",
       "      <td>...</td>\n",
       "      <td>19394.0</td>\n",
       "      <td>19619.0</td>\n",
       "      <td>20024.0</td>\n",
       "      <td>2500.0</td>\n",
       "      <td>1815.0</td>\n",
       "      <td>657.0</td>\n",
       "      <td>1000.0</td>\n",
       "      <td>1000.0</td>\n",
       "      <td>800.0</td>\n",
       "      <td>0</td>\n",
       "    </tr>\n",
       "  </tbody>\n",
       "</table>\n",
       "<p>5 rows × 24 columns</p>\n",
       "</div>"
      ],
      "text/plain": [
       "   LIMIT_BAL  SEX  EDUCATION  MARRIAGE  AGE  PAY_1  PAY_2  PAY_3  PAY_4  \\\n",
       "0      20000    2          2         1   24      2      2     -1     -1   \n",
       "1      90000    2          2         2   34      0      0      0      0   \n",
       "2      50000    2          2         1   37      0      0      0      0   \n",
       "3      50000    1          2         1   57     -1      0     -1      0   \n",
       "4      50000    1          1         2   37      0      0      0      0   \n",
       "\n",
       "   PAY_5  ...  BILL_AMT4  BILL_AMT5  BILL_AMT6  PAY_AMT1  PAY_AMT2  PAY_AMT3  \\\n",
       "0     -2  ...        0.0        0.0        0.0       0.0     689.0       0.0   \n",
       "1      0  ...    14331.0    14948.0    15549.0    1518.0    1500.0    1000.0   \n",
       "2      0  ...    28314.0    28959.0    29547.0    2000.0    2019.0    1200.0   \n",
       "3      0  ...    20940.0    19146.0    19131.0    2000.0   36681.0   10000.0   \n",
       "4      0  ...    19394.0    19619.0    20024.0    2500.0    1815.0     657.0   \n",
       "\n",
       "   PAY_AMT4  PAY_AMT5  PAY_AMT6  default  \n",
       "0       0.0       0.0       0.0        1  \n",
       "1    1000.0    1000.0    5000.0        0  \n",
       "2    1100.0    1069.0    1000.0        0  \n",
       "3    9000.0     689.0     679.0        0  \n",
       "4    1000.0    1000.0     800.0        0  \n",
       "\n",
       "[5 rows x 24 columns]"
      ]
     },
     "metadata": {},
     "output_type": "display_data"
    }
   ],
   "source": [
    "from pycaret.datasets import get_data\n",
    "dataset = get_data('credit')"
   ]
  },
  {
   "cell_type": "code",
   "execution_count": null,
   "metadata": {
    "colab": {
     "base_uri": "https://localhost:8080/",
     "height": 33
    },
    "colab_type": "code",
    "id": "kMqDGBkJEQnN",
    "outputId": "b2015b7a-4c1a-4377-d9cf-3e9ac5ce3ea2"
   },
   "outputs": [],
   "source": [
    "#verifica a dimensão do dataframe\n",
    "dataset.shape"
   ]
  },
  {
   "cell_type": "markdown",
   "metadata": {
    "colab_type": "text",
    "id": "LyGFryEhEQne"
   },
   "source": [
    "Para demonstrar a função `predict_model()` em dados não vistos, uma amostra de 1.200 registros foi retida do conjunto de dados original para ser usada para previsões. Isso não deve ser confundido com uma divisão de treinamento/teste, pois essa divisão específica é realizada para simular um cenário da vida real. Outra maneira de pensar sobre isso é que esses 1.200 registros não estão disponíveis no momento em que o experimento de aprendizado de máquina foi realizado."
   ]
  },
  {
   "cell_type": "code",
   "execution_count": 6,
   "metadata": {
    "colab": {
     "base_uri": "https://localhost:8080/",
     "height": 50
    },
    "colab_type": "code",
    "id": "hXmaL1xFEQnj",
    "outputId": "f1f62a7d-5d3d-4832-ee00-a4d20ee39c41"
   },
   "outputs": [
    {
     "ename": "NameError",
     "evalue": "name 'dataset' is not defined",
     "output_type": "error",
     "traceback": [
      "\u001b[1;31m---------------------------------------------------------------------------\u001b[0m",
      "\u001b[1;31mNameError\u001b[0m                                 Traceback (most recent call last)",
      "Cell \u001b[1;32mIn[6], line 1\u001b[0m\n\u001b[1;32m----> 1\u001b[0m data \u001b[38;5;241m=\u001b[39m \u001b[43mdataset\u001b[49m\u001b[38;5;241m.\u001b[39msample(frac\u001b[38;5;241m=\u001b[39m\u001b[38;5;241m0.95\u001b[39m, random_state\u001b[38;5;241m=\u001b[39m\u001b[38;5;241m786\u001b[39m)\n\u001b[0;32m      2\u001b[0m data_unseen \u001b[38;5;241m=\u001b[39m dataset\u001b[38;5;241m.\u001b[39mdrop(data\u001b[38;5;241m.\u001b[39mindex)\n\u001b[0;32m      3\u001b[0m data\u001b[38;5;241m.\u001b[39mreset_index(inplace\u001b[38;5;241m=\u001b[39m\u001b[38;5;28;01mTrue\u001b[39;00m, drop\u001b[38;5;241m=\u001b[39m\u001b[38;5;28;01mTrue\u001b[39;00m)\n",
      "\u001b[1;31mNameError\u001b[0m: name 'dataset' is not defined"
     ]
    }
   ],
   "source": [
    "data = dataset.sample(frac=0.95, random_state=786)\n",
    "data_unseen = dataset.drop(data.index)\n",
    "data.reset_index(inplace=True, drop=True)\n",
    "data_unseen.reset_index(inplace=True, drop=True)\n",
    "print('Conjunto de dados para modelagem (treino e teste): ' + str(data.shape))\n",
    "print('Conjunto de dados não usados no treino/teste, apenas como validação: ' + str(data_unseen.shape))"
   ]
  },
  {
   "cell_type": "markdown",
   "metadata": {
    "colab_type": "text",
    "id": "y9s9wNcjEQn0"
   },
   "source": [
    "# 6.0 Configurando o ambiente no PyCaret"
   ]
  },
  {
   "cell_type": "markdown",
   "metadata": {
    "colab_type": "text",
    "id": "ZlA01j6NEQn7"
   },
   "source": [
    "A função `setup()` inicializa o ambiente em pycaret e cria o pipeline de transformação para preparar os dados para modelagem e implantação. `setup()` deve ser chamado antes de executar qualquer outra função em pycaret. São necessários dois parâmetros obrigatórios: um dataframe de pandas e o nome da coluna de destino. Todos os outros parâmetros são opcionais e são usados para personalizar o pipeline de pré-processamento (veremos em tutoriais posteriores).\n",
    "\n",
    "Quando `setup()` é executado, o algoritmo de inferência do PyCaret inferirá automaticamente os tipos de dados para todos os recursos com base em determinadas propriedades. O tipo de dados deve ser inferido corretamente, mas isso nem sempre é o caso. Para explicar isso, o PyCaret exibe uma tabela contendo os recursos e seus tipos de dados inferidos após a execução de `setup()`. Se todos os tipos de dados forem identificados corretamente, pode-se pressionar \"enter\" para continuar ou digitar \"quit\" para encerrar o experimento. Garantir que os tipos de dados estejam corretos é de fundamental importância no PyCaret, pois ele executa automaticamente algumas tarefas de pré-processamento que são imperativas para qualquer experimento de aprendizado de máquina. Essas tarefas são executadas de forma diferente para cada tipo de dados, o que significa que é muito importante que elas sejam configuradas corretamente.\n",
    "\n",
    "Em tutoriais posteriores, aprenderemos como sobrescrever o tipo de dados inferido do PyCaret usando os parâmetros `numeric_features` e `categorical_features` em `setup()`."
   ]
  },
  {
   "cell_type": "code",
   "execution_count": 4,
   "metadata": {
    "colab": {},
    "colab_type": "code",
    "id": "BOmRR0deEQoA"
   },
   "outputs": [
    {
     "name": "stderr",
     "output_type": "stream",
     "text": [
      "C:\\Users\\lucas_000\\anaconda3\\lib\\site-packages\\dask\\dataframe\\utils.py:367: FutureWarning: pandas.Int64Index is deprecated and will be removed from pandas in a future version. Use pandas.Index with the appropriate dtype instead.\n",
      "  _numeric_index_types = (pd.Int64Index, pd.Float64Index, pd.UInt64Index)\n",
      "C:\\Users\\lucas_000\\anaconda3\\lib\\site-packages\\dask\\dataframe\\utils.py:367: FutureWarning: pandas.Float64Index is deprecated and will be removed from pandas in a future version. Use pandas.Index with the appropriate dtype instead.\n",
      "  _numeric_index_types = (pd.Int64Index, pd.Float64Index, pd.UInt64Index)\n",
      "C:\\Users\\lucas_000\\anaconda3\\lib\\site-packages\\dask\\dataframe\\utils.py:367: FutureWarning: pandas.UInt64Index is deprecated and will be removed from pandas in a future version. Use pandas.Index with the appropriate dtype instead.\n",
      "  _numeric_index_types = (pd.Int64Index, pd.Float64Index, pd.UInt64Index)\n"
     ]
    }
   ],
   "source": [
    "from pycaret.classification import *"
   ]
  },
  {
   "cell_type": "code",
   "execution_count": 5,
   "metadata": {
    "colab": {
     "base_uri": "https://localhost:8080/",
     "height": 803
    },
    "colab_type": "code",
    "id": "k2IuvfDHEQoO",
    "outputId": "c7754ae9-b060-4218-b6f0-de65a815aa3a"
   },
   "outputs": [
    {
     "data": {
      "text/html": [
       "<style type=\"text/css\">\n",
       "#T_68f52_row44_col1 {\n",
       "  background-color: lightgreen;\n",
       "}\n",
       "</style>\n",
       "<table id=\"T_68f52\">\n",
       "  <thead>\n",
       "    <tr>\n",
       "      <th class=\"blank level0\" >&nbsp;</th>\n",
       "      <th id=\"T_68f52_level0_col0\" class=\"col_heading level0 col0\" >Description</th>\n",
       "      <th id=\"T_68f52_level0_col1\" class=\"col_heading level0 col1\" >Value</th>\n",
       "    </tr>\n",
       "  </thead>\n",
       "  <tbody>\n",
       "    <tr>\n",
       "      <th id=\"T_68f52_level0_row0\" class=\"row_heading level0 row0\" >0</th>\n",
       "      <td id=\"T_68f52_row0_col0\" class=\"data row0 col0\" >session_id</td>\n",
       "      <td id=\"T_68f52_row0_col1\" class=\"data row0 col1\" >123</td>\n",
       "    </tr>\n",
       "    <tr>\n",
       "      <th id=\"T_68f52_level0_row1\" class=\"row_heading level0 row1\" >1</th>\n",
       "      <td id=\"T_68f52_row1_col0\" class=\"data row1 col0\" >Target</td>\n",
       "      <td id=\"T_68f52_row1_col1\" class=\"data row1 col1\" >default</td>\n",
       "    </tr>\n",
       "    <tr>\n",
       "      <th id=\"T_68f52_level0_row2\" class=\"row_heading level0 row2\" >2</th>\n",
       "      <td id=\"T_68f52_row2_col0\" class=\"data row2 col0\" >Target Type</td>\n",
       "      <td id=\"T_68f52_row2_col1\" class=\"data row2 col1\" >Binary</td>\n",
       "    </tr>\n",
       "    <tr>\n",
       "      <th id=\"T_68f52_level0_row3\" class=\"row_heading level0 row3\" >3</th>\n",
       "      <td id=\"T_68f52_row3_col0\" class=\"data row3 col0\" >Label Encoded</td>\n",
       "      <td id=\"T_68f52_row3_col1\" class=\"data row3 col1\" >None</td>\n",
       "    </tr>\n",
       "    <tr>\n",
       "      <th id=\"T_68f52_level0_row4\" class=\"row_heading level0 row4\" >4</th>\n",
       "      <td id=\"T_68f52_row4_col0\" class=\"data row4 col0\" >Original Data</td>\n",
       "      <td id=\"T_68f52_row4_col1\" class=\"data row4 col1\" >(22800, 24)</td>\n",
       "    </tr>\n",
       "    <tr>\n",
       "      <th id=\"T_68f52_level0_row5\" class=\"row_heading level0 row5\" >5</th>\n",
       "      <td id=\"T_68f52_row5_col0\" class=\"data row5 col0\" >Missing Values</td>\n",
       "      <td id=\"T_68f52_row5_col1\" class=\"data row5 col1\" >0</td>\n",
       "    </tr>\n",
       "    <tr>\n",
       "      <th id=\"T_68f52_level0_row6\" class=\"row_heading level0 row6\" >6</th>\n",
       "      <td id=\"T_68f52_row6_col0\" class=\"data row6 col0\" >Numeric Features</td>\n",
       "      <td id=\"T_68f52_row6_col1\" class=\"data row6 col1\" >14</td>\n",
       "    </tr>\n",
       "    <tr>\n",
       "      <th id=\"T_68f52_level0_row7\" class=\"row_heading level0 row7\" >7</th>\n",
       "      <td id=\"T_68f52_row7_col0\" class=\"data row7 col0\" >Categorical Features</td>\n",
       "      <td id=\"T_68f52_row7_col1\" class=\"data row7 col1\" >9</td>\n",
       "    </tr>\n",
       "    <tr>\n",
       "      <th id=\"T_68f52_level0_row8\" class=\"row_heading level0 row8\" >8</th>\n",
       "      <td id=\"T_68f52_row8_col0\" class=\"data row8 col0\" >Ordinal Features</td>\n",
       "      <td id=\"T_68f52_row8_col1\" class=\"data row8 col1\" >0</td>\n",
       "    </tr>\n",
       "    <tr>\n",
       "      <th id=\"T_68f52_level0_row9\" class=\"row_heading level0 row9\" >9</th>\n",
       "      <td id=\"T_68f52_row9_col0\" class=\"data row9 col0\" >High Cardinality Features</td>\n",
       "      <td id=\"T_68f52_row9_col1\" class=\"data row9 col1\" >0</td>\n",
       "    </tr>\n",
       "    <tr>\n",
       "      <th id=\"T_68f52_level0_row10\" class=\"row_heading level0 row10\" >10</th>\n",
       "      <td id=\"T_68f52_row10_col0\" class=\"data row10 col0\" >High Cardinality Method</td>\n",
       "      <td id=\"T_68f52_row10_col1\" class=\"data row10 col1\" >None</td>\n",
       "    </tr>\n",
       "    <tr>\n",
       "      <th id=\"T_68f52_level0_row11\" class=\"row_heading level0 row11\" >11</th>\n",
       "      <td id=\"T_68f52_row11_col0\" class=\"data row11 col0\" >Transformed Train Set</td>\n",
       "      <td id=\"T_68f52_row11_col1\" class=\"data row11 col1\" >(15959, 88)</td>\n",
       "    </tr>\n",
       "    <tr>\n",
       "      <th id=\"T_68f52_level0_row12\" class=\"row_heading level0 row12\" >12</th>\n",
       "      <td id=\"T_68f52_row12_col0\" class=\"data row12 col0\" >Transformed Test Set</td>\n",
       "      <td id=\"T_68f52_row12_col1\" class=\"data row12 col1\" >(6841, 88)</td>\n",
       "    </tr>\n",
       "    <tr>\n",
       "      <th id=\"T_68f52_level0_row13\" class=\"row_heading level0 row13\" >13</th>\n",
       "      <td id=\"T_68f52_row13_col0\" class=\"data row13 col0\" >Shuffle Train-Test</td>\n",
       "      <td id=\"T_68f52_row13_col1\" class=\"data row13 col1\" >True</td>\n",
       "    </tr>\n",
       "    <tr>\n",
       "      <th id=\"T_68f52_level0_row14\" class=\"row_heading level0 row14\" >14</th>\n",
       "      <td id=\"T_68f52_row14_col0\" class=\"data row14 col0\" >Stratify Train-Test</td>\n",
       "      <td id=\"T_68f52_row14_col1\" class=\"data row14 col1\" >False</td>\n",
       "    </tr>\n",
       "    <tr>\n",
       "      <th id=\"T_68f52_level0_row15\" class=\"row_heading level0 row15\" >15</th>\n",
       "      <td id=\"T_68f52_row15_col0\" class=\"data row15 col0\" >Fold Generator</td>\n",
       "      <td id=\"T_68f52_row15_col1\" class=\"data row15 col1\" >StratifiedKFold</td>\n",
       "    </tr>\n",
       "    <tr>\n",
       "      <th id=\"T_68f52_level0_row16\" class=\"row_heading level0 row16\" >16</th>\n",
       "      <td id=\"T_68f52_row16_col0\" class=\"data row16 col0\" >Fold Number</td>\n",
       "      <td id=\"T_68f52_row16_col1\" class=\"data row16 col1\" >10</td>\n",
       "    </tr>\n",
       "    <tr>\n",
       "      <th id=\"T_68f52_level0_row17\" class=\"row_heading level0 row17\" >17</th>\n",
       "      <td id=\"T_68f52_row17_col0\" class=\"data row17 col0\" >CPU Jobs</td>\n",
       "      <td id=\"T_68f52_row17_col1\" class=\"data row17 col1\" >-1</td>\n",
       "    </tr>\n",
       "    <tr>\n",
       "      <th id=\"T_68f52_level0_row18\" class=\"row_heading level0 row18\" >18</th>\n",
       "      <td id=\"T_68f52_row18_col0\" class=\"data row18 col0\" >Use GPU</td>\n",
       "      <td id=\"T_68f52_row18_col1\" class=\"data row18 col1\" >0</td>\n",
       "    </tr>\n",
       "    <tr>\n",
       "      <th id=\"T_68f52_level0_row19\" class=\"row_heading level0 row19\" >19</th>\n",
       "      <td id=\"T_68f52_row19_col0\" class=\"data row19 col0\" >Log Experiment</td>\n",
       "      <td id=\"T_68f52_row19_col1\" class=\"data row19 col1\" >0</td>\n",
       "    </tr>\n",
       "    <tr>\n",
       "      <th id=\"T_68f52_level0_row20\" class=\"row_heading level0 row20\" >20</th>\n",
       "      <td id=\"T_68f52_row20_col0\" class=\"data row20 col0\" >Experiment Name</td>\n",
       "      <td id=\"T_68f52_row20_col1\" class=\"data row20 col1\" >clf-default-name</td>\n",
       "    </tr>\n",
       "    <tr>\n",
       "      <th id=\"T_68f52_level0_row21\" class=\"row_heading level0 row21\" >21</th>\n",
       "      <td id=\"T_68f52_row21_col0\" class=\"data row21 col0\" >USI</td>\n",
       "      <td id=\"T_68f52_row21_col1\" class=\"data row21 col1\" >344a</td>\n",
       "    </tr>\n",
       "    <tr>\n",
       "      <th id=\"T_68f52_level0_row22\" class=\"row_heading level0 row22\" >22</th>\n",
       "      <td id=\"T_68f52_row22_col0\" class=\"data row22 col0\" >Imputation Type</td>\n",
       "      <td id=\"T_68f52_row22_col1\" class=\"data row22 col1\" >simple</td>\n",
       "    </tr>\n",
       "    <tr>\n",
       "      <th id=\"T_68f52_level0_row23\" class=\"row_heading level0 row23\" >23</th>\n",
       "      <td id=\"T_68f52_row23_col0\" class=\"data row23 col0\" >Iterative Imputation Iteration</td>\n",
       "      <td id=\"T_68f52_row23_col1\" class=\"data row23 col1\" >None</td>\n",
       "    </tr>\n",
       "    <tr>\n",
       "      <th id=\"T_68f52_level0_row24\" class=\"row_heading level0 row24\" >24</th>\n",
       "      <td id=\"T_68f52_row24_col0\" class=\"data row24 col0\" >Numeric Imputer</td>\n",
       "      <td id=\"T_68f52_row24_col1\" class=\"data row24 col1\" >mean</td>\n",
       "    </tr>\n",
       "    <tr>\n",
       "      <th id=\"T_68f52_level0_row25\" class=\"row_heading level0 row25\" >25</th>\n",
       "      <td id=\"T_68f52_row25_col0\" class=\"data row25 col0\" >Iterative Imputation Numeric Model</td>\n",
       "      <td id=\"T_68f52_row25_col1\" class=\"data row25 col1\" >None</td>\n",
       "    </tr>\n",
       "    <tr>\n",
       "      <th id=\"T_68f52_level0_row26\" class=\"row_heading level0 row26\" >26</th>\n",
       "      <td id=\"T_68f52_row26_col0\" class=\"data row26 col0\" >Categorical Imputer</td>\n",
       "      <td id=\"T_68f52_row26_col1\" class=\"data row26 col1\" >constant</td>\n",
       "    </tr>\n",
       "    <tr>\n",
       "      <th id=\"T_68f52_level0_row27\" class=\"row_heading level0 row27\" >27</th>\n",
       "      <td id=\"T_68f52_row27_col0\" class=\"data row27 col0\" >Iterative Imputation Categorical Model</td>\n",
       "      <td id=\"T_68f52_row27_col1\" class=\"data row27 col1\" >None</td>\n",
       "    </tr>\n",
       "    <tr>\n",
       "      <th id=\"T_68f52_level0_row28\" class=\"row_heading level0 row28\" >28</th>\n",
       "      <td id=\"T_68f52_row28_col0\" class=\"data row28 col0\" >Unknown Categoricals Handling</td>\n",
       "      <td id=\"T_68f52_row28_col1\" class=\"data row28 col1\" >least_frequent</td>\n",
       "    </tr>\n",
       "    <tr>\n",
       "      <th id=\"T_68f52_level0_row29\" class=\"row_heading level0 row29\" >29</th>\n",
       "      <td id=\"T_68f52_row29_col0\" class=\"data row29 col0\" >Normalize</td>\n",
       "      <td id=\"T_68f52_row29_col1\" class=\"data row29 col1\" >0</td>\n",
       "    </tr>\n",
       "    <tr>\n",
       "      <th id=\"T_68f52_level0_row30\" class=\"row_heading level0 row30\" >30</th>\n",
       "      <td id=\"T_68f52_row30_col0\" class=\"data row30 col0\" >Normalize Method</td>\n",
       "      <td id=\"T_68f52_row30_col1\" class=\"data row30 col1\" >None</td>\n",
       "    </tr>\n",
       "    <tr>\n",
       "      <th id=\"T_68f52_level0_row31\" class=\"row_heading level0 row31\" >31</th>\n",
       "      <td id=\"T_68f52_row31_col0\" class=\"data row31 col0\" >Transformation</td>\n",
       "      <td id=\"T_68f52_row31_col1\" class=\"data row31 col1\" >0</td>\n",
       "    </tr>\n",
       "    <tr>\n",
       "      <th id=\"T_68f52_level0_row32\" class=\"row_heading level0 row32\" >32</th>\n",
       "      <td id=\"T_68f52_row32_col0\" class=\"data row32 col0\" >Transformation Method</td>\n",
       "      <td id=\"T_68f52_row32_col1\" class=\"data row32 col1\" >None</td>\n",
       "    </tr>\n",
       "    <tr>\n",
       "      <th id=\"T_68f52_level0_row33\" class=\"row_heading level0 row33\" >33</th>\n",
       "      <td id=\"T_68f52_row33_col0\" class=\"data row33 col0\" >PCA</td>\n",
       "      <td id=\"T_68f52_row33_col1\" class=\"data row33 col1\" >0</td>\n",
       "    </tr>\n",
       "    <tr>\n",
       "      <th id=\"T_68f52_level0_row34\" class=\"row_heading level0 row34\" >34</th>\n",
       "      <td id=\"T_68f52_row34_col0\" class=\"data row34 col0\" >PCA Method</td>\n",
       "      <td id=\"T_68f52_row34_col1\" class=\"data row34 col1\" >None</td>\n",
       "    </tr>\n",
       "    <tr>\n",
       "      <th id=\"T_68f52_level0_row35\" class=\"row_heading level0 row35\" >35</th>\n",
       "      <td id=\"T_68f52_row35_col0\" class=\"data row35 col0\" >PCA Components</td>\n",
       "      <td id=\"T_68f52_row35_col1\" class=\"data row35 col1\" >None</td>\n",
       "    </tr>\n",
       "    <tr>\n",
       "      <th id=\"T_68f52_level0_row36\" class=\"row_heading level0 row36\" >36</th>\n",
       "      <td id=\"T_68f52_row36_col0\" class=\"data row36 col0\" >Ignore Low Variance</td>\n",
       "      <td id=\"T_68f52_row36_col1\" class=\"data row36 col1\" >0</td>\n",
       "    </tr>\n",
       "    <tr>\n",
       "      <th id=\"T_68f52_level0_row37\" class=\"row_heading level0 row37\" >37</th>\n",
       "      <td id=\"T_68f52_row37_col0\" class=\"data row37 col0\" >Combine Rare Levels</td>\n",
       "      <td id=\"T_68f52_row37_col1\" class=\"data row37 col1\" >0</td>\n",
       "    </tr>\n",
       "    <tr>\n",
       "      <th id=\"T_68f52_level0_row38\" class=\"row_heading level0 row38\" >38</th>\n",
       "      <td id=\"T_68f52_row38_col0\" class=\"data row38 col0\" >Rare Level Threshold</td>\n",
       "      <td id=\"T_68f52_row38_col1\" class=\"data row38 col1\" >None</td>\n",
       "    </tr>\n",
       "    <tr>\n",
       "      <th id=\"T_68f52_level0_row39\" class=\"row_heading level0 row39\" >39</th>\n",
       "      <td id=\"T_68f52_row39_col0\" class=\"data row39 col0\" >Numeric Binning</td>\n",
       "      <td id=\"T_68f52_row39_col1\" class=\"data row39 col1\" >0</td>\n",
       "    </tr>\n",
       "    <tr>\n",
       "      <th id=\"T_68f52_level0_row40\" class=\"row_heading level0 row40\" >40</th>\n",
       "      <td id=\"T_68f52_row40_col0\" class=\"data row40 col0\" >Remove Outliers</td>\n",
       "      <td id=\"T_68f52_row40_col1\" class=\"data row40 col1\" >0</td>\n",
       "    </tr>\n",
       "    <tr>\n",
       "      <th id=\"T_68f52_level0_row41\" class=\"row_heading level0 row41\" >41</th>\n",
       "      <td id=\"T_68f52_row41_col0\" class=\"data row41 col0\" >Outliers Threshold</td>\n",
       "      <td id=\"T_68f52_row41_col1\" class=\"data row41 col1\" >None</td>\n",
       "    </tr>\n",
       "    <tr>\n",
       "      <th id=\"T_68f52_level0_row42\" class=\"row_heading level0 row42\" >42</th>\n",
       "      <td id=\"T_68f52_row42_col0\" class=\"data row42 col0\" >Remove Multicollinearity</td>\n",
       "      <td id=\"T_68f52_row42_col1\" class=\"data row42 col1\" >0</td>\n",
       "    </tr>\n",
       "    <tr>\n",
       "      <th id=\"T_68f52_level0_row43\" class=\"row_heading level0 row43\" >43</th>\n",
       "      <td id=\"T_68f52_row43_col0\" class=\"data row43 col0\" >Multicollinearity Threshold</td>\n",
       "      <td id=\"T_68f52_row43_col1\" class=\"data row43 col1\" >None</td>\n",
       "    </tr>\n",
       "    <tr>\n",
       "      <th id=\"T_68f52_level0_row44\" class=\"row_heading level0 row44\" >44</th>\n",
       "      <td id=\"T_68f52_row44_col0\" class=\"data row44 col0\" >Remove Perfect Collinearity</td>\n",
       "      <td id=\"T_68f52_row44_col1\" class=\"data row44 col1\" >1</td>\n",
       "    </tr>\n",
       "    <tr>\n",
       "      <th id=\"T_68f52_level0_row45\" class=\"row_heading level0 row45\" >45</th>\n",
       "      <td id=\"T_68f52_row45_col0\" class=\"data row45 col0\" >Clustering</td>\n",
       "      <td id=\"T_68f52_row45_col1\" class=\"data row45 col1\" >0</td>\n",
       "    </tr>\n",
       "    <tr>\n",
       "      <th id=\"T_68f52_level0_row46\" class=\"row_heading level0 row46\" >46</th>\n",
       "      <td id=\"T_68f52_row46_col0\" class=\"data row46 col0\" >Clustering Iteration</td>\n",
       "      <td id=\"T_68f52_row46_col1\" class=\"data row46 col1\" >None</td>\n",
       "    </tr>\n",
       "    <tr>\n",
       "      <th id=\"T_68f52_level0_row47\" class=\"row_heading level0 row47\" >47</th>\n",
       "      <td id=\"T_68f52_row47_col0\" class=\"data row47 col0\" >Polynomial Features</td>\n",
       "      <td id=\"T_68f52_row47_col1\" class=\"data row47 col1\" >0</td>\n",
       "    </tr>\n",
       "    <tr>\n",
       "      <th id=\"T_68f52_level0_row48\" class=\"row_heading level0 row48\" >48</th>\n",
       "      <td id=\"T_68f52_row48_col0\" class=\"data row48 col0\" >Polynomial Degree</td>\n",
       "      <td id=\"T_68f52_row48_col1\" class=\"data row48 col1\" >None</td>\n",
       "    </tr>\n",
       "    <tr>\n",
       "      <th id=\"T_68f52_level0_row49\" class=\"row_heading level0 row49\" >49</th>\n",
       "      <td id=\"T_68f52_row49_col0\" class=\"data row49 col0\" >Trignometry Features</td>\n",
       "      <td id=\"T_68f52_row49_col1\" class=\"data row49 col1\" >0</td>\n",
       "    </tr>\n",
       "    <tr>\n",
       "      <th id=\"T_68f52_level0_row50\" class=\"row_heading level0 row50\" >50</th>\n",
       "      <td id=\"T_68f52_row50_col0\" class=\"data row50 col0\" >Polynomial Threshold</td>\n",
       "      <td id=\"T_68f52_row50_col1\" class=\"data row50 col1\" >None</td>\n",
       "    </tr>\n",
       "    <tr>\n",
       "      <th id=\"T_68f52_level0_row51\" class=\"row_heading level0 row51\" >51</th>\n",
       "      <td id=\"T_68f52_row51_col0\" class=\"data row51 col0\" >Group Features</td>\n",
       "      <td id=\"T_68f52_row51_col1\" class=\"data row51 col1\" >0</td>\n",
       "    </tr>\n",
       "    <tr>\n",
       "      <th id=\"T_68f52_level0_row52\" class=\"row_heading level0 row52\" >52</th>\n",
       "      <td id=\"T_68f52_row52_col0\" class=\"data row52 col0\" >Feature Selection</td>\n",
       "      <td id=\"T_68f52_row52_col1\" class=\"data row52 col1\" >0</td>\n",
       "    </tr>\n",
       "    <tr>\n",
       "      <th id=\"T_68f52_level0_row53\" class=\"row_heading level0 row53\" >53</th>\n",
       "      <td id=\"T_68f52_row53_col0\" class=\"data row53 col0\" >Feature Selection Method</td>\n",
       "      <td id=\"T_68f52_row53_col1\" class=\"data row53 col1\" >classic</td>\n",
       "    </tr>\n",
       "    <tr>\n",
       "      <th id=\"T_68f52_level0_row54\" class=\"row_heading level0 row54\" >54</th>\n",
       "      <td id=\"T_68f52_row54_col0\" class=\"data row54 col0\" >Features Selection Threshold</td>\n",
       "      <td id=\"T_68f52_row54_col1\" class=\"data row54 col1\" >None</td>\n",
       "    </tr>\n",
       "    <tr>\n",
       "      <th id=\"T_68f52_level0_row55\" class=\"row_heading level0 row55\" >55</th>\n",
       "      <td id=\"T_68f52_row55_col0\" class=\"data row55 col0\" >Feature Interaction</td>\n",
       "      <td id=\"T_68f52_row55_col1\" class=\"data row55 col1\" >0</td>\n",
       "    </tr>\n",
       "    <tr>\n",
       "      <th id=\"T_68f52_level0_row56\" class=\"row_heading level0 row56\" >56</th>\n",
       "      <td id=\"T_68f52_row56_col0\" class=\"data row56 col0\" >Feature Ratio</td>\n",
       "      <td id=\"T_68f52_row56_col1\" class=\"data row56 col1\" >0</td>\n",
       "    </tr>\n",
       "    <tr>\n",
       "      <th id=\"T_68f52_level0_row57\" class=\"row_heading level0 row57\" >57</th>\n",
       "      <td id=\"T_68f52_row57_col0\" class=\"data row57 col0\" >Interaction Threshold</td>\n",
       "      <td id=\"T_68f52_row57_col1\" class=\"data row57 col1\" >None</td>\n",
       "    </tr>\n",
       "    <tr>\n",
       "      <th id=\"T_68f52_level0_row58\" class=\"row_heading level0 row58\" >58</th>\n",
       "      <td id=\"T_68f52_row58_col0\" class=\"data row58 col0\" >Fix Imbalance</td>\n",
       "      <td id=\"T_68f52_row58_col1\" class=\"data row58 col1\" >0</td>\n",
       "    </tr>\n",
       "    <tr>\n",
       "      <th id=\"T_68f52_level0_row59\" class=\"row_heading level0 row59\" >59</th>\n",
       "      <td id=\"T_68f52_row59_col0\" class=\"data row59 col0\" >Fix Imbalance Method</td>\n",
       "      <td id=\"T_68f52_row59_col1\" class=\"data row59 col1\" >SMOTE</td>\n",
       "    </tr>\n",
       "  </tbody>\n",
       "</table>\n"
      ],
      "text/plain": [
       "<pandas.io.formats.style.Styler at 0x23efab04c40>"
      ]
     },
     "metadata": {},
     "output_type": "display_data"
    }
   ],
   "source": [
    "exp_clf101 = setup(data = data, target = 'default', session_id=123) "
   ]
  },
  {
   "cell_type": "markdown",
   "metadata": {
    "colab_type": "text",
    "id": "JJSOhIOxEQoY"
   },
   "source": [
    "Uma vez que a configuração tenha sido executada com sucesso, ele imprime a grade de informações que contém várias informações importantes. A maioria das informações está relacionada ao pipeline de pré-processamento que é construído quando o `setup()` é executado. A maioria desses recursos está fora do escopo deste tutorial, no entanto, algumas coisas importantes a serem observadas neste estágio incluem:\n",
    "\n",
    "- **session_id :** Um número pseudo-aleatório distribuído como semente em todas as funções para posterior reprodutibilidade. Se nenhum `session_id` for passado, um número aleatório é gerado automaticamente e é distribuído para todas as funções. Neste experimento, o `session_id` é definido como `123` para reprodutibilidade posterior.<br/>\n",
    "<br/>\n",
    "- **Target Type:** Binário ou Multiclasse. O tipo de alvo é detectado e exibido automaticamente. Não há diferença em como o experimento é realizado para problemas Binários ou Multiclasse. Todas as funcionalidades são idênticas.<br/>\n",
    "<br/>\n",
    "- **Label Encoded :** Quando a variável Target é do tipo string (ou seja, 'Yes' ou 'No') em vez de 1 ou 0, ela codifica automaticamente o rótulo em 1 e 0 e exibe o mapeamento (0 : No, 1: Sim) para referência. Neste experimento, nenhuma codificação de rótulo é necessária, pois a variável de destino é do tipo numérico. <br/>\n",
    "<br/>\n",
    "- **Original Data:** Exibe a forma original do conjunto de dados. Neste experimento (22.800, 24) significa 22.800 amostras e 24 recursos, incluindo a coluna de destino. <br/>\n",
    "<br/>\n",
    "- **Missing values:** quando houver valores ausentes nos dados originais, isso será exibido como Verdadeiro. Para este experimento, não há valores ausentes no conjunto de dados.\n",
    "<br/>\n",
    "<br/>\n",
    "- **Numeric features:** o número de features inferidos como numéricos. Nesse conjunto de dados, 14 dos 24 features são inferidos como numéricos. <br/>\n",
    "<br/>\n",
    "- **Categorical features:** o número de features inferidos como categóricos. Neste conjunto de dados, 9 dos 24 features são inferidos como categóricos. <br/>\n",
    "<br/>\n",
    "- **Transformed Train Set:** exibe a forma do conjunto de treinamento transformado. Observe que a forma original de (22800, 24) é transformada em (15959, 91) para o conjunto de treino transformado e o número de features aumentou de 24 para 91 devido à codificação categórica <br/>\n",
    "<br/>\n",
    "- **Transformed Test Set:** exibe a forma do conjunto de teste/hold-out transformado. Existem 6841 amostras no conjunto de teste/hold-out. Essa divisão é baseada no valor padrão de 70/30 que pode ser alterado usando o parâmetro `train_size` na configuração. <br/>\n",
    "\n",
    "Observe como algumas tarefas que são indispensáveis para realizar a modelagem são tratadas automaticamente, como imputação de valores ausentes (neste caso, não há valores ausentes nos dados de treinamento, mas ainda precisamos de imputadores para dados não vistos), codificação categórica etc. parâmetros em `setup()` são opcionais e usados para personalizar o pipeline de pré-processamento. Esses parâmetros estão fora do escopo deste tutorial, mas à medida que você avança para os níveis intermediário e especialista, nós os abordaremos com muito mais detalhes."
   ]
  },
  {
   "cell_type": "markdown",
   "metadata": {
    "colab_type": "text",
    "id": "it_nJo1IEQob"
   },
   "source": [
    "# 7.0 Comparando todos os modelos"
   ]
  },
  {
   "cell_type": "markdown",
   "metadata": {
    "colab_type": "text",
    "id": "apb_B9bBEQof"
   },
   "source": [
    "Comparar todos os modelos para avaliar o desempenho é o ponto de partida recomendado para a modelagem assim que a configuração estiver concluída (a menos que você saiba exatamente que tipo de modelo você precisa, o que geralmente não é o caso). Essa função treina todos os modelos na biblioteca de modelos e os pontua usando validação cruzada estratificada para avaliação de métricas. A saída imprime uma grade de pontuação que mostra a Precisão média, AUC, Recall, Precision, F1, Kappa e MCC (Matthews correlation coefficient) em folds (10 por padrão) junto com a quantidade de vezes de treinamento."
   ]
  },
  {
   "cell_type": "code",
   "execution_count": 6,
   "metadata": {
    "colab": {},
    "colab_type": "code",
    "id": "AsG0b1NIEQoj",
    "outputId": "a6e3a510-45a1-4782-8ffe-0ec138a64eed"
   },
   "outputs": [
    {
     "data": {
      "text/html": [
       "<style type=\"text/css\">\n",
       "#T_19f35 th {\n",
       "  text-align: left;\n",
       "}\n",
       "#T_19f35_row0_col0, #T_19f35_row0_col2, #T_19f35_row0_col3, #T_19f35_row0_col5, #T_19f35_row0_col6, #T_19f35_row1_col0, #T_19f35_row1_col1, #T_19f35_row1_col2, #T_19f35_row1_col3, #T_19f35_row1_col4, #T_19f35_row1_col7, #T_19f35_row2_col0, #T_19f35_row2_col1, #T_19f35_row2_col2, #T_19f35_row2_col3, #T_19f35_row2_col4, #T_19f35_row2_col5, #T_19f35_row2_col6, #T_19f35_row2_col7, #T_19f35_row3_col0, #T_19f35_row3_col1, #T_19f35_row3_col3, #T_19f35_row3_col4, #T_19f35_row3_col5, #T_19f35_row3_col6, #T_19f35_row3_col7, #T_19f35_row4_col0, #T_19f35_row4_col1, #T_19f35_row4_col2, #T_19f35_row4_col3, #T_19f35_row4_col4, #T_19f35_row4_col5, #T_19f35_row4_col6, #T_19f35_row4_col7, #T_19f35_row5_col0, #T_19f35_row5_col1, #T_19f35_row5_col2, #T_19f35_row5_col3, #T_19f35_row5_col4, #T_19f35_row5_col5, #T_19f35_row5_col6, #T_19f35_row5_col7, #T_19f35_row6_col0, #T_19f35_row6_col1, #T_19f35_row6_col2, #T_19f35_row6_col3, #T_19f35_row6_col4, #T_19f35_row6_col5, #T_19f35_row6_col6, #T_19f35_row6_col7, #T_19f35_row7_col0, #T_19f35_row7_col1, #T_19f35_row7_col2, #T_19f35_row7_col3, #T_19f35_row7_col4, #T_19f35_row7_col5, #T_19f35_row7_col6, #T_19f35_row7_col7, #T_19f35_row8_col0, #T_19f35_row8_col1, #T_19f35_row8_col2, #T_19f35_row8_col3, #T_19f35_row8_col4, #T_19f35_row8_col5, #T_19f35_row8_col6, #T_19f35_row8_col7, #T_19f35_row9_col0, #T_19f35_row9_col1, #T_19f35_row9_col2, #T_19f35_row9_col3, #T_19f35_row9_col4, #T_19f35_row9_col5, #T_19f35_row9_col6, #T_19f35_row9_col7, #T_19f35_row10_col0, #T_19f35_row10_col1, #T_19f35_row10_col2, #T_19f35_row10_col3, #T_19f35_row10_col4, #T_19f35_row10_col5, #T_19f35_row10_col6, #T_19f35_row10_col7, #T_19f35_row11_col0, #T_19f35_row11_col1, #T_19f35_row11_col2, #T_19f35_row11_col3, #T_19f35_row11_col4, #T_19f35_row11_col5, #T_19f35_row11_col6, #T_19f35_row11_col7, #T_19f35_row12_col0, #T_19f35_row12_col1, #T_19f35_row12_col2, #T_19f35_row12_col3, #T_19f35_row12_col4, #T_19f35_row12_col5, #T_19f35_row12_col6, #T_19f35_row12_col7, #T_19f35_row13_col0, #T_19f35_row13_col1, #T_19f35_row13_col2, #T_19f35_row13_col3, #T_19f35_row13_col4, #T_19f35_row13_col5, #T_19f35_row13_col6, #T_19f35_row13_col7, #T_19f35_row14_col0, #T_19f35_row14_col1, #T_19f35_row14_col2, #T_19f35_row14_col4, #T_19f35_row14_col5, #T_19f35_row14_col6, #T_19f35_row14_col7 {\n",
       "  text-align: left;\n",
       "}\n",
       "#T_19f35_row0_col1, #T_19f35_row0_col4, #T_19f35_row0_col7, #T_19f35_row1_col5, #T_19f35_row1_col6, #T_19f35_row3_col2, #T_19f35_row14_col3 {\n",
       "  text-align: left;\n",
       "  background-color: yellow;\n",
       "}\n",
       "#T_19f35_row0_col8, #T_19f35_row1_col8, #T_19f35_row2_col8, #T_19f35_row3_col8, #T_19f35_row4_col8, #T_19f35_row5_col8, #T_19f35_row6_col8, #T_19f35_row7_col8, #T_19f35_row9_col8, #T_19f35_row10_col8, #T_19f35_row11_col8, #T_19f35_row12_col8, #T_19f35_row13_col8, #T_19f35_row14_col8 {\n",
       "  text-align: left;\n",
       "  background-color: lightgrey;\n",
       "}\n",
       "#T_19f35_row8_col8 {\n",
       "  text-align: left;\n",
       "  background-color: yellow;\n",
       "  background-color: lightgrey;\n",
       "}\n",
       "</style>\n",
       "<table id=\"T_19f35\">\n",
       "  <thead>\n",
       "    <tr>\n",
       "      <th class=\"blank level0\" >&nbsp;</th>\n",
       "      <th id=\"T_19f35_level0_col0\" class=\"col_heading level0 col0\" >Model</th>\n",
       "      <th id=\"T_19f35_level0_col1\" class=\"col_heading level0 col1\" >Accuracy</th>\n",
       "      <th id=\"T_19f35_level0_col2\" class=\"col_heading level0 col2\" >AUC</th>\n",
       "      <th id=\"T_19f35_level0_col3\" class=\"col_heading level0 col3\" >Recall</th>\n",
       "      <th id=\"T_19f35_level0_col4\" class=\"col_heading level0 col4\" >Prec.</th>\n",
       "      <th id=\"T_19f35_level0_col5\" class=\"col_heading level0 col5\" >F1</th>\n",
       "      <th id=\"T_19f35_level0_col6\" class=\"col_heading level0 col6\" >Kappa</th>\n",
       "      <th id=\"T_19f35_level0_col7\" class=\"col_heading level0 col7\" >MCC</th>\n",
       "      <th id=\"T_19f35_level0_col8\" class=\"col_heading level0 col8\" >TT (Sec)</th>\n",
       "    </tr>\n",
       "  </thead>\n",
       "  <tbody>\n",
       "    <tr>\n",
       "      <th id=\"T_19f35_level0_row0\" class=\"row_heading level0 row0\" >ridge</th>\n",
       "      <td id=\"T_19f35_row0_col0\" class=\"data row0 col0\" >Ridge Classifier</td>\n",
       "      <td id=\"T_19f35_row0_col1\" class=\"data row0 col1\" >0.8253</td>\n",
       "      <td id=\"T_19f35_row0_col2\" class=\"data row0 col2\" >0.0000</td>\n",
       "      <td id=\"T_19f35_row0_col3\" class=\"data row0 col3\" >0.3637</td>\n",
       "      <td id=\"T_19f35_row0_col4\" class=\"data row0 col4\" >0.6910</td>\n",
       "      <td id=\"T_19f35_row0_col5\" class=\"data row0 col5\" >0.4764</td>\n",
       "      <td id=\"T_19f35_row0_col6\" class=\"data row0 col6\" >0.3835</td>\n",
       "      <td id=\"T_19f35_row0_col7\" class=\"data row0 col7\" >0.4121</td>\n",
       "      <td id=\"T_19f35_row0_col8\" class=\"data row0 col8\" >0.0860</td>\n",
       "    </tr>\n",
       "    <tr>\n",
       "      <th id=\"T_19f35_level0_row1\" class=\"row_heading level0 row1\" >lda</th>\n",
       "      <td id=\"T_19f35_row1_col0\" class=\"data row1 col0\" >Linear Discriminant Analysis</td>\n",
       "      <td id=\"T_19f35_row1_col1\" class=\"data row1 col1\" >0.8241</td>\n",
       "      <td id=\"T_19f35_row1_col2\" class=\"data row1 col2\" >0.7637</td>\n",
       "      <td id=\"T_19f35_row1_col3\" class=\"data row1 col3\" >0.3758</td>\n",
       "      <td id=\"T_19f35_row1_col4\" class=\"data row1 col4\" >0.6760</td>\n",
       "      <td id=\"T_19f35_row1_col5\" class=\"data row1 col5\" >0.4829</td>\n",
       "      <td id=\"T_19f35_row1_col6\" class=\"data row1 col6\" >0.3872</td>\n",
       "      <td id=\"T_19f35_row1_col7\" class=\"data row1 col7\" >0.4115</td>\n",
       "      <td id=\"T_19f35_row1_col8\" class=\"data row1 col8\" >0.3400</td>\n",
       "    </tr>\n",
       "    <tr>\n",
       "      <th id=\"T_19f35_level0_row2\" class=\"row_heading level0 row2\" >lightgbm</th>\n",
       "      <td id=\"T_19f35_row2_col0\" class=\"data row2 col0\" >Light Gradient Boosting Machine</td>\n",
       "      <td id=\"T_19f35_row2_col1\" class=\"data row2 col1\" >0.8227</td>\n",
       "      <td id=\"T_19f35_row2_col2\" class=\"data row2 col2\" >0.7747</td>\n",
       "      <td id=\"T_19f35_row2_col3\" class=\"data row2 col3\" >0.3666</td>\n",
       "      <td id=\"T_19f35_row2_col4\" class=\"data row2 col4\" >0.6742</td>\n",
       "      <td id=\"T_19f35_row2_col5\" class=\"data row2 col5\" >0.4748</td>\n",
       "      <td id=\"T_19f35_row2_col6\" class=\"data row2 col6\" >0.3792</td>\n",
       "      <td id=\"T_19f35_row2_col7\" class=\"data row2 col7\" >0.4048</td>\n",
       "      <td id=\"T_19f35_row2_col8\" class=\"data row2 col8\" >0.9440</td>\n",
       "    </tr>\n",
       "    <tr>\n",
       "      <th id=\"T_19f35_level0_row3\" class=\"row_heading level0 row3\" >gbc</th>\n",
       "      <td id=\"T_19f35_row3_col0\" class=\"data row3 col0\" >Gradient Boosting Classifier</td>\n",
       "      <td id=\"T_19f35_row3_col1\" class=\"data row3 col1\" >0.8224</td>\n",
       "      <td id=\"T_19f35_row3_col2\" class=\"data row3 col2\" >0.7787</td>\n",
       "      <td id=\"T_19f35_row3_col3\" class=\"data row3 col3\" >0.3537</td>\n",
       "      <td id=\"T_19f35_row3_col4\" class=\"data row3 col4\" >0.6811</td>\n",
       "      <td id=\"T_19f35_row3_col5\" class=\"data row3 col5\" >0.4654</td>\n",
       "      <td id=\"T_19f35_row3_col6\" class=\"data row3 col6\" >0.3715</td>\n",
       "      <td id=\"T_19f35_row3_col7\" class=\"data row3 col7\" >0.4003</td>\n",
       "      <td id=\"T_19f35_row3_col8\" class=\"data row3 col8\" >3.4160</td>\n",
       "    </tr>\n",
       "    <tr>\n",
       "      <th id=\"T_19f35_level0_row4\" class=\"row_heading level0 row4\" >ada</th>\n",
       "      <td id=\"T_19f35_row4_col0\" class=\"data row4 col0\" >Ada Boost Classifier</td>\n",
       "      <td id=\"T_19f35_row4_col1\" class=\"data row4 col1\" >0.8213</td>\n",
       "      <td id=\"T_19f35_row4_col2\" class=\"data row4 col2\" >0.7695</td>\n",
       "      <td id=\"T_19f35_row4_col3\" class=\"data row4 col3\" >0.3482</td>\n",
       "      <td id=\"T_19f35_row4_col4\" class=\"data row4 col4\" >0.6779</td>\n",
       "      <td id=\"T_19f35_row4_col5\" class=\"data row4 col5\" >0.4600</td>\n",
       "      <td id=\"T_19f35_row4_col6\" class=\"data row4 col6\" >0.3659</td>\n",
       "      <td id=\"T_19f35_row4_col7\" class=\"data row4 col7\" >0.3952</td>\n",
       "      <td id=\"T_19f35_row4_col8\" class=\"data row4 col8\" >0.9860</td>\n",
       "    </tr>\n",
       "    <tr>\n",
       "      <th id=\"T_19f35_level0_row5\" class=\"row_heading level0 row5\" >rf</th>\n",
       "      <td id=\"T_19f35_row5_col0\" class=\"data row5 col0\" >Random Forest Classifier</td>\n",
       "      <td id=\"T_19f35_row5_col1\" class=\"data row5 col1\" >0.8183</td>\n",
       "      <td id=\"T_19f35_row5_col2\" class=\"data row5 col2\" >0.7586</td>\n",
       "      <td id=\"T_19f35_row5_col3\" class=\"data row5 col3\" >0.3611</td>\n",
       "      <td id=\"T_19f35_row5_col4\" class=\"data row5 col4\" >0.6528</td>\n",
       "      <td id=\"T_19f35_row5_col5\" class=\"data row5 col5\" >0.4649</td>\n",
       "      <td id=\"T_19f35_row5_col6\" class=\"data row5 col6\" >0.3662</td>\n",
       "      <td id=\"T_19f35_row5_col7\" class=\"data row5 col7\" >0.3896</td>\n",
       "      <td id=\"T_19f35_row5_col8\" class=\"data row5 col8\" >1.5200</td>\n",
       "    </tr>\n",
       "    <tr>\n",
       "      <th id=\"T_19f35_level0_row6\" class=\"row_heading level0 row6\" >xgboost</th>\n",
       "      <td id=\"T_19f35_row6_col0\" class=\"data row6 col0\" >Extreme Gradient Boosting</td>\n",
       "      <td id=\"T_19f35_row6_col1\" class=\"data row6 col1\" >0.8168</td>\n",
       "      <td id=\"T_19f35_row6_col2\" class=\"data row6 col2\" >0.7614</td>\n",
       "      <td id=\"T_19f35_row6_col3\" class=\"data row6 col3\" >0.3640</td>\n",
       "      <td id=\"T_19f35_row6_col4\" class=\"data row6 col4\" >0.6432</td>\n",
       "      <td id=\"T_19f35_row6_col5\" class=\"data row6 col5\" >0.4648</td>\n",
       "      <td id=\"T_19f35_row6_col6\" class=\"data row6 col6\" >0.3644</td>\n",
       "      <td id=\"T_19f35_row6_col7\" class=\"data row6 col7\" >0.3859</td>\n",
       "      <td id=\"T_19f35_row6_col8\" class=\"data row6 col8\" >4.5740</td>\n",
       "    </tr>\n",
       "    <tr>\n",
       "      <th id=\"T_19f35_level0_row7\" class=\"row_heading level0 row7\" >et</th>\n",
       "      <td id=\"T_19f35_row7_col0\" class=\"data row7 col0\" >Extra Trees Classifier</td>\n",
       "      <td id=\"T_19f35_row7_col1\" class=\"data row7 col1\" >0.8090</td>\n",
       "      <td id=\"T_19f35_row7_col2\" class=\"data row7 col2\" >0.7396</td>\n",
       "      <td id=\"T_19f35_row7_col3\" class=\"data row7 col3\" >0.3686</td>\n",
       "      <td id=\"T_19f35_row7_col4\" class=\"data row7 col4\" >0.6039</td>\n",
       "      <td id=\"T_19f35_row7_col5\" class=\"data row7 col5\" >0.4576</td>\n",
       "      <td id=\"T_19f35_row7_col6\" class=\"data row7 col6\" >0.3498</td>\n",
       "      <td id=\"T_19f35_row7_col7\" class=\"data row7 col7\" >0.3657</td>\n",
       "      <td id=\"T_19f35_row7_col8\" class=\"data row7 col8\" >1.8800</td>\n",
       "    </tr>\n",
       "    <tr>\n",
       "      <th id=\"T_19f35_level0_row8\" class=\"row_heading level0 row8\" >dummy</th>\n",
       "      <td id=\"T_19f35_row8_col0\" class=\"data row8 col0\" >Dummy Classifier</td>\n",
       "      <td id=\"T_19f35_row8_col1\" class=\"data row8 col1\" >0.7814</td>\n",
       "      <td id=\"T_19f35_row8_col2\" class=\"data row8 col2\" >0.5000</td>\n",
       "      <td id=\"T_19f35_row8_col3\" class=\"data row8 col3\" >0.0000</td>\n",
       "      <td id=\"T_19f35_row8_col4\" class=\"data row8 col4\" >0.0000</td>\n",
       "      <td id=\"T_19f35_row8_col5\" class=\"data row8 col5\" >0.0000</td>\n",
       "      <td id=\"T_19f35_row8_col6\" class=\"data row8 col6\" >0.0000</td>\n",
       "      <td id=\"T_19f35_row8_col7\" class=\"data row8 col7\" >0.0000</td>\n",
       "      <td id=\"T_19f35_row8_col8\" class=\"data row8 col8\" >0.0520</td>\n",
       "    </tr>\n",
       "    <tr>\n",
       "      <th id=\"T_19f35_level0_row9\" class=\"row_heading level0 row9\" >lr</th>\n",
       "      <td id=\"T_19f35_row9_col0\" class=\"data row9 col0\" >Logistic Regression</td>\n",
       "      <td id=\"T_19f35_row9_col1\" class=\"data row9 col1\" >0.7813</td>\n",
       "      <td id=\"T_19f35_row9_col2\" class=\"data row9 col2\" >0.6408</td>\n",
       "      <td id=\"T_19f35_row9_col3\" class=\"data row9 col3\" >0.0000</td>\n",
       "      <td id=\"T_19f35_row9_col4\" class=\"data row9 col4\" >0.0000</td>\n",
       "      <td id=\"T_19f35_row9_col5\" class=\"data row9 col5\" >0.0000</td>\n",
       "      <td id=\"T_19f35_row9_col6\" class=\"data row9 col6\" >-0.0001</td>\n",
       "      <td id=\"T_19f35_row9_col7\" class=\"data row9 col7\" >-0.0019</td>\n",
       "      <td id=\"T_19f35_row9_col8\" class=\"data row9 col8\" >3.7580</td>\n",
       "    </tr>\n",
       "    <tr>\n",
       "      <th id=\"T_19f35_level0_row10\" class=\"row_heading level0 row10\" >svm</th>\n",
       "      <td id=\"T_19f35_row10_col0\" class=\"data row10 col0\" >SVM - Linear Kernel</td>\n",
       "      <td id=\"T_19f35_row10_col1\" class=\"data row10 col1\" >0.7796</td>\n",
       "      <td id=\"T_19f35_row10_col2\" class=\"data row10 col2\" >0.0000</td>\n",
       "      <td id=\"T_19f35_row10_col3\" class=\"data row10 col3\" >0.0080</td>\n",
       "      <td id=\"T_19f35_row10_col4\" class=\"data row10 col4\" >0.0667</td>\n",
       "      <td id=\"T_19f35_row10_col5\" class=\"data row10 col5\" >0.0143</td>\n",
       "      <td id=\"T_19f35_row10_col6\" class=\"data row10 col6\" >0.0052</td>\n",
       "      <td id=\"T_19f35_row10_col7\" class=\"data row10 col7\" >0.0091</td>\n",
       "      <td id=\"T_19f35_row10_col8\" class=\"data row10 col8\" >0.5420</td>\n",
       "    </tr>\n",
       "    <tr>\n",
       "      <th id=\"T_19f35_level0_row11\" class=\"row_heading level0 row11\" >knn</th>\n",
       "      <td id=\"T_19f35_row11_col0\" class=\"data row11 col0\" >K Neighbors Classifier</td>\n",
       "      <td id=\"T_19f35_row11_col1\" class=\"data row11 col1\" >0.7535</td>\n",
       "      <td id=\"T_19f35_row11_col2\" class=\"data row11 col2\" >0.5968</td>\n",
       "      <td id=\"T_19f35_row11_col3\" class=\"data row11 col3\" >0.1794</td>\n",
       "      <td id=\"T_19f35_row11_col4\" class=\"data row11 col4\" >0.3694</td>\n",
       "      <td id=\"T_19f35_row11_col5\" class=\"data row11 col5\" >0.2413</td>\n",
       "      <td id=\"T_19f35_row11_col6\" class=\"data row11 col6\" >0.1147</td>\n",
       "      <td id=\"T_19f35_row11_col7\" class=\"data row11 col7\" >0.1255</td>\n",
       "      <td id=\"T_19f35_row11_col8\" class=\"data row11 col8\" >3.1100</td>\n",
       "    </tr>\n",
       "    <tr>\n",
       "      <th id=\"T_19f35_level0_row12\" class=\"row_heading level0 row12\" >dt</th>\n",
       "      <td id=\"T_19f35_row12_col0\" class=\"data row12 col0\" >Decision Tree Classifier</td>\n",
       "      <td id=\"T_19f35_row12_col1\" class=\"data row12 col1\" >0.7282</td>\n",
       "      <td id=\"T_19f35_row12_col2\" class=\"data row12 col2\" >0.6138</td>\n",
       "      <td id=\"T_19f35_row12_col3\" class=\"data row12 col3\" >0.4101</td>\n",
       "      <td id=\"T_19f35_row12_col4\" class=\"data row12 col4\" >0.3861</td>\n",
       "      <td id=\"T_19f35_row12_col5\" class=\"data row12 col5\" >0.3977</td>\n",
       "      <td id=\"T_19f35_row12_col6\" class=\"data row12 col6\" >0.2224</td>\n",
       "      <td id=\"T_19f35_row12_col7\" class=\"data row12 col7\" >0.2227</td>\n",
       "      <td id=\"T_19f35_row12_col8\" class=\"data row12 col8\" >0.2680</td>\n",
       "    </tr>\n",
       "    <tr>\n",
       "      <th id=\"T_19f35_level0_row13\" class=\"row_heading level0 row13\" >qda</th>\n",
       "      <td id=\"T_19f35_row13_col0\" class=\"data row13 col0\" >Quadratic Discriminant Analysis</td>\n",
       "      <td id=\"T_19f35_row13_col1\" class=\"data row13 col1\" >0.7018</td>\n",
       "      <td id=\"T_19f35_row13_col2\" class=\"data row13 col2\" >0.5323</td>\n",
       "      <td id=\"T_19f35_row13_col3\" class=\"data row13 col3\" >0.2311</td>\n",
       "      <td id=\"T_19f35_row13_col4\" class=\"data row13 col4\" >0.4216</td>\n",
       "      <td id=\"T_19f35_row13_col5\" class=\"data row13 col5\" >0.2143</td>\n",
       "      <td id=\"T_19f35_row13_col6\" class=\"data row13 col6\" >0.0844</td>\n",
       "      <td id=\"T_19f35_row13_col7\" class=\"data row13 col7\" >0.1085</td>\n",
       "      <td id=\"T_19f35_row13_col8\" class=\"data row13 col8\" >0.2500</td>\n",
       "    </tr>\n",
       "    <tr>\n",
       "      <th id=\"T_19f35_level0_row14\" class=\"row_heading level0 row14\" >nb</th>\n",
       "      <td id=\"T_19f35_row14_col0\" class=\"data row14 col0\" >Naive Bayes</td>\n",
       "      <td id=\"T_19f35_row14_col1\" class=\"data row14 col1\" >0.3783</td>\n",
       "      <td id=\"T_19f35_row14_col2\" class=\"data row14 col2\" >0.6422</td>\n",
       "      <td id=\"T_19f35_row14_col3\" class=\"data row14 col3\" >0.8828</td>\n",
       "      <td id=\"T_19f35_row14_col4\" class=\"data row14 col4\" >0.2446</td>\n",
       "      <td id=\"T_19f35_row14_col5\" class=\"data row14 col5\" >0.3831</td>\n",
       "      <td id=\"T_19f35_row14_col6\" class=\"data row14 col6\" >0.0619</td>\n",
       "      <td id=\"T_19f35_row14_col7\" class=\"data row14 col7\" >0.1216</td>\n",
       "      <td id=\"T_19f35_row14_col8\" class=\"data row14 col8\" >0.0900</td>\n",
       "    </tr>\n",
       "  </tbody>\n",
       "</table>\n"
      ],
      "text/plain": [
       "<pandas.io.formats.style.Styler at 0x23efbbcd2e0>"
      ]
     },
     "metadata": {},
     "output_type": "display_data"
    }
   ],
   "source": [
    "best_model = compare_models(fold=5)"
   ]
  },
  {
   "cell_type": "markdown",
   "metadata": {
    "colab_type": "text",
    "id": "nZAUhQGLEQoz"
   },
   "source": [
    "Duas palavras simples de código ***(nem mesmo uma linha)*** treinaram e avaliaram mais de 15 modelos usando validação cruzada. A grade de pontuação impressa acima destaca a métrica de melhor desempenho apenas para fins de comparação. A grade por padrão é classificada usando Precisão ('Accuracy') (do maior para o menor) que pode ser alterado passando o parâmetro `sort`. Por exemplo, `compare_models(sort = 'Recall')` classificará a grade por Recall em vez de Accuracy. Se você quiser alterar o parâmetro fold do valor padrão de `10` para um valor diferente, então você pode usar o parâmetro `fold`. Por exemplo, `compare_models(fold = 5)` irá comparar todos os modelos na validação cruzada de 5 vezes. Reduzir o número de folds melhorará o tempo de treinamento. Por padrão, `compare_models` retorna o modelo com melhor desempenho com base na ordem de classificação padrão, mas pode ser usado para retornar uma lista dos N principais modelos usando o parâmetro `n_select`."
   ]
  },
  {
   "cell_type": "code",
   "execution_count": 7,
   "metadata": {},
   "outputs": [
    {
     "name": "stdout",
     "output_type": "stream",
     "text": [
      "RidgeClassifier(alpha=1.0, class_weight=None, copy_X=True, fit_intercept=True,\n",
      "                max_iter=None, normalize=False, random_state=123, solver='auto',\n",
      "                tol=0.001)\n"
     ]
    }
   ],
   "source": [
    "print(best_model)"
   ]
  },
  {
   "cell_type": "markdown",
   "metadata": {
    "colab_type": "text",
    "id": "P5m2pciOEQo4"
   },
   "source": [
    "# 8.0 Criando um modelo"
   ]
  },
  {
   "cell_type": "markdown",
   "metadata": {
    "colab_type": "text",
    "id": "u_6cIilfEQo7"
   },
   "source": [
    "`create_model` é a função mais granular no PyCaret e geralmente é a base por trás da maioria das funcionalidades do PyCaret. Como o nome sugere, esta função treina e avalia um modelo usando validação cruzada que pode ser definida com o parâmetro `fold`. A saída imprime uma grade de pontuação que mostra Precisão, AUC, Recall, Precisão, F1, Kappa e MCC por dobra.\n",
    "\n",
    "Para a parte restante deste tutorial, trabalharemos com os modelos abaixo como nossos modelos candidatos. As seleções são apenas para fins ilustrativos e não significam necessariamente que são as de melhor desempenho ou ideais para esse tipo de dados.\n",
    "\n",
    "- Classificador de Árvore de Decisão ('dt') - decision tree\n",
    "- Classificador K Neighbors ('knn')\n",
    "- Classificador de Floresta Aleatória ('rf') - random forest\n",
    "\n",
    "Existem 18 classificadores disponíveis na biblioteca de modelos do PyCaret. Para ver a lista de todos os classificadores, verifique a `docstring` ou use a função `models` para ver a lista de modelos."
   ]
  },
  {
   "cell_type": "code",
   "execution_count": 8,
   "metadata": {},
   "outputs": [
    {
     "data": {
      "text/html": [
       "<div>\n",
       "<style scoped>\n",
       "    .dataframe tbody tr th:only-of-type {\n",
       "        vertical-align: middle;\n",
       "    }\n",
       "\n",
       "    .dataframe tbody tr th {\n",
       "        vertical-align: top;\n",
       "    }\n",
       "\n",
       "    .dataframe thead th {\n",
       "        text-align: right;\n",
       "    }\n",
       "</style>\n",
       "<table border=\"1\" class=\"dataframe\">\n",
       "  <thead>\n",
       "    <tr style=\"text-align: right;\">\n",
       "      <th></th>\n",
       "      <th>Name</th>\n",
       "      <th>Reference</th>\n",
       "      <th>Turbo</th>\n",
       "    </tr>\n",
       "    <tr>\n",
       "      <th>ID</th>\n",
       "      <th></th>\n",
       "      <th></th>\n",
       "      <th></th>\n",
       "    </tr>\n",
       "  </thead>\n",
       "  <tbody>\n",
       "    <tr>\n",
       "      <th>lr</th>\n",
       "      <td>Logistic Regression</td>\n",
       "      <td>sklearn.linear_model._logistic.LogisticRegression</td>\n",
       "      <td>True</td>\n",
       "    </tr>\n",
       "    <tr>\n",
       "      <th>knn</th>\n",
       "      <td>K Neighbors Classifier</td>\n",
       "      <td>sklearn.neighbors._classification.KNeighborsCl...</td>\n",
       "      <td>True</td>\n",
       "    </tr>\n",
       "    <tr>\n",
       "      <th>nb</th>\n",
       "      <td>Naive Bayes</td>\n",
       "      <td>sklearn.naive_bayes.GaussianNB</td>\n",
       "      <td>True</td>\n",
       "    </tr>\n",
       "    <tr>\n",
       "      <th>dt</th>\n",
       "      <td>Decision Tree Classifier</td>\n",
       "      <td>sklearn.tree._classes.DecisionTreeClassifier</td>\n",
       "      <td>True</td>\n",
       "    </tr>\n",
       "    <tr>\n",
       "      <th>svm</th>\n",
       "      <td>SVM - Linear Kernel</td>\n",
       "      <td>sklearn.linear_model._stochastic_gradient.SGDC...</td>\n",
       "      <td>True</td>\n",
       "    </tr>\n",
       "    <tr>\n",
       "      <th>rbfsvm</th>\n",
       "      <td>SVM - Radial Kernel</td>\n",
       "      <td>sklearn.svm._classes.SVC</td>\n",
       "      <td>False</td>\n",
       "    </tr>\n",
       "    <tr>\n",
       "      <th>gpc</th>\n",
       "      <td>Gaussian Process Classifier</td>\n",
       "      <td>sklearn.gaussian_process._gpc.GaussianProcessC...</td>\n",
       "      <td>False</td>\n",
       "    </tr>\n",
       "    <tr>\n",
       "      <th>mlp</th>\n",
       "      <td>MLP Classifier</td>\n",
       "      <td>sklearn.neural_network._multilayer_perceptron....</td>\n",
       "      <td>False</td>\n",
       "    </tr>\n",
       "    <tr>\n",
       "      <th>ridge</th>\n",
       "      <td>Ridge Classifier</td>\n",
       "      <td>sklearn.linear_model._ridge.RidgeClassifier</td>\n",
       "      <td>True</td>\n",
       "    </tr>\n",
       "    <tr>\n",
       "      <th>rf</th>\n",
       "      <td>Random Forest Classifier</td>\n",
       "      <td>sklearn.ensemble._forest.RandomForestClassifier</td>\n",
       "      <td>True</td>\n",
       "    </tr>\n",
       "    <tr>\n",
       "      <th>qda</th>\n",
       "      <td>Quadratic Discriminant Analysis</td>\n",
       "      <td>sklearn.discriminant_analysis.QuadraticDiscrim...</td>\n",
       "      <td>True</td>\n",
       "    </tr>\n",
       "    <tr>\n",
       "      <th>ada</th>\n",
       "      <td>Ada Boost Classifier</td>\n",
       "      <td>sklearn.ensemble._weight_boosting.AdaBoostClas...</td>\n",
       "      <td>True</td>\n",
       "    </tr>\n",
       "    <tr>\n",
       "      <th>gbc</th>\n",
       "      <td>Gradient Boosting Classifier</td>\n",
       "      <td>sklearn.ensemble._gb.GradientBoostingClassifier</td>\n",
       "      <td>True</td>\n",
       "    </tr>\n",
       "    <tr>\n",
       "      <th>lda</th>\n",
       "      <td>Linear Discriminant Analysis</td>\n",
       "      <td>sklearn.discriminant_analysis.LinearDiscrimina...</td>\n",
       "      <td>True</td>\n",
       "    </tr>\n",
       "    <tr>\n",
       "      <th>et</th>\n",
       "      <td>Extra Trees Classifier</td>\n",
       "      <td>sklearn.ensemble._forest.ExtraTreesClassifier</td>\n",
       "      <td>True</td>\n",
       "    </tr>\n",
       "    <tr>\n",
       "      <th>xgboost</th>\n",
       "      <td>Extreme Gradient Boosting</td>\n",
       "      <td>xgboost.sklearn.XGBClassifier</td>\n",
       "      <td>True</td>\n",
       "    </tr>\n",
       "    <tr>\n",
       "      <th>lightgbm</th>\n",
       "      <td>Light Gradient Boosting Machine</td>\n",
       "      <td>lightgbm.sklearn.LGBMClassifier</td>\n",
       "      <td>True</td>\n",
       "    </tr>\n",
       "    <tr>\n",
       "      <th>dummy</th>\n",
       "      <td>Dummy Classifier</td>\n",
       "      <td>sklearn.dummy.DummyClassifier</td>\n",
       "      <td>True</td>\n",
       "    </tr>\n",
       "  </tbody>\n",
       "</table>\n",
       "</div>"
      ],
      "text/plain": [
       "                                     Name  \\\n",
       "ID                                          \n",
       "lr                    Logistic Regression   \n",
       "knn                K Neighbors Classifier   \n",
       "nb                            Naive Bayes   \n",
       "dt               Decision Tree Classifier   \n",
       "svm                   SVM - Linear Kernel   \n",
       "rbfsvm                SVM - Radial Kernel   \n",
       "gpc           Gaussian Process Classifier   \n",
       "mlp                        MLP Classifier   \n",
       "ridge                    Ridge Classifier   \n",
       "rf               Random Forest Classifier   \n",
       "qda       Quadratic Discriminant Analysis   \n",
       "ada                  Ada Boost Classifier   \n",
       "gbc          Gradient Boosting Classifier   \n",
       "lda          Linear Discriminant Analysis   \n",
       "et                 Extra Trees Classifier   \n",
       "xgboost         Extreme Gradient Boosting   \n",
       "lightgbm  Light Gradient Boosting Machine   \n",
       "dummy                    Dummy Classifier   \n",
       "\n",
       "                                                  Reference  Turbo  \n",
       "ID                                                                  \n",
       "lr        sklearn.linear_model._logistic.LogisticRegression   True  \n",
       "knn       sklearn.neighbors._classification.KNeighborsCl...   True  \n",
       "nb                           sklearn.naive_bayes.GaussianNB   True  \n",
       "dt             sklearn.tree._classes.DecisionTreeClassifier   True  \n",
       "svm       sklearn.linear_model._stochastic_gradient.SGDC...   True  \n",
       "rbfsvm                             sklearn.svm._classes.SVC  False  \n",
       "gpc       sklearn.gaussian_process._gpc.GaussianProcessC...  False  \n",
       "mlp       sklearn.neural_network._multilayer_perceptron....  False  \n",
       "ridge           sklearn.linear_model._ridge.RidgeClassifier   True  \n",
       "rf          sklearn.ensemble._forest.RandomForestClassifier   True  \n",
       "qda       sklearn.discriminant_analysis.QuadraticDiscrim...   True  \n",
       "ada       sklearn.ensemble._weight_boosting.AdaBoostClas...   True  \n",
       "gbc         sklearn.ensemble._gb.GradientBoostingClassifier   True  \n",
       "lda       sklearn.discriminant_analysis.LinearDiscrimina...   True  \n",
       "et            sklearn.ensemble._forest.ExtraTreesClassifier   True  \n",
       "xgboost                       xgboost.sklearn.XGBClassifier   True  \n",
       "lightgbm                    lightgbm.sklearn.LGBMClassifier   True  \n",
       "dummy                         sklearn.dummy.DummyClassifier   True  "
      ]
     },
     "execution_count": 8,
     "metadata": {},
     "output_type": "execute_result"
    }
   ],
   "source": [
    "models()"
   ]
  },
  {
   "cell_type": "markdown",
   "metadata": {
    "colab_type": "text",
    "id": "UWMSeyNhEQo-"
   },
   "source": [
    "### 8.1 Decision Tree Classifier"
   ]
  },
  {
   "cell_type": "code",
   "execution_count": 20,
   "metadata": {
    "colab": {
     "base_uri": "https://localhost:8080/",
     "height": 392
    },
    "colab_type": "code",
    "id": "LP896uSIEQpD",
    "outputId": "d6d31562-feb5-4052-ee23-0a444fecaacf"
   },
   "outputs": [
    {
     "data": {
      "text/html": [
       "<style type=\"text/css\">\n",
       "#T_fb898_row10_col0, #T_fb898_row10_col1, #T_fb898_row10_col2, #T_fb898_row10_col3, #T_fb898_row10_col4, #T_fb898_row10_col5, #T_fb898_row10_col6 {\n",
       "  background: yellow;\n",
       "}\n",
       "</style>\n",
       "<table id=\"T_fb898\">\n",
       "  <thead>\n",
       "    <tr>\n",
       "      <th class=\"blank level0\" >&nbsp;</th>\n",
       "      <th id=\"T_fb898_level0_col0\" class=\"col_heading level0 col0\" >Accuracy</th>\n",
       "      <th id=\"T_fb898_level0_col1\" class=\"col_heading level0 col1\" >AUC</th>\n",
       "      <th id=\"T_fb898_level0_col2\" class=\"col_heading level0 col2\" >Recall</th>\n",
       "      <th id=\"T_fb898_level0_col3\" class=\"col_heading level0 col3\" >Prec.</th>\n",
       "      <th id=\"T_fb898_level0_col4\" class=\"col_heading level0 col4\" >F1</th>\n",
       "      <th id=\"T_fb898_level0_col5\" class=\"col_heading level0 col5\" >Kappa</th>\n",
       "      <th id=\"T_fb898_level0_col6\" class=\"col_heading level0 col6\" >MCC</th>\n",
       "    </tr>\n",
       "    <tr>\n",
       "      <th class=\"index_name level0\" >Fold</th>\n",
       "      <th class=\"blank col0\" >&nbsp;</th>\n",
       "      <th class=\"blank col1\" >&nbsp;</th>\n",
       "      <th class=\"blank col2\" >&nbsp;</th>\n",
       "      <th class=\"blank col3\" >&nbsp;</th>\n",
       "      <th class=\"blank col4\" >&nbsp;</th>\n",
       "      <th class=\"blank col5\" >&nbsp;</th>\n",
       "      <th class=\"blank col6\" >&nbsp;</th>\n",
       "    </tr>\n",
       "  </thead>\n",
       "  <tbody>\n",
       "    <tr>\n",
       "      <th id=\"T_fb898_level0_row0\" class=\"row_heading level0 row0\" >0</th>\n",
       "      <td id=\"T_fb898_row0_col0\" class=\"data row0 col0\" >0.7343</td>\n",
       "      <td id=\"T_fb898_row0_col1\" class=\"data row0 col1\" >0.6257</td>\n",
       "      <td id=\"T_fb898_row0_col2\" class=\"data row0 col2\" >0.4327</td>\n",
       "      <td id=\"T_fb898_row0_col3\" class=\"data row0 col3\" >0.4005</td>\n",
       "      <td id=\"T_fb898_row0_col4\" class=\"data row0 col4\" >0.4160</td>\n",
       "      <td id=\"T_fb898_row0_col5\" class=\"data row0 col5\" >0.2444</td>\n",
       "      <td id=\"T_fb898_row0_col6\" class=\"data row0 col6\" >0.2447</td>\n",
       "    </tr>\n",
       "    <tr>\n",
       "      <th id=\"T_fb898_level0_row1\" class=\"row_heading level0 row1\" >1</th>\n",
       "      <td id=\"T_fb898_row1_col0\" class=\"data row1 col0\" >0.7325</td>\n",
       "      <td id=\"T_fb898_row1_col1\" class=\"data row1 col1\" >0.6277</td>\n",
       "      <td id=\"T_fb898_row1_col2\" class=\"data row1 col2\" >0.4384</td>\n",
       "      <td id=\"T_fb898_row1_col3\" class=\"data row1 col3\" >0.3984</td>\n",
       "      <td id=\"T_fb898_row1_col4\" class=\"data row1 col4\" >0.4175</td>\n",
       "      <td id=\"T_fb898_row1_col5\" class=\"data row1 col5\" >0.2443</td>\n",
       "      <td id=\"T_fb898_row1_col6\" class=\"data row1 col6\" >0.2448</td>\n",
       "    </tr>\n",
       "    <tr>\n",
       "      <th id=\"T_fb898_level0_row2\" class=\"row_heading level0 row2\" >2</th>\n",
       "      <td id=\"T_fb898_row2_col0\" class=\"data row2 col0\" >0.7431</td>\n",
       "      <td id=\"T_fb898_row2_col1\" class=\"data row2 col1\" >0.6282</td>\n",
       "      <td id=\"T_fb898_row2_col2\" class=\"data row2 col2\" >0.4241</td>\n",
       "      <td id=\"T_fb898_row2_col3\" class=\"data row2 col3\" >0.4146</td>\n",
       "      <td id=\"T_fb898_row2_col4\" class=\"data row2 col4\" >0.4193</td>\n",
       "      <td id=\"T_fb898_row2_col5\" class=\"data row2 col5\" >0.2544</td>\n",
       "      <td id=\"T_fb898_row2_col6\" class=\"data row2 col6\" >0.2544</td>\n",
       "    </tr>\n",
       "    <tr>\n",
       "      <th id=\"T_fb898_level0_row3\" class=\"row_heading level0 row3\" >3</th>\n",
       "      <td id=\"T_fb898_row3_col0\" class=\"data row3 col0\" >0.7274</td>\n",
       "      <td id=\"T_fb898_row3_col1\" class=\"data row3 col1\" >0.6151</td>\n",
       "      <td id=\"T_fb898_row3_col2\" class=\"data row3 col2\" >0.4155</td>\n",
       "      <td id=\"T_fb898_row3_col3\" class=\"data row3 col3\" >0.3856</td>\n",
       "      <td id=\"T_fb898_row3_col4\" class=\"data row3 col4\" >0.4000</td>\n",
       "      <td id=\"T_fb898_row3_col5\" class=\"data row3 col5\" >0.2240</td>\n",
       "      <td id=\"T_fb898_row3_col6\" class=\"data row3 col6\" >0.2242</td>\n",
       "    </tr>\n",
       "    <tr>\n",
       "      <th id=\"T_fb898_level0_row4\" class=\"row_heading level0 row4\" >4</th>\n",
       "      <td id=\"T_fb898_row4_col0\" class=\"data row4 col0\" >0.7187</td>\n",
       "      <td id=\"T_fb898_row4_col1\" class=\"data row4 col1\" >0.6054</td>\n",
       "      <td id=\"T_fb898_row4_col2\" class=\"data row4 col2\" >0.4040</td>\n",
       "      <td id=\"T_fb898_row4_col3\" class=\"data row4 col3\" >0.3691</td>\n",
       "      <td id=\"T_fb898_row4_col4\" class=\"data row4 col4\" >0.3858</td>\n",
       "      <td id=\"T_fb898_row4_col5\" class=\"data row4 col5\" >0.2038</td>\n",
       "      <td id=\"T_fb898_row4_col6\" class=\"data row4 col6\" >0.2042</td>\n",
       "    </tr>\n",
       "    <tr>\n",
       "      <th id=\"T_fb898_level0_row5\" class=\"row_heading level0 row5\" >5</th>\n",
       "      <td id=\"T_fb898_row5_col0\" class=\"data row5 col0\" >0.7187</td>\n",
       "      <td id=\"T_fb898_row5_col1\" class=\"data row5 col1\" >0.6014</td>\n",
       "      <td id=\"T_fb898_row5_col2\" class=\"data row5 col2\" >0.3897</td>\n",
       "      <td id=\"T_fb898_row5_col3\" class=\"data row5 col3\" >0.3656</td>\n",
       "      <td id=\"T_fb898_row5_col4\" class=\"data row5 col4\" >0.3773</td>\n",
       "      <td id=\"T_fb898_row5_col5\" class=\"data row5 col5\" >0.1958</td>\n",
       "      <td id=\"T_fb898_row5_col6\" class=\"data row5 col6\" >0.1960</td>\n",
       "    </tr>\n",
       "    <tr>\n",
       "      <th id=\"T_fb898_level0_row6\" class=\"row_heading level0 row6\" >6</th>\n",
       "      <td id=\"T_fb898_row6_col0\" class=\"data row6 col0\" >0.7206</td>\n",
       "      <td id=\"T_fb898_row6_col1\" class=\"data row6 col1\" >0.6128</td>\n",
       "      <td id=\"T_fb898_row6_col2\" class=\"data row6 col2\" >0.4212</td>\n",
       "      <td id=\"T_fb898_row6_col3\" class=\"data row6 col3\" >0.3760</td>\n",
       "      <td id=\"T_fb898_row6_col4\" class=\"data row6 col4\" >0.3973</td>\n",
       "      <td id=\"T_fb898_row6_col5\" class=\"data row6 col5\" >0.2162</td>\n",
       "      <td id=\"T_fb898_row6_col6\" class=\"data row6 col6\" >0.2168</td>\n",
       "    </tr>\n",
       "    <tr>\n",
       "      <th id=\"T_fb898_level0_row7\" class=\"row_heading level0 row7\" >7</th>\n",
       "      <td id=\"T_fb898_row7_col0\" class=\"data row7 col0\" >0.7331</td>\n",
       "      <td id=\"T_fb898_row7_col1\" class=\"data row7 col1\" >0.5986</td>\n",
       "      <td id=\"T_fb898_row7_col2\" class=\"data row7 col2\" >0.3610</td>\n",
       "      <td id=\"T_fb898_row7_col3\" class=\"data row7 col3\" >0.3830</td>\n",
       "      <td id=\"T_fb898_row7_col4\" class=\"data row7 col4\" >0.3717</td>\n",
       "      <td id=\"T_fb898_row7_col5\" class=\"data row7 col5\" >0.2024</td>\n",
       "      <td id=\"T_fb898_row7_col6\" class=\"data row7 col6\" >0.2026</td>\n",
       "    </tr>\n",
       "    <tr>\n",
       "      <th id=\"T_fb898_level0_row8\" class=\"row_heading level0 row8\" >8</th>\n",
       "      <td id=\"T_fb898_row8_col0\" class=\"data row8 col0\" >0.7206</td>\n",
       "      <td id=\"T_fb898_row8_col1\" class=\"data row8 col1\" >0.6045</td>\n",
       "      <td id=\"T_fb898_row8_col2\" class=\"data row8 col2\" >0.3983</td>\n",
       "      <td id=\"T_fb898_row8_col3\" class=\"data row8 col3\" >0.3707</td>\n",
       "      <td id=\"T_fb898_row8_col4\" class=\"data row8 col4\" >0.3840</td>\n",
       "      <td id=\"T_fb898_row8_col5\" class=\"data row8 col5\" >0.2036</td>\n",
       "      <td id=\"T_fb898_row8_col6\" class=\"data row8 col6\" >0.2038</td>\n",
       "    </tr>\n",
       "    <tr>\n",
       "      <th id=\"T_fb898_level0_row9\" class=\"row_heading level0 row9\" >9</th>\n",
       "      <td id=\"T_fb898_row9_col0\" class=\"data row9 col0\" >0.7442</td>\n",
       "      <td id=\"T_fb898_row9_col1\" class=\"data row9 col1\" >0.6272</td>\n",
       "      <td id=\"T_fb898_row9_col2\" class=\"data row9 col2\" >0.4195</td>\n",
       "      <td id=\"T_fb898_row9_col3\" class=\"data row9 col3\" >0.4148</td>\n",
       "      <td id=\"T_fb898_row9_col4\" class=\"data row9 col4\" >0.4171</td>\n",
       "      <td id=\"T_fb898_row9_col5\" class=\"data row9 col5\" >0.2533</td>\n",
       "      <td id=\"T_fb898_row9_col6\" class=\"data row9 col6\" >0.2533</td>\n",
       "    </tr>\n",
       "    <tr>\n",
       "      <th id=\"T_fb898_level0_row10\" class=\"row_heading level0 row10\" >Mean</th>\n",
       "      <td id=\"T_fb898_row10_col0\" class=\"data row10 col0\" >0.7293</td>\n",
       "      <td id=\"T_fb898_row10_col1\" class=\"data row10 col1\" >0.6147</td>\n",
       "      <td id=\"T_fb898_row10_col2\" class=\"data row10 col2\" >0.4104</td>\n",
       "      <td id=\"T_fb898_row10_col3\" class=\"data row10 col3\" >0.3878</td>\n",
       "      <td id=\"T_fb898_row10_col4\" class=\"data row10 col4\" >0.3986</td>\n",
       "      <td id=\"T_fb898_row10_col5\" class=\"data row10 col5\" >0.2242</td>\n",
       "      <td id=\"T_fb898_row10_col6\" class=\"data row10 col6\" >0.2245</td>\n",
       "    </tr>\n",
       "    <tr>\n",
       "      <th id=\"T_fb898_level0_row11\" class=\"row_heading level0 row11\" >Std</th>\n",
       "      <td id=\"T_fb898_row11_col0\" class=\"data row11 col0\" >0.0092</td>\n",
       "      <td id=\"T_fb898_row11_col1\" class=\"data row11 col1\" >0.0112</td>\n",
       "      <td id=\"T_fb898_row11_col2\" class=\"data row11 col2\" >0.0218</td>\n",
       "      <td id=\"T_fb898_row11_col3\" class=\"data row11 col3\" >0.0174</td>\n",
       "      <td id=\"T_fb898_row11_col4\" class=\"data row11 col4\" >0.0173</td>\n",
       "      <td id=\"T_fb898_row11_col5\" class=\"data row11 col5\" >0.0218</td>\n",
       "      <td id=\"T_fb898_row11_col6\" class=\"data row11 col6\" >0.0218</td>\n",
       "    </tr>\n",
       "  </tbody>\n",
       "</table>\n"
      ],
      "text/plain": [
       "<pandas.io.formats.style.Styler at 0x1e6817012e0>"
      ]
     },
     "metadata": {},
     "output_type": "display_data"
    }
   ],
   "source": [
    "dt = create_model('dt')"
   ]
  },
  {
   "cell_type": "code",
   "execution_count": 21,
   "metadata": {
    "colab": {},
    "colab_type": "code",
    "id": "FRat05yGEQpQ",
    "outputId": "c8e6a190-8bec-4646-d2c8-8a92b129c484"
   },
   "outputs": [
    {
     "name": "stdout",
     "output_type": "stream",
     "text": [
      "DecisionTreeClassifier(ccp_alpha=0.0, class_weight=None, criterion='gini',\n",
      "                       max_depth=None, max_features=None, max_leaf_nodes=None,\n",
      "                       min_impurity_decrease=0.0, min_impurity_split=None,\n",
      "                       min_samples_leaf=1, min_samples_split=2,\n",
      "                       min_weight_fraction_leaf=0.0, presort='deprecated',\n",
      "                       random_state=123, splitter='best')\n"
     ]
    }
   ],
   "source": [
    "#O modelo treinado é guardado na variável 'dt'. \n",
    "print(dt)"
   ]
  },
  {
   "cell_type": "markdown",
   "metadata": {
    "colab_type": "text",
    "id": "rWUojqBCEQpb"
   },
   "source": [
    "### 8.2 K Neighbors Classifier"
   ]
  },
  {
   "cell_type": "code",
   "execution_count": 22,
   "metadata": {
    "colab": {
     "base_uri": "https://localhost:8080/",
     "height": 392
    },
    "colab_type": "code",
    "id": "2uonD20gEQpe",
    "outputId": "560e3cb6-41d5-4293-b1c5-2bd1cf3bc63b"
   },
   "outputs": [
    {
     "data": {
      "text/html": [
       "<style type=\"text/css\">\n",
       "#T_bce43_row10_col0, #T_bce43_row10_col1, #T_bce43_row10_col2, #T_bce43_row10_col3, #T_bce43_row10_col4, #T_bce43_row10_col5, #T_bce43_row10_col6 {\n",
       "  background: yellow;\n",
       "}\n",
       "</style>\n",
       "<table id=\"T_bce43\">\n",
       "  <thead>\n",
       "    <tr>\n",
       "      <th class=\"blank level0\" >&nbsp;</th>\n",
       "      <th id=\"T_bce43_level0_col0\" class=\"col_heading level0 col0\" >Accuracy</th>\n",
       "      <th id=\"T_bce43_level0_col1\" class=\"col_heading level0 col1\" >AUC</th>\n",
       "      <th id=\"T_bce43_level0_col2\" class=\"col_heading level0 col2\" >Recall</th>\n",
       "      <th id=\"T_bce43_level0_col3\" class=\"col_heading level0 col3\" >Prec.</th>\n",
       "      <th id=\"T_bce43_level0_col4\" class=\"col_heading level0 col4\" >F1</th>\n",
       "      <th id=\"T_bce43_level0_col5\" class=\"col_heading level0 col5\" >Kappa</th>\n",
       "      <th id=\"T_bce43_level0_col6\" class=\"col_heading level0 col6\" >MCC</th>\n",
       "    </tr>\n",
       "    <tr>\n",
       "      <th class=\"index_name level0\" >Fold</th>\n",
       "      <th class=\"blank col0\" >&nbsp;</th>\n",
       "      <th class=\"blank col1\" >&nbsp;</th>\n",
       "      <th class=\"blank col2\" >&nbsp;</th>\n",
       "      <th class=\"blank col3\" >&nbsp;</th>\n",
       "      <th class=\"blank col4\" >&nbsp;</th>\n",
       "      <th class=\"blank col5\" >&nbsp;</th>\n",
       "      <th class=\"blank col6\" >&nbsp;</th>\n",
       "    </tr>\n",
       "  </thead>\n",
       "  <tbody>\n",
       "    <tr>\n",
       "      <th id=\"T_bce43_level0_row0\" class=\"row_heading level0 row0\" >0</th>\n",
       "      <td id=\"T_bce43_row0_col0\" class=\"data row0 col0\" >0.7469</td>\n",
       "      <td id=\"T_bce43_row0_col1\" class=\"data row0 col1\" >0.6020</td>\n",
       "      <td id=\"T_bce43_row0_col2\" class=\"data row0 col2\" >0.1920</td>\n",
       "      <td id=\"T_bce43_row0_col3\" class=\"data row0 col3\" >0.3545</td>\n",
       "      <td id=\"T_bce43_row0_col4\" class=\"data row0 col4\" >0.2491</td>\n",
       "      <td id=\"T_bce43_row0_col5\" class=\"data row0 col5\" >0.1128</td>\n",
       "      <td id=\"T_bce43_row0_col6\" class=\"data row0 col6\" >0.1204</td>\n",
       "    </tr>\n",
       "    <tr>\n",
       "      <th id=\"T_bce43_level0_row1\" class=\"row_heading level0 row1\" >1</th>\n",
       "      <td id=\"T_bce43_row1_col0\" class=\"data row1 col0\" >0.7550</td>\n",
       "      <td id=\"T_bce43_row1_col1\" class=\"data row1 col1\" >0.5894</td>\n",
       "      <td id=\"T_bce43_row1_col2\" class=\"data row1 col2\" >0.2092</td>\n",
       "      <td id=\"T_bce43_row1_col3\" class=\"data row1 col3\" >0.3883</td>\n",
       "      <td id=\"T_bce43_row1_col4\" class=\"data row1 col4\" >0.2719</td>\n",
       "      <td id=\"T_bce43_row1_col5\" class=\"data row1 col5\" >0.1402</td>\n",
       "      <td id=\"T_bce43_row1_col6\" class=\"data row1 col6\" >0.1500</td>\n",
       "    </tr>\n",
       "    <tr>\n",
       "      <th id=\"T_bce43_level0_row2\" class=\"row_heading level0 row2\" >2</th>\n",
       "      <td id=\"T_bce43_row2_col0\" class=\"data row2 col0\" >0.7506</td>\n",
       "      <td id=\"T_bce43_row2_col1\" class=\"data row2 col1\" >0.5883</td>\n",
       "      <td id=\"T_bce43_row2_col2\" class=\"data row2 col2\" >0.1576</td>\n",
       "      <td id=\"T_bce43_row2_col3\" class=\"data row2 col3\" >0.3459</td>\n",
       "      <td id=\"T_bce43_row2_col4\" class=\"data row2 col4\" >0.2165</td>\n",
       "      <td id=\"T_bce43_row2_col5\" class=\"data row2 col5\" >0.0923</td>\n",
       "      <td id=\"T_bce43_row2_col6\" class=\"data row2 col6\" >0.1024</td>\n",
       "    </tr>\n",
       "    <tr>\n",
       "      <th id=\"T_bce43_level0_row3\" class=\"row_heading level0 row3\" >3</th>\n",
       "      <td id=\"T_bce43_row3_col0\" class=\"data row3 col0\" >0.7419</td>\n",
       "      <td id=\"T_bce43_row3_col1\" class=\"data row3 col1\" >0.5818</td>\n",
       "      <td id=\"T_bce43_row3_col2\" class=\"data row3 col2\" >0.1519</td>\n",
       "      <td id=\"T_bce43_row3_col3\" class=\"data row3 col3\" >0.3136</td>\n",
       "      <td id=\"T_bce43_row3_col4\" class=\"data row3 col4\" >0.2046</td>\n",
       "      <td id=\"T_bce43_row3_col5\" class=\"data row3 col5\" >0.0723</td>\n",
       "      <td id=\"T_bce43_row3_col6\" class=\"data row3 col6\" >0.0790</td>\n",
       "    </tr>\n",
       "    <tr>\n",
       "      <th id=\"T_bce43_level0_row4\" class=\"row_heading level0 row4\" >4</th>\n",
       "      <td id=\"T_bce43_row4_col0\" class=\"data row4 col0\" >0.7563</td>\n",
       "      <td id=\"T_bce43_row4_col1\" class=\"data row4 col1\" >0.5908</td>\n",
       "      <td id=\"T_bce43_row4_col2\" class=\"data row4 col2\" >0.1490</td>\n",
       "      <td id=\"T_bce43_row4_col3\" class=\"data row4 col3\" >0.3611</td>\n",
       "      <td id=\"T_bce43_row4_col4\" class=\"data row4 col4\" >0.2110</td>\n",
       "      <td id=\"T_bce43_row4_col5\" class=\"data row4 col5\" >0.0954</td>\n",
       "      <td id=\"T_bce43_row4_col6\" class=\"data row4 col6\" >0.1085</td>\n",
       "    </tr>\n",
       "    <tr>\n",
       "      <th id=\"T_bce43_level0_row5\" class=\"row_heading level0 row5\" >5</th>\n",
       "      <td id=\"T_bce43_row5_col0\" class=\"data row5 col0\" >0.7550</td>\n",
       "      <td id=\"T_bce43_row5_col1\" class=\"data row5 col1\" >0.5997</td>\n",
       "      <td id=\"T_bce43_row5_col2\" class=\"data row5 col2\" >0.1748</td>\n",
       "      <td id=\"T_bce43_row5_col3\" class=\"data row5 col3\" >0.3720</td>\n",
       "      <td id=\"T_bce43_row5_col4\" class=\"data row5 col4\" >0.2378</td>\n",
       "      <td id=\"T_bce43_row5_col5\" class=\"data row5 col5\" >0.1139</td>\n",
       "      <td id=\"T_bce43_row5_col6\" class=\"data row5 col6\" >0.1255</td>\n",
       "    </tr>\n",
       "    <tr>\n",
       "      <th id=\"T_bce43_level0_row6\" class=\"row_heading level0 row6\" >6</th>\n",
       "      <td id=\"T_bce43_row6_col0\" class=\"data row6 col0\" >0.7638</td>\n",
       "      <td id=\"T_bce43_row6_col1\" class=\"data row6 col1\" >0.5890</td>\n",
       "      <td id=\"T_bce43_row6_col2\" class=\"data row6 col2\" >0.1891</td>\n",
       "      <td id=\"T_bce43_row6_col3\" class=\"data row6 col3\" >0.4125</td>\n",
       "      <td id=\"T_bce43_row6_col4\" class=\"data row6 col4\" >0.2593</td>\n",
       "      <td id=\"T_bce43_row6_col5\" class=\"data row6 col5\" >0.1413</td>\n",
       "      <td id=\"T_bce43_row6_col6\" class=\"data row6 col6\" >0.1565</td>\n",
       "    </tr>\n",
       "    <tr>\n",
       "      <th id=\"T_bce43_level0_row7\" class=\"row_heading level0 row7\" >7</th>\n",
       "      <td id=\"T_bce43_row7_col0\" class=\"data row7 col0\" >0.7613</td>\n",
       "      <td id=\"T_bce43_row7_col1\" class=\"data row7 col1\" >0.6240</td>\n",
       "      <td id=\"T_bce43_row7_col2\" class=\"data row7 col2\" >0.1633</td>\n",
       "      <td id=\"T_bce43_row7_col3\" class=\"data row7 col3\" >0.3904</td>\n",
       "      <td id=\"T_bce43_row7_col4\" class=\"data row7 col4\" >0.2303</td>\n",
       "      <td id=\"T_bce43_row7_col5\" class=\"data row7 col5\" >0.1163</td>\n",
       "      <td id=\"T_bce43_row7_col6\" class=\"data row7 col6\" >0.1318</td>\n",
       "    </tr>\n",
       "    <tr>\n",
       "      <th id=\"T_bce43_level0_row8\" class=\"row_heading level0 row8\" >8</th>\n",
       "      <td id=\"T_bce43_row8_col0\" class=\"data row8 col0\" >0.7619</td>\n",
       "      <td id=\"T_bce43_row8_col1\" class=\"data row8 col1\" >0.5988</td>\n",
       "      <td id=\"T_bce43_row8_col2\" class=\"data row8 col2\" >0.1862</td>\n",
       "      <td id=\"T_bce43_row8_col3\" class=\"data row8 col3\" >0.4037</td>\n",
       "      <td id=\"T_bce43_row8_col4\" class=\"data row8 col4\" >0.2549</td>\n",
       "      <td id=\"T_bce43_row8_col5\" class=\"data row8 col5\" >0.1356</td>\n",
       "      <td id=\"T_bce43_row8_col6\" class=\"data row8 col6\" >0.1500</td>\n",
       "    </tr>\n",
       "    <tr>\n",
       "      <th id=\"T_bce43_level0_row9\" class=\"row_heading level0 row9\" >9</th>\n",
       "      <td id=\"T_bce43_row9_col0\" class=\"data row9 col0\" >0.7549</td>\n",
       "      <td id=\"T_bce43_row9_col1\" class=\"data row9 col1\" >0.5756</td>\n",
       "      <td id=\"T_bce43_row9_col2\" class=\"data row9 col2\" >0.1897</td>\n",
       "      <td id=\"T_bce43_row9_col3\" class=\"data row9 col3\" >0.3771</td>\n",
       "      <td id=\"T_bce43_row9_col4\" class=\"data row9 col4\" >0.2524</td>\n",
       "      <td id=\"T_bce43_row9_col5\" class=\"data row9 col5\" >0.1246</td>\n",
       "      <td id=\"T_bce43_row9_col6\" class=\"data row9 col6\" >0.1351</td>\n",
       "    </tr>\n",
       "    <tr>\n",
       "      <th id=\"T_bce43_level0_row10\" class=\"row_heading level0 row10\" >Mean</th>\n",
       "      <td id=\"T_bce43_row10_col0\" class=\"data row10 col0\" >0.7547</td>\n",
       "      <td id=\"T_bce43_row10_col1\" class=\"data row10 col1\" >0.5939</td>\n",
       "      <td id=\"T_bce43_row10_col2\" class=\"data row10 col2\" >0.1763</td>\n",
       "      <td id=\"T_bce43_row10_col3\" class=\"data row10 col3\" >0.3719</td>\n",
       "      <td id=\"T_bce43_row10_col4\" class=\"data row10 col4\" >0.2388</td>\n",
       "      <td id=\"T_bce43_row10_col5\" class=\"data row10 col5\" >0.1145</td>\n",
       "      <td id=\"T_bce43_row10_col6\" class=\"data row10 col6\" >0.1259</td>\n",
       "    </tr>\n",
       "    <tr>\n",
       "      <th id=\"T_bce43_level0_row11\" class=\"row_heading level0 row11\" >Std</th>\n",
       "      <td id=\"T_bce43_row11_col0\" class=\"data row11 col0\" >0.0065</td>\n",
       "      <td id=\"T_bce43_row11_col1\" class=\"data row11 col1\" >0.0126</td>\n",
       "      <td id=\"T_bce43_row11_col2\" class=\"data row11 col2\" >0.0191</td>\n",
       "      <td id=\"T_bce43_row11_col3\" class=\"data row11 col3\" >0.0279</td>\n",
       "      <td id=\"T_bce43_row11_col4\" class=\"data row11 col4\" >0.0214</td>\n",
       "      <td id=\"T_bce43_row11_col5\" class=\"data row11 col5\" >0.0214</td>\n",
       "      <td id=\"T_bce43_row11_col6\" class=\"data row11 col6\" >0.0230</td>\n",
       "    </tr>\n",
       "  </tbody>\n",
       "</table>\n"
      ],
      "text/plain": [
       "<pandas.io.formats.style.Styler at 0x1e682286e80>"
      ]
     },
     "metadata": {},
     "output_type": "display_data"
    }
   ],
   "source": [
    "knn = create_model('knn')"
   ]
  },
  {
   "cell_type": "markdown",
   "metadata": {
    "colab_type": "text",
    "id": "nSg3OUjuEQpu"
   },
   "source": [
    "### 8.3 Random Forest Classifier"
   ]
  },
  {
   "cell_type": "code",
   "execution_count": 10,
   "metadata": {
    "colab": {
     "base_uri": "https://localhost:8080/",
     "height": 392
    },
    "colab_type": "code",
    "id": "FGCoUiQpEQpz",
    "outputId": "212cb736-6dcb-4b77-e45b-14ad895bff43"
   },
   "outputs": [
    {
     "data": {
      "text/html": [
       "<style type=\"text/css\">\n",
       "#T_28b19_row10_col0, #T_28b19_row10_col1, #T_28b19_row10_col2, #T_28b19_row10_col3, #T_28b19_row10_col4, #T_28b19_row10_col5, #T_28b19_row10_col6 {\n",
       "  background: yellow;\n",
       "}\n",
       "</style>\n",
       "<table id=\"T_28b19\">\n",
       "  <thead>\n",
       "    <tr>\n",
       "      <th class=\"blank level0\" >&nbsp;</th>\n",
       "      <th id=\"T_28b19_level0_col0\" class=\"col_heading level0 col0\" >Accuracy</th>\n",
       "      <th id=\"T_28b19_level0_col1\" class=\"col_heading level0 col1\" >AUC</th>\n",
       "      <th id=\"T_28b19_level0_col2\" class=\"col_heading level0 col2\" >Recall</th>\n",
       "      <th id=\"T_28b19_level0_col3\" class=\"col_heading level0 col3\" >Prec.</th>\n",
       "      <th id=\"T_28b19_level0_col4\" class=\"col_heading level0 col4\" >F1</th>\n",
       "      <th id=\"T_28b19_level0_col5\" class=\"col_heading level0 col5\" >Kappa</th>\n",
       "      <th id=\"T_28b19_level0_col6\" class=\"col_heading level0 col6\" >MCC</th>\n",
       "    </tr>\n",
       "    <tr>\n",
       "      <th class=\"index_name level0\" >Fold</th>\n",
       "      <th class=\"blank col0\" >&nbsp;</th>\n",
       "      <th class=\"blank col1\" >&nbsp;</th>\n",
       "      <th class=\"blank col2\" >&nbsp;</th>\n",
       "      <th class=\"blank col3\" >&nbsp;</th>\n",
       "      <th class=\"blank col4\" >&nbsp;</th>\n",
       "      <th class=\"blank col5\" >&nbsp;</th>\n",
       "      <th class=\"blank col6\" >&nbsp;</th>\n",
       "    </tr>\n",
       "  </thead>\n",
       "  <tbody>\n",
       "    <tr>\n",
       "      <th id=\"T_28b19_level0_row0\" class=\"row_heading level0 row0\" >0</th>\n",
       "      <td id=\"T_28b19_row0_col0\" class=\"data row0 col0\" >0.8133</td>\n",
       "      <td id=\"T_28b19_row0_col1\" class=\"data row0 col1\" >0.7673</td>\n",
       "      <td id=\"T_28b19_row0_col2\" class=\"data row0 col2\" >0.3610</td>\n",
       "      <td id=\"T_28b19_row0_col3\" class=\"data row0 col3\" >0.6269</td>\n",
       "      <td id=\"T_28b19_row0_col4\" class=\"data row0 col4\" >0.4582</td>\n",
       "      <td id=\"T_28b19_row0_col5\" class=\"data row0 col5\" >0.3551</td>\n",
       "      <td id=\"T_28b19_row0_col6\" class=\"data row0 col6\" >0.3749</td>\n",
       "    </tr>\n",
       "    <tr>\n",
       "      <th id=\"T_28b19_level0_row1\" class=\"row_heading level0 row1\" >1</th>\n",
       "      <td id=\"T_28b19_row1_col0\" class=\"data row1 col0\" >0.8239</td>\n",
       "      <td id=\"T_28b19_row1_col1\" class=\"data row1 col1\" >0.7615</td>\n",
       "      <td id=\"T_28b19_row1_col2\" class=\"data row1 col2\" >0.3782</td>\n",
       "      <td id=\"T_28b19_row1_col3\" class=\"data row1 col3\" >0.6735</td>\n",
       "      <td id=\"T_28b19_row1_col4\" class=\"data row1 col4\" >0.4844</td>\n",
       "      <td id=\"T_28b19_row1_col5\" class=\"data row1 col5\" >0.3882</td>\n",
       "      <td id=\"T_28b19_row1_col6\" class=\"data row1 col6\" >0.4117</td>\n",
       "    </tr>\n",
       "    <tr>\n",
       "      <th id=\"T_28b19_level0_row2\" class=\"row_heading level0 row2\" >2</th>\n",
       "      <td id=\"T_28b19_row2_col0\" class=\"data row2 col0\" >0.8258</td>\n",
       "      <td id=\"T_28b19_row2_col1\" class=\"data row2 col1\" >0.7708</td>\n",
       "      <td id=\"T_28b19_row2_col2\" class=\"data row2 col2\" >0.3467</td>\n",
       "      <td id=\"T_28b19_row2_col3\" class=\"data row2 col3\" >0.7076</td>\n",
       "      <td id=\"T_28b19_row2_col4\" class=\"data row2 col4\" >0.4654</td>\n",
       "      <td id=\"T_28b19_row2_col5\" class=\"data row2 col5\" >0.3756</td>\n",
       "      <td id=\"T_28b19_row2_col6\" class=\"data row2 col6\" >0.4098</td>\n",
       "    </tr>\n",
       "    <tr>\n",
       "      <th id=\"T_28b19_level0_row3\" class=\"row_heading level0 row3\" >3</th>\n",
       "      <td id=\"T_28b19_row3_col0\" class=\"data row3 col0\" >0.8177</td>\n",
       "      <td id=\"T_28b19_row3_col1\" class=\"data row3 col1\" >0.7605</td>\n",
       "      <td id=\"T_28b19_row3_col2\" class=\"data row3 col2\" >0.3725</td>\n",
       "      <td id=\"T_28b19_row3_col3\" class=\"data row3 col3\" >0.6436</td>\n",
       "      <td id=\"T_28b19_row3_col4\" class=\"data row3 col4\" >0.4719</td>\n",
       "      <td id=\"T_28b19_row3_col5\" class=\"data row3 col5\" >0.3710</td>\n",
       "      <td id=\"T_28b19_row3_col6\" class=\"data row3 col6\" >0.3913</td>\n",
       "    </tr>\n",
       "    <tr>\n",
       "      <th id=\"T_28b19_level0_row4\" class=\"row_heading level0 row4\" >4</th>\n",
       "      <td id=\"T_28b19_row4_col0\" class=\"data row4 col0\" >0.8208</td>\n",
       "      <td id=\"T_28b19_row4_col1\" class=\"data row4 col1\" >0.7642</td>\n",
       "      <td id=\"T_28b19_row4_col2\" class=\"data row4 col2\" >0.3725</td>\n",
       "      <td id=\"T_28b19_row4_col3\" class=\"data row4 col3\" >0.6599</td>\n",
       "      <td id=\"T_28b19_row4_col4\" class=\"data row4 col4\" >0.4762</td>\n",
       "      <td id=\"T_28b19_row4_col5\" class=\"data row4 col5\" >0.3780</td>\n",
       "      <td id=\"T_28b19_row4_col6\" class=\"data row4 col6\" >0.4006</td>\n",
       "    </tr>\n",
       "    <tr>\n",
       "      <th id=\"T_28b19_level0_row5\" class=\"row_heading level0 row5\" >5</th>\n",
       "      <td id=\"T_28b19_row5_col0\" class=\"data row5 col0\" >0.8283</td>\n",
       "      <td id=\"T_28b19_row5_col1\" class=\"data row5 col1\" >0.7638</td>\n",
       "      <td id=\"T_28b19_row5_col2\" class=\"data row5 col2\" >0.3954</td>\n",
       "      <td id=\"T_28b19_row5_col3\" class=\"data row5 col3\" >0.6866</td>\n",
       "      <td id=\"T_28b19_row5_col4\" class=\"data row5 col4\" >0.5018</td>\n",
       "      <td id=\"T_28b19_row5_col5\" class=\"data row5 col5\" >0.4070</td>\n",
       "      <td id=\"T_28b19_row5_col6\" class=\"data row5 col6\" >0.4297</td>\n",
       "    </tr>\n",
       "    <tr>\n",
       "      <th id=\"T_28b19_level0_row6\" class=\"row_heading level0 row6\" >6</th>\n",
       "      <td id=\"T_28b19_row6_col0\" class=\"data row6 col0\" >0.8127</td>\n",
       "      <td id=\"T_28b19_row6_col1\" class=\"data row6 col1\" >0.7647</td>\n",
       "      <td id=\"T_28b19_row6_col2\" class=\"data row6 col2\" >0.3582</td>\n",
       "      <td id=\"T_28b19_row6_col3\" class=\"data row6 col3\" >0.6250</td>\n",
       "      <td id=\"T_28b19_row6_col4\" class=\"data row6 col4\" >0.4554</td>\n",
       "      <td id=\"T_28b19_row6_col5\" class=\"data row6 col5\" >0.3522</td>\n",
       "      <td id=\"T_28b19_row6_col6\" class=\"data row6 col6\" >0.3721</td>\n",
       "    </tr>\n",
       "    <tr>\n",
       "      <th id=\"T_28b19_level0_row7\" class=\"row_heading level0 row7\" >7</th>\n",
       "      <td id=\"T_28b19_row7_col0\" class=\"data row7 col0\" >0.8283</td>\n",
       "      <td id=\"T_28b19_row7_col1\" class=\"data row7 col1\" >0.7390</td>\n",
       "      <td id=\"T_28b19_row7_col2\" class=\"data row7 col2\" >0.3553</td>\n",
       "      <td id=\"T_28b19_row7_col3\" class=\"data row7 col3\" >0.7168</td>\n",
       "      <td id=\"T_28b19_row7_col4\" class=\"data row7 col4\" >0.4751</td>\n",
       "      <td id=\"T_28b19_row7_col5\" class=\"data row7 col5\" >0.3861</td>\n",
       "      <td id=\"T_28b19_row7_col6\" class=\"data row7 col6\" >0.4202</td>\n",
       "    </tr>\n",
       "    <tr>\n",
       "      <th id=\"T_28b19_level0_row8\" class=\"row_heading level0 row8\" >8</th>\n",
       "      <td id=\"T_28b19_row8_col0\" class=\"data row8 col0\" >0.8108</td>\n",
       "      <td id=\"T_28b19_row8_col1\" class=\"data row8 col1\" >0.7496</td>\n",
       "      <td id=\"T_28b19_row8_col2\" class=\"data row8 col2\" >0.3610</td>\n",
       "      <td id=\"T_28b19_row8_col3\" class=\"data row8 col3\" >0.6146</td>\n",
       "      <td id=\"T_28b19_row8_col4\" class=\"data row8 col4\" >0.4549</td>\n",
       "      <td id=\"T_28b19_row8_col5\" class=\"data row8 col5\" >0.3496</td>\n",
       "      <td id=\"T_28b19_row8_col6\" class=\"data row8 col6\" >0.3678</td>\n",
       "    </tr>\n",
       "    <tr>\n",
       "      <th id=\"T_28b19_level0_row9\" class=\"row_heading level0 row9\" >9</th>\n",
       "      <td id=\"T_28b19_row9_col0\" class=\"data row9 col0\" >0.8176</td>\n",
       "      <td id=\"T_28b19_row9_col1\" class=\"data row9 col1\" >0.7565</td>\n",
       "      <td id=\"T_28b19_row9_col2\" class=\"data row9 col2\" >0.3621</td>\n",
       "      <td id=\"T_28b19_row9_col3\" class=\"data row9 col3\" >0.6462</td>\n",
       "      <td id=\"T_28b19_row9_col4\" class=\"data row9 col4\" >0.4641</td>\n",
       "      <td id=\"T_28b19_row9_col5\" class=\"data row9 col5\" >0.3645</td>\n",
       "      <td id=\"T_28b19_row9_col6\" class=\"data row9 col6\" >0.3867</td>\n",
       "    </tr>\n",
       "    <tr>\n",
       "      <th id=\"T_28b19_level0_row10\" class=\"row_heading level0 row10\" >Mean</th>\n",
       "      <td id=\"T_28b19_row10_col0\" class=\"data row10 col0\" >0.8199</td>\n",
       "      <td id=\"T_28b19_row10_col1\" class=\"data row10 col1\" >0.7598</td>\n",
       "      <td id=\"T_28b19_row10_col2\" class=\"data row10 col2\" >0.3663</td>\n",
       "      <td id=\"T_28b19_row10_col3\" class=\"data row10 col3\" >0.6601</td>\n",
       "      <td id=\"T_28b19_row10_col4\" class=\"data row10 col4\" >0.4707</td>\n",
       "      <td id=\"T_28b19_row10_col5\" class=\"data row10 col5\" >0.3727</td>\n",
       "      <td id=\"T_28b19_row10_col6\" class=\"data row10 col6\" >0.3965</td>\n",
       "    </tr>\n",
       "    <tr>\n",
       "      <th id=\"T_28b19_level0_row11\" class=\"row_heading level0 row11\" >Std</th>\n",
       "      <td id=\"T_28b19_row11_col0\" class=\"data row11 col0\" >0.0062</td>\n",
       "      <td id=\"T_28b19_row11_col1\" class=\"data row11 col1\" >0.0089</td>\n",
       "      <td id=\"T_28b19_row11_col2\" class=\"data row11 col2\" >0.0131</td>\n",
       "      <td id=\"T_28b19_row11_col3\" class=\"data row11 col3\" >0.0335</td>\n",
       "      <td id=\"T_28b19_row11_col4\" class=\"data row11 col4\" >0.0139</td>\n",
       "      <td id=\"T_28b19_row11_col5\" class=\"data row11 col5\" >0.0172</td>\n",
       "      <td id=\"T_28b19_row11_col6\" class=\"data row11 col6\" >0.0202</td>\n",
       "    </tr>\n",
       "  </tbody>\n",
       "</table>\n"
      ],
      "text/plain": [
       "<pandas.io.formats.style.Styler at 0x23efd075fd0>"
      ]
     },
     "metadata": {},
     "output_type": "display_data"
    }
   ],
   "source": [
    "rf = create_model('rf')"
   ]
  },
  {
   "cell_type": "markdown",
   "metadata": {
    "colab_type": "text",
    "id": "z6F3Fk7TEQp8"
   },
   "source": [
    "Observe que a pontuação média de todos os modelos corresponde à pontuação impressa em `compare_models()`. Isso ocorre porque as métricas impressas na grade de pontuação `compare_models()` são as pontuações médias em todos os folds do CV (cross-validation). Semelhante a `compare_models()`, se você quiser alterar o parâmetro fold do valor padrão de 10 para um valor diferente, então você pode usar o parâmetro `fold`. Por exemplo: `create_model('dt', fold = 5)` criará um classificador de árvore de decisão usando CV estratificado de 5 vezes."
   ]
  },
  {
   "cell_type": "markdown",
   "metadata": {
    "colab_type": "text",
    "id": "XvpjzbGQEQqB"
   },
   "source": [
    "# 9.0 Model tunning (Hyperparameter Tunning)"
   ]
  },
  {
   "cell_type": "markdown",
   "metadata": {
    "colab_type": "text",
    "id": "nc_GgksHEQqE"
   },
   "source": [
    "Quando um modelo é criado usando a função `create_model()`, ele usa os hiperparâmetros padrão para treinar o modelo. Para ajustar os hiperparâmetros, a função `tune_model()` é usada. Esta função ajusta automaticamente os hiperparâmetros de um modelo usando `Random Grid Search` em um espaço de busca pré-definido. A saída imprime uma grade de pontuação que mostra Precisão, AUC, Recall, Precisão, F1, Kappa e MCC por dobra para o melhor modelo. Para usar a grade de pesquisa personalizada, você pode passar o parâmetro `custom_grid` na função `tune_model` (veja 9.2 Ajuste de KNN abaixo). <br/>\n",
    "<br/>"
   ]
  },
  {
   "cell_type": "markdown",
   "metadata": {
    "colab_type": "text",
    "id": "BQlMCxrUEQqG"
   },
   "source": [
    "### 9.1 Classificação usando Decision Tree"
   ]
  },
  {
   "cell_type": "code",
   "execution_count": 24,
   "metadata": {
    "colab": {
     "base_uri": "https://localhost:8080/",
     "height": 392
    },
    "colab_type": "code",
    "id": "of46aj6vEQqJ",
    "outputId": "26f7f708-739a-489b-bb76-b33e0a800362"
   },
   "outputs": [
    {
     "data": {
      "text/html": [
       "<style type=\"text/css\">\n",
       "#T_93950_row10_col0, #T_93950_row10_col1, #T_93950_row10_col2, #T_93950_row10_col3, #T_93950_row10_col4, #T_93950_row10_col5, #T_93950_row10_col6 {\n",
       "  background: yellow;\n",
       "}\n",
       "</style>\n",
       "<table id=\"T_93950\">\n",
       "  <thead>\n",
       "    <tr>\n",
       "      <th class=\"blank level0\" >&nbsp;</th>\n",
       "      <th id=\"T_93950_level0_col0\" class=\"col_heading level0 col0\" >Accuracy</th>\n",
       "      <th id=\"T_93950_level0_col1\" class=\"col_heading level0 col1\" >AUC</th>\n",
       "      <th id=\"T_93950_level0_col2\" class=\"col_heading level0 col2\" >Recall</th>\n",
       "      <th id=\"T_93950_level0_col3\" class=\"col_heading level0 col3\" >Prec.</th>\n",
       "      <th id=\"T_93950_level0_col4\" class=\"col_heading level0 col4\" >F1</th>\n",
       "      <th id=\"T_93950_level0_col5\" class=\"col_heading level0 col5\" >Kappa</th>\n",
       "      <th id=\"T_93950_level0_col6\" class=\"col_heading level0 col6\" >MCC</th>\n",
       "    </tr>\n",
       "    <tr>\n",
       "      <th class=\"index_name level0\" >Fold</th>\n",
       "      <th class=\"blank col0\" >&nbsp;</th>\n",
       "      <th class=\"blank col1\" >&nbsp;</th>\n",
       "      <th class=\"blank col2\" >&nbsp;</th>\n",
       "      <th class=\"blank col3\" >&nbsp;</th>\n",
       "      <th class=\"blank col4\" >&nbsp;</th>\n",
       "      <th class=\"blank col5\" >&nbsp;</th>\n",
       "      <th class=\"blank col6\" >&nbsp;</th>\n",
       "    </tr>\n",
       "  </thead>\n",
       "  <tbody>\n",
       "    <tr>\n",
       "      <th id=\"T_93950_level0_row0\" class=\"row_heading level0 row0\" >0</th>\n",
       "      <td id=\"T_93950_row0_col0\" class=\"data row0 col0\" >0.8177</td>\n",
       "      <td id=\"T_93950_row0_col1\" class=\"data row0 col1\" >0.7475</td>\n",
       "      <td id=\"T_93950_row0_col2\" class=\"data row0 col2\" >0.3095</td>\n",
       "      <td id=\"T_93950_row0_col3\" class=\"data row0 col3\" >0.6835</td>\n",
       "      <td id=\"T_93950_row0_col4\" class=\"data row0 col4\" >0.4260</td>\n",
       "      <td id=\"T_93950_row0_col5\" class=\"data row0 col5\" >0.3355</td>\n",
       "      <td id=\"T_93950_row0_col6\" class=\"data row0 col6\" >0.3728</td>\n",
       "    </tr>\n",
       "    <tr>\n",
       "      <th id=\"T_93950_level0_row1\" class=\"row_heading level0 row1\" >1</th>\n",
       "      <td id=\"T_93950_row1_col0\" class=\"data row1 col0\" >0.8289</td>\n",
       "      <td id=\"T_93950_row1_col1\" class=\"data row1 col1\" >0.7711</td>\n",
       "      <td id=\"T_93950_row1_col2\" class=\"data row1 col2\" >0.3381</td>\n",
       "      <td id=\"T_93950_row1_col3\" class=\"data row1 col3\" >0.7375</td>\n",
       "      <td id=\"T_93950_row1_col4\" class=\"data row1 col4\" >0.4637</td>\n",
       "      <td id=\"T_93950_row1_col5\" class=\"data row1 col5\" >0.3782</td>\n",
       "      <td id=\"T_93950_row1_col6\" class=\"data row1 col6\" >0.4190</td>\n",
       "    </tr>\n",
       "    <tr>\n",
       "      <th id=\"T_93950_level0_row2\" class=\"row_heading level0 row2\" >2</th>\n",
       "      <td id=\"T_93950_row2_col0\" class=\"data row2 col0\" >0.8208</td>\n",
       "      <td id=\"T_93950_row2_col1\" class=\"data row2 col1\" >0.7377</td>\n",
       "      <td id=\"T_93950_row2_col2\" class=\"data row2 col2\" >0.2894</td>\n",
       "      <td id=\"T_93950_row2_col3\" class=\"data row2 col3\" >0.7266</td>\n",
       "      <td id=\"T_93950_row2_col4\" class=\"data row2 col4\" >0.4139</td>\n",
       "      <td id=\"T_93950_row2_col5\" class=\"data row2 col5\" >0.3305</td>\n",
       "      <td id=\"T_93950_row2_col6\" class=\"data row2 col6\" >0.3796</td>\n",
       "    </tr>\n",
       "    <tr>\n",
       "      <th id=\"T_93950_level0_row3\" class=\"row_heading level0 row3\" >3</th>\n",
       "      <td id=\"T_93950_row3_col0\" class=\"data row3 col0\" >0.8252</td>\n",
       "      <td id=\"T_93950_row3_col1\" class=\"data row3 col1\" >0.7580</td>\n",
       "      <td id=\"T_93950_row3_col2\" class=\"data row3 col2\" >0.3152</td>\n",
       "      <td id=\"T_93950_row3_col3\" class=\"data row3 col3\" >0.7333</td>\n",
       "      <td id=\"T_93950_row3_col4\" class=\"data row3 col4\" >0.4409</td>\n",
       "      <td id=\"T_93950_row3_col5\" class=\"data row3 col5\" >0.3563</td>\n",
       "      <td id=\"T_93950_row3_col6\" class=\"data row3 col6\" >0.4010</td>\n",
       "    </tr>\n",
       "    <tr>\n",
       "      <th id=\"T_93950_level0_row4\" class=\"row_heading level0 row4\" >4</th>\n",
       "      <td id=\"T_93950_row4_col0\" class=\"data row4 col0\" >0.8195</td>\n",
       "      <td id=\"T_93950_row4_col1\" class=\"data row4 col1\" >0.7545</td>\n",
       "      <td id=\"T_93950_row4_col2\" class=\"data row4 col2\" >0.3095</td>\n",
       "      <td id=\"T_93950_row4_col3\" class=\"data row4 col3\" >0.6968</td>\n",
       "      <td id=\"T_93950_row4_col4\" class=\"data row4 col4\" >0.4286</td>\n",
       "      <td id=\"T_93950_row4_col5\" class=\"data row4 col5\" >0.3398</td>\n",
       "      <td id=\"T_93950_row4_col6\" class=\"data row4 col6\" >0.3794</td>\n",
       "    </tr>\n",
       "    <tr>\n",
       "      <th id=\"T_93950_level0_row5\" class=\"row_heading level0 row5\" >5</th>\n",
       "      <td id=\"T_93950_row5_col0\" class=\"data row5 col0\" >0.8271</td>\n",
       "      <td id=\"T_93950_row5_col1\" class=\"data row5 col1\" >0.7509</td>\n",
       "      <td id=\"T_93950_row5_col2\" class=\"data row5 col2\" >0.3438</td>\n",
       "      <td id=\"T_93950_row5_col3\" class=\"data row5 col3\" >0.7186</td>\n",
       "      <td id=\"T_93950_row5_col4\" class=\"data row5 col4\" >0.4651</td>\n",
       "      <td id=\"T_93950_row5_col5\" class=\"data row5 col5\" >0.3769</td>\n",
       "      <td id=\"T_93950_row5_col6\" class=\"data row5 col6\" >0.4134</td>\n",
       "    </tr>\n",
       "    <tr>\n",
       "      <th id=\"T_93950_level0_row6\" class=\"row_heading level0 row6\" >6</th>\n",
       "      <td id=\"T_93950_row6_col0\" class=\"data row6 col0\" >0.8195</td>\n",
       "      <td id=\"T_93950_row6_col1\" class=\"data row6 col1\" >0.7488</td>\n",
       "      <td id=\"T_93950_row6_col2\" class=\"data row6 col2\" >0.3123</td>\n",
       "      <td id=\"T_93950_row6_col3\" class=\"data row6 col3\" >0.6943</td>\n",
       "      <td id=\"T_93950_row6_col4\" class=\"data row6 col4\" >0.4308</td>\n",
       "      <td id=\"T_93950_row6_col5\" class=\"data row6 col5\" >0.3415</td>\n",
       "      <td id=\"T_93950_row6_col6\" class=\"data row6 col6\" >0.3801</td>\n",
       "    </tr>\n",
       "    <tr>\n",
       "      <th id=\"T_93950_level0_row7\" class=\"row_heading level0 row7\" >7</th>\n",
       "      <td id=\"T_93950_row7_col0\" class=\"data row7 col0\" >0.8246</td>\n",
       "      <td id=\"T_93950_row7_col1\" class=\"data row7 col1\" >0.7529</td>\n",
       "      <td id=\"T_93950_row7_col2\" class=\"data row7 col2\" >0.2980</td>\n",
       "      <td id=\"T_93950_row7_col3\" class=\"data row7 col3\" >0.7482</td>\n",
       "      <td id=\"T_93950_row7_col4\" class=\"data row7 col4\" >0.4262</td>\n",
       "      <td id=\"T_93950_row7_col5\" class=\"data row7 col5\" >0.3446</td>\n",
       "      <td id=\"T_93950_row7_col6\" class=\"data row7 col6\" >0.3957</td>\n",
       "    </tr>\n",
       "    <tr>\n",
       "      <th id=\"T_93950_level0_row8\" class=\"row_heading level0 row8\" >8</th>\n",
       "      <td id=\"T_93950_row8_col0\" class=\"data row8 col0\" >0.8195</td>\n",
       "      <td id=\"T_93950_row8_col1\" class=\"data row8 col1\" >0.7241</td>\n",
       "      <td id=\"T_93950_row8_col2\" class=\"data row8 col2\" >0.3123</td>\n",
       "      <td id=\"T_93950_row8_col3\" class=\"data row8 col3\" >0.6943</td>\n",
       "      <td id=\"T_93950_row8_col4\" class=\"data row8 col4\" >0.4308</td>\n",
       "      <td id=\"T_93950_row8_col5\" class=\"data row8 col5\" >0.3415</td>\n",
       "      <td id=\"T_93950_row8_col6\" class=\"data row8 col6\" >0.3801</td>\n",
       "    </tr>\n",
       "    <tr>\n",
       "      <th id=\"T_93950_level0_row9\" class=\"row_heading level0 row9\" >9</th>\n",
       "      <td id=\"T_93950_row9_col0\" class=\"data row9 col0\" >0.8188</td>\n",
       "      <td id=\"T_93950_row9_col1\" class=\"data row9 col1\" >0.7378</td>\n",
       "      <td id=\"T_93950_row9_col2\" class=\"data row9 col2\" >0.3075</td>\n",
       "      <td id=\"T_93950_row9_col3\" class=\"data row9 col3\" >0.6903</td>\n",
       "      <td id=\"T_93950_row9_col4\" class=\"data row9 col4\" >0.4254</td>\n",
       "      <td id=\"T_93950_row9_col5\" class=\"data row9 col5\" >0.3362</td>\n",
       "      <td id=\"T_93950_row9_col6\" class=\"data row9 col6\" >0.3751</td>\n",
       "    </tr>\n",
       "    <tr>\n",
       "      <th id=\"T_93950_level0_row10\" class=\"row_heading level0 row10\" >Mean</th>\n",
       "      <td id=\"T_93950_row10_col0\" class=\"data row10 col0\" >0.8222</td>\n",
       "      <td id=\"T_93950_row10_col1\" class=\"data row10 col1\" >0.7483</td>\n",
       "      <td id=\"T_93950_row10_col2\" class=\"data row10 col2\" >0.3136</td>\n",
       "      <td id=\"T_93950_row10_col3\" class=\"data row10 col3\" >0.7123</td>\n",
       "      <td id=\"T_93950_row10_col4\" class=\"data row10 col4\" >0.4352</td>\n",
       "      <td id=\"T_93950_row10_col5\" class=\"data row10 col5\" >0.3481</td>\n",
       "      <td id=\"T_93950_row10_col6\" class=\"data row10 col6\" >0.3896</td>\n",
       "    </tr>\n",
       "    <tr>\n",
       "      <th id=\"T_93950_level0_row11\" class=\"row_heading level0 row11\" >Std</th>\n",
       "      <td id=\"T_93950_row11_col0\" class=\"data row11 col0\" >0.0037</td>\n",
       "      <td id=\"T_93950_row11_col1\" class=\"data row11 col1\" >0.0122</td>\n",
       "      <td id=\"T_93950_row11_col2\" class=\"data row11 col2\" >0.0156</td>\n",
       "      <td id=\"T_93950_row11_col3\" class=\"data row11 col3\" >0.0219</td>\n",
       "      <td id=\"T_93950_row11_col4\" class=\"data row11 col4\" >0.0159</td>\n",
       "      <td id=\"T_93950_row11_col5\" class=\"data row11 col5\" >0.0161</td>\n",
       "      <td id=\"T_93950_row11_col6\" class=\"data row11 col6\" >0.0158</td>\n",
       "    </tr>\n",
       "  </tbody>\n",
       "</table>\n"
      ],
      "text/plain": [
       "<pandas.io.formats.style.Styler at 0x1e6867e03a0>"
      ]
     },
     "metadata": {},
     "output_type": "display_data"
    }
   ],
   "source": [
    "tuned_dt = tune_model(dt)"
   ]
  },
  {
   "cell_type": "code",
   "execution_count": 25,
   "metadata": {
    "colab": {},
    "colab_type": "code",
    "id": "__anDkttEQqV",
    "outputId": "7cf46ace-012a-4131-b8b8-370f9d4a63cb"
   },
   "outputs": [
    {
     "name": "stdout",
     "output_type": "stream",
     "text": [
      "DecisionTreeClassifier(ccp_alpha=0.0, class_weight=None, criterion='entropy',\n",
      "                       max_depth=6, max_features=1.0, max_leaf_nodes=None,\n",
      "                       min_impurity_decrease=0.002, min_impurity_split=None,\n",
      "                       min_samples_leaf=5, min_samples_split=5,\n",
      "                       min_weight_fraction_leaf=0.0, presort='deprecated',\n",
      "                       random_state=123, splitter='best')\n"
     ]
    }
   ],
   "source": [
    "#modelo \"tunado\" está guardado na variável 'tuned_dt'. \n",
    "print(tuned_dt)"
   ]
  },
  {
   "cell_type": "markdown",
   "metadata": {
    "colab_type": "text",
    "id": "CD-f0delEQqq"
   },
   "source": [
    "### 9.2 Classificação usando K Neighbors"
   ]
  },
  {
   "cell_type": "code",
   "execution_count": 26,
   "metadata": {
    "colab": {
     "base_uri": "https://localhost:8080/",
     "height": 392
    },
    "colab_type": "code",
    "id": "xN1nYwFXEQqv",
    "outputId": "e4ab669d-bee0-4a9d-f5c7-2ed07ec613b9"
   },
   "outputs": [
    {
     "data": {
      "text/html": [
       "<style type=\"text/css\">\n",
       "#T_4f50d_row10_col0, #T_4f50d_row10_col1, #T_4f50d_row10_col2, #T_4f50d_row10_col3, #T_4f50d_row10_col4, #T_4f50d_row10_col5, #T_4f50d_row10_col6 {\n",
       "  background: yellow;\n",
       "}\n",
       "</style>\n",
       "<table id=\"T_4f50d\">\n",
       "  <thead>\n",
       "    <tr>\n",
       "      <th class=\"blank level0\" >&nbsp;</th>\n",
       "      <th id=\"T_4f50d_level0_col0\" class=\"col_heading level0 col0\" >Accuracy</th>\n",
       "      <th id=\"T_4f50d_level0_col1\" class=\"col_heading level0 col1\" >AUC</th>\n",
       "      <th id=\"T_4f50d_level0_col2\" class=\"col_heading level0 col2\" >Recall</th>\n",
       "      <th id=\"T_4f50d_level0_col3\" class=\"col_heading level0 col3\" >Prec.</th>\n",
       "      <th id=\"T_4f50d_level0_col4\" class=\"col_heading level0 col4\" >F1</th>\n",
       "      <th id=\"T_4f50d_level0_col5\" class=\"col_heading level0 col5\" >Kappa</th>\n",
       "      <th id=\"T_4f50d_level0_col6\" class=\"col_heading level0 col6\" >MCC</th>\n",
       "    </tr>\n",
       "    <tr>\n",
       "      <th class=\"index_name level0\" >Fold</th>\n",
       "      <th class=\"blank col0\" >&nbsp;</th>\n",
       "      <th class=\"blank col1\" >&nbsp;</th>\n",
       "      <th class=\"blank col2\" >&nbsp;</th>\n",
       "      <th class=\"blank col3\" >&nbsp;</th>\n",
       "      <th class=\"blank col4\" >&nbsp;</th>\n",
       "      <th class=\"blank col5\" >&nbsp;</th>\n",
       "      <th class=\"blank col6\" >&nbsp;</th>\n",
       "    </tr>\n",
       "  </thead>\n",
       "  <tbody>\n",
       "    <tr>\n",
       "      <th id=\"T_4f50d_level0_row0\" class=\"row_heading level0 row0\" >0</th>\n",
       "      <td id=\"T_4f50d_row0_col0\" class=\"data row0 col0\" >0.7813</td>\n",
       "      <td id=\"T_4f50d_row0_col1\" class=\"data row0 col1\" >0.6482</td>\n",
       "      <td id=\"T_4f50d_row0_col2\" class=\"data row0 col2\" >0.0372</td>\n",
       "      <td id=\"T_4f50d_row0_col3\" class=\"data row0 col3\" >0.5000</td>\n",
       "      <td id=\"T_4f50d_row0_col4\" class=\"data row0 col4\" >0.0693</td>\n",
       "      <td id=\"T_4f50d_row0_col5\" class=\"data row0 col5\" >0.0402</td>\n",
       "      <td id=\"T_4f50d_row0_col6\" class=\"data row0 col6\" >0.0876</td>\n",
       "    </tr>\n",
       "    <tr>\n",
       "      <th id=\"T_4f50d_level0_row1\" class=\"row_heading level0 row1\" >1</th>\n",
       "      <td id=\"T_4f50d_row1_col0\" class=\"data row1 col0\" >0.7807</td>\n",
       "      <td id=\"T_4f50d_row1_col1\" class=\"data row1 col1\" >0.6436</td>\n",
       "      <td id=\"T_4f50d_row1_col2\" class=\"data row1 col2\" >0.0315</td>\n",
       "      <td id=\"T_4f50d_row1_col3\" class=\"data row1 col3\" >0.4783</td>\n",
       "      <td id=\"T_4f50d_row1_col4\" class=\"data row1 col4\" >0.0591</td>\n",
       "      <td id=\"T_4f50d_row1_col5\" class=\"data row1 col5\" >0.0330</td>\n",
       "      <td id=\"T_4f50d_row1_col6\" class=\"data row1 col6\" >0.0759</td>\n",
       "    </tr>\n",
       "    <tr>\n",
       "      <th id=\"T_4f50d_level0_row2\" class=\"row_heading level0 row2\" >2</th>\n",
       "      <td id=\"T_4f50d_row2_col0\" class=\"data row2 col0\" >0.7744</td>\n",
       "      <td id=\"T_4f50d_row2_col1\" class=\"data row2 col1\" >0.6563</td>\n",
       "      <td id=\"T_4f50d_row2_col2\" class=\"data row2 col2\" >0.0315</td>\n",
       "      <td id=\"T_4f50d_row2_col3\" class=\"data row2 col3\" >0.3333</td>\n",
       "      <td id=\"T_4f50d_row2_col4\" class=\"data row2 col4\" >0.0576</td>\n",
       "      <td id=\"T_4f50d_row2_col5\" class=\"data row2 col5\" >0.0206</td>\n",
       "      <td id=\"T_4f50d_row2_col6\" class=\"data row2 col6\" >0.0403</td>\n",
       "    </tr>\n",
       "    <tr>\n",
       "      <th id=\"T_4f50d_level0_row3\" class=\"row_heading level0 row3\" >3</th>\n",
       "      <td id=\"T_4f50d_row3_col0\" class=\"data row3 col0\" >0.7845</td>\n",
       "      <td id=\"T_4f50d_row3_col1\" class=\"data row3 col1\" >0.6589</td>\n",
       "      <td id=\"T_4f50d_row3_col2\" class=\"data row3 col2\" >0.0659</td>\n",
       "      <td id=\"T_4f50d_row3_col3\" class=\"data row3 col3\" >0.5610</td>\n",
       "      <td id=\"T_4f50d_row3_col4\" class=\"data row3 col4\" >0.1179</td>\n",
       "      <td id=\"T_4f50d_row3_col5\" class=\"data row3 col5\" >0.0754</td>\n",
       "      <td id=\"T_4f50d_row3_col6\" class=\"data row3 col6\" >0.1345</td>\n",
       "    </tr>\n",
       "    <tr>\n",
       "      <th id=\"T_4f50d_level0_row4\" class=\"row_heading level0 row4\" >4</th>\n",
       "      <td id=\"T_4f50d_row4_col0\" class=\"data row4 col0\" >0.7826</td>\n",
       "      <td id=\"T_4f50d_row4_col1\" class=\"data row4 col1\" >0.6645</td>\n",
       "      <td id=\"T_4f50d_row4_col2\" class=\"data row4 col2\" >0.0315</td>\n",
       "      <td id=\"T_4f50d_row4_col3\" class=\"data row4 col3\" >0.5500</td>\n",
       "      <td id=\"T_4f50d_row4_col4\" class=\"data row4 col4\" >0.0596</td>\n",
       "      <td id=\"T_4f50d_row4_col5\" class=\"data row4 col5\" >0.0368</td>\n",
       "      <td id=\"T_4f50d_row4_col6\" class=\"data row4 col6\" >0.0903</td>\n",
       "    </tr>\n",
       "    <tr>\n",
       "      <th id=\"T_4f50d_level0_row5\" class=\"row_heading level0 row5\" >5</th>\n",
       "      <td id=\"T_4f50d_row5_col0\" class=\"data row5 col0\" >0.7794</td>\n",
       "      <td id=\"T_4f50d_row5_col1\" class=\"data row5 col1\" >0.6477</td>\n",
       "      <td id=\"T_4f50d_row5_col2\" class=\"data row5 col2\" >0.0544</td>\n",
       "      <td id=\"T_4f50d_row5_col3\" class=\"data row5 col3\" >0.4634</td>\n",
       "      <td id=\"T_4f50d_row5_col4\" class=\"data row5 col4\" >0.0974</td>\n",
       "      <td id=\"T_4f50d_row5_col5\" class=\"data row5 col5\" >0.0539</td>\n",
       "      <td id=\"T_4f50d_row5_col6\" class=\"data row5 col6\" >0.0961</td>\n",
       "    </tr>\n",
       "    <tr>\n",
       "      <th id=\"T_4f50d_level0_row6\" class=\"row_heading level0 row6\" >6</th>\n",
       "      <td id=\"T_4f50d_row6_col0\" class=\"data row6 col0\" >0.7826</td>\n",
       "      <td id=\"T_4f50d_row6_col1\" class=\"data row6 col1\" >0.6278</td>\n",
       "      <td id=\"T_4f50d_row6_col2\" class=\"data row6 col2\" >0.0630</td>\n",
       "      <td id=\"T_4f50d_row6_col3\" class=\"data row6 col3\" >0.5238</td>\n",
       "      <td id=\"T_4f50d_row6_col4\" class=\"data row6 col4\" >0.1125</td>\n",
       "      <td id=\"T_4f50d_row6_col5\" class=\"data row6 col5\" >0.0688</td>\n",
       "      <td id=\"T_4f50d_row6_col6\" class=\"data row6 col6\" >0.1214</td>\n",
       "    </tr>\n",
       "    <tr>\n",
       "      <th id=\"T_4f50d_level0_row7\" class=\"row_heading level0 row7\" >7</th>\n",
       "      <td id=\"T_4f50d_row7_col0\" class=\"data row7 col0\" >0.7751</td>\n",
       "      <td id=\"T_4f50d_row7_col1\" class=\"data row7 col1\" >0.6702</td>\n",
       "      <td id=\"T_4f50d_row7_col2\" class=\"data row7 col2\" >0.0372</td>\n",
       "      <td id=\"T_4f50d_row7_col3\" class=\"data row7 col3\" >0.3611</td>\n",
       "      <td id=\"T_4f50d_row7_col4\" class=\"data row7 col4\" >0.0675</td>\n",
       "      <td id=\"T_4f50d_row7_col5\" class=\"data row7 col5\" >0.0278</td>\n",
       "      <td id=\"T_4f50d_row7_col6\" class=\"data row7 col6\" >0.0523</td>\n",
       "    </tr>\n",
       "    <tr>\n",
       "      <th id=\"T_4f50d_level0_row8\" class=\"row_heading level0 row8\" >8</th>\n",
       "      <td id=\"T_4f50d_row8_col0\" class=\"data row8 col0\" >0.7813</td>\n",
       "      <td id=\"T_4f50d_row8_col1\" class=\"data row8 col1\" >0.6409</td>\n",
       "      <td id=\"T_4f50d_row8_col2\" class=\"data row8 col2\" >0.0630</td>\n",
       "      <td id=\"T_4f50d_row8_col3\" class=\"data row8 col3\" >0.5000</td>\n",
       "      <td id=\"T_4f50d_row8_col4\" class=\"data row8 col4\" >0.1120</td>\n",
       "      <td id=\"T_4f50d_row8_col5\" class=\"data row8 col5\" >0.0662</td>\n",
       "      <td id=\"T_4f50d_row8_col6\" class=\"data row8 col6\" >0.1146</td>\n",
       "    </tr>\n",
       "    <tr>\n",
       "      <th id=\"T_4f50d_level0_row9\" class=\"row_heading level0 row9\" >9</th>\n",
       "      <td id=\"T_4f50d_row9_col0\" class=\"data row9 col0\" >0.7881</td>\n",
       "      <td id=\"T_4f50d_row9_col1\" class=\"data row9 col1\" >0.6426</td>\n",
       "      <td id=\"T_4f50d_row9_col2\" class=\"data row9 col2\" >0.0661</td>\n",
       "      <td id=\"T_4f50d_row9_col3\" class=\"data row9 col3\" >0.6389</td>\n",
       "      <td id=\"T_4f50d_row9_col4\" class=\"data row9 col4\" >0.1198</td>\n",
       "      <td id=\"T_4f50d_row9_col5\" class=\"data row9 col5\" >0.0822</td>\n",
       "      <td id=\"T_4f50d_row9_col6\" class=\"data row9 col6\" >0.1548</td>\n",
       "    </tr>\n",
       "    <tr>\n",
       "      <th id=\"T_4f50d_level0_row10\" class=\"row_heading level0 row10\" >Mean</th>\n",
       "      <td id=\"T_4f50d_row10_col0\" class=\"data row10 col0\" >0.7810</td>\n",
       "      <td id=\"T_4f50d_row10_col1\" class=\"data row10 col1\" >0.6501</td>\n",
       "      <td id=\"T_4f50d_row10_col2\" class=\"data row10 col2\" >0.0482</td>\n",
       "      <td id=\"T_4f50d_row10_col3\" class=\"data row10 col3\" >0.4910</td>\n",
       "      <td id=\"T_4f50d_row10_col4\" class=\"data row10 col4\" >0.0873</td>\n",
       "      <td id=\"T_4f50d_row10_col5\" class=\"data row10 col5\" >0.0505</td>\n",
       "      <td id=\"T_4f50d_row10_col6\" class=\"data row10 col6\" >0.0968</td>\n",
       "    </tr>\n",
       "    <tr>\n",
       "      <th id=\"T_4f50d_level0_row11\" class=\"row_heading level0 row11\" >Std</th>\n",
       "      <td id=\"T_4f50d_row11_col0\" class=\"data row11 col0\" >0.0039</td>\n",
       "      <td id=\"T_4f50d_row11_col1\" class=\"data row11 col1\" >0.0119</td>\n",
       "      <td id=\"T_4f50d_row11_col2\" class=\"data row11 col2\" >0.0148</td>\n",
       "      <td id=\"T_4f50d_row11_col3\" class=\"data row11 col3\" >0.0861</td>\n",
       "      <td id=\"T_4f50d_row11_col4\" class=\"data row11 col4\" >0.0255</td>\n",
       "      <td id=\"T_4f50d_row11_col5\" class=\"data row11 col5\" >0.0206</td>\n",
       "      <td id=\"T_4f50d_row11_col6\" class=\"data row11 col6\" >0.0338</td>\n",
       "    </tr>\n",
       "  </tbody>\n",
       "</table>\n"
      ],
      "text/plain": [
       "<pandas.io.formats.style.Styler at 0x1e68170de20>"
      ]
     },
     "metadata": {},
     "output_type": "display_data"
    }
   ],
   "source": [
    "import numpy as np\n",
    "tuned_knn = tune_model(knn, custom_grid = {'n_neighbors' : np.arange(0,50,1)})"
   ]
  },
  {
   "cell_type": "code",
   "execution_count": 27,
   "metadata": {},
   "outputs": [
    {
     "name": "stdout",
     "output_type": "stream",
     "text": [
      "KNeighborsClassifier(algorithm='auto', leaf_size=30, metric='minkowski',\n",
      "                     metric_params=None, n_jobs=-1, n_neighbors=42, p=2,\n",
      "                     weights='uniform')\n"
     ]
    }
   ],
   "source": [
    "print(tuned_knn)"
   ]
  },
  {
   "cell_type": "markdown",
   "metadata": {
    "colab_type": "text",
    "id": "KO3zIfs-EQrA"
   },
   "source": [
    "### 9.3 Classificação usando Random Forest"
   ]
  },
  {
   "cell_type": "code",
   "execution_count": 11,
   "metadata": {
    "colab": {
     "base_uri": "https://localhost:8080/",
     "height": 392
    },
    "colab_type": "code",
    "id": "gmaIfnBMEQrE",
    "outputId": "a59cebfa-f81e-477c-f83c-e9443fd80b0f"
   },
   "outputs": [
    {
     "data": {
      "text/html": [
       "<style type=\"text/css\">\n",
       "#T_52e45_row10_col0, #T_52e45_row10_col1, #T_52e45_row10_col2, #T_52e45_row10_col3, #T_52e45_row10_col4, #T_52e45_row10_col5, #T_52e45_row10_col6 {\n",
       "  background: yellow;\n",
       "}\n",
       "</style>\n",
       "<table id=\"T_52e45\">\n",
       "  <thead>\n",
       "    <tr>\n",
       "      <th class=\"blank level0\" >&nbsp;</th>\n",
       "      <th id=\"T_52e45_level0_col0\" class=\"col_heading level0 col0\" >Accuracy</th>\n",
       "      <th id=\"T_52e45_level0_col1\" class=\"col_heading level0 col1\" >AUC</th>\n",
       "      <th id=\"T_52e45_level0_col2\" class=\"col_heading level0 col2\" >Recall</th>\n",
       "      <th id=\"T_52e45_level0_col3\" class=\"col_heading level0 col3\" >Prec.</th>\n",
       "      <th id=\"T_52e45_level0_col4\" class=\"col_heading level0 col4\" >F1</th>\n",
       "      <th id=\"T_52e45_level0_col5\" class=\"col_heading level0 col5\" >Kappa</th>\n",
       "      <th id=\"T_52e45_level0_col6\" class=\"col_heading level0 col6\" >MCC</th>\n",
       "    </tr>\n",
       "    <tr>\n",
       "      <th class=\"index_name level0\" >Fold</th>\n",
       "      <th class=\"blank col0\" >&nbsp;</th>\n",
       "      <th class=\"blank col1\" >&nbsp;</th>\n",
       "      <th class=\"blank col2\" >&nbsp;</th>\n",
       "      <th class=\"blank col3\" >&nbsp;</th>\n",
       "      <th class=\"blank col4\" >&nbsp;</th>\n",
       "      <th class=\"blank col5\" >&nbsp;</th>\n",
       "      <th class=\"blank col6\" >&nbsp;</th>\n",
       "    </tr>\n",
       "  </thead>\n",
       "  <tbody>\n",
       "    <tr>\n",
       "      <th id=\"T_52e45_level0_row0\" class=\"row_heading level0 row0\" >0</th>\n",
       "      <td id=\"T_52e45_row0_col0\" class=\"data row0 col0\" >0.7876</td>\n",
       "      <td id=\"T_52e45_row0_col1\" class=\"data row0 col1\" >0.7692</td>\n",
       "      <td id=\"T_52e45_row0_col2\" class=\"data row0 col2\" >0.5731</td>\n",
       "      <td id=\"T_52e45_row0_col3\" class=\"data row0 col3\" >0.5128</td>\n",
       "      <td id=\"T_52e45_row0_col4\" class=\"data row0 col4\" >0.5413</td>\n",
       "      <td id=\"T_52e45_row0_col5\" class=\"data row0 col5\" >0.4036</td>\n",
       "      <td id=\"T_52e45_row0_col6\" class=\"data row0 col6\" >0.4047</td>\n",
       "    </tr>\n",
       "    <tr>\n",
       "      <th id=\"T_52e45_level0_row1\" class=\"row_heading level0 row1\" >1</th>\n",
       "      <td id=\"T_52e45_row1_col0\" class=\"data row1 col0\" >0.7989</td>\n",
       "      <td id=\"T_52e45_row1_col1\" class=\"data row1 col1\" >0.7687</td>\n",
       "      <td id=\"T_52e45_row1_col2\" class=\"data row1 col2\" >0.5845</td>\n",
       "      <td id=\"T_52e45_row1_col3\" class=\"data row1 col3\" >0.5368</td>\n",
       "      <td id=\"T_52e45_row1_col4\" class=\"data row1 col4\" >0.5597</td>\n",
       "      <td id=\"T_52e45_row1_col5\" class=\"data row1 col5\" >0.4296</td>\n",
       "      <td id=\"T_52e45_row1_col6\" class=\"data row1 col6\" >0.4303</td>\n",
       "    </tr>\n",
       "    <tr>\n",
       "      <th id=\"T_52e45_level0_row2\" class=\"row_heading level0 row2\" >2</th>\n",
       "      <td id=\"T_52e45_row2_col0\" class=\"data row2 col0\" >0.7838</td>\n",
       "      <td id=\"T_52e45_row2_col1\" class=\"data row2 col1\" >0.7664</td>\n",
       "      <td id=\"T_52e45_row2_col2\" class=\"data row2 col2\" >0.5387</td>\n",
       "      <td id=\"T_52e45_row2_col3\" class=\"data row2 col3\" >0.5054</td>\n",
       "      <td id=\"T_52e45_row2_col4\" class=\"data row2 col4\" >0.5215</td>\n",
       "      <td id=\"T_52e45_row2_col5\" class=\"data row2 col5\" >0.3821</td>\n",
       "      <td id=\"T_52e45_row2_col6\" class=\"data row2 col6\" >0.3824</td>\n",
       "    </tr>\n",
       "    <tr>\n",
       "      <th id=\"T_52e45_level0_row3\" class=\"row_heading level0 row3\" >3</th>\n",
       "      <td id=\"T_52e45_row3_col0\" class=\"data row3 col0\" >0.7832</td>\n",
       "      <td id=\"T_52e45_row3_col1\" class=\"data row3 col1\" >0.7792</td>\n",
       "      <td id=\"T_52e45_row3_col2\" class=\"data row3 col2\" >0.5903</td>\n",
       "      <td id=\"T_52e45_row3_col3\" class=\"data row3 col3\" >0.5037</td>\n",
       "      <td id=\"T_52e45_row3_col4\" class=\"data row3 col4\" >0.5435</td>\n",
       "      <td id=\"T_52e45_row3_col5\" class=\"data row3 col5\" >0.4025</td>\n",
       "      <td id=\"T_52e45_row3_col6\" class=\"data row3 col6\" >0.4047</td>\n",
       "    </tr>\n",
       "    <tr>\n",
       "      <th id=\"T_52e45_level0_row4\" class=\"row_heading level0 row4\" >4</th>\n",
       "      <td id=\"T_52e45_row4_col0\" class=\"data row4 col0\" >0.7945</td>\n",
       "      <td id=\"T_52e45_row4_col1\" class=\"data row4 col1\" >0.7902</td>\n",
       "      <td id=\"T_52e45_row4_col2\" class=\"data row4 col2\" >0.5903</td>\n",
       "      <td id=\"T_52e45_row4_col3\" class=\"data row4 col3\" >0.5269</td>\n",
       "      <td id=\"T_52e45_row4_col4\" class=\"data row4 col4\" >0.5568</td>\n",
       "      <td id=\"T_52e45_row4_col5\" class=\"data row4 col5\" >0.4235</td>\n",
       "      <td id=\"T_52e45_row4_col6\" class=\"data row4 col6\" >0.4247</td>\n",
       "    </tr>\n",
       "    <tr>\n",
       "      <th id=\"T_52e45_level0_row5\" class=\"row_heading level0 row5\" >5</th>\n",
       "      <td id=\"T_52e45_row5_col0\" class=\"data row5 col0\" >0.7945</td>\n",
       "      <td id=\"T_52e45_row5_col1\" class=\"data row5 col1\" >0.7803</td>\n",
       "      <td id=\"T_52e45_row5_col2\" class=\"data row5 col2\" >0.5845</td>\n",
       "      <td id=\"T_52e45_row5_col3\" class=\"data row5 col3\" >0.5271</td>\n",
       "      <td id=\"T_52e45_row5_col4\" class=\"data row5 col4\" >0.5543</td>\n",
       "      <td id=\"T_52e45_row5_col5\" class=\"data row5 col5\" >0.4213</td>\n",
       "      <td id=\"T_52e45_row5_col6\" class=\"data row5 col6\" >0.4222</td>\n",
       "    </tr>\n",
       "    <tr>\n",
       "      <th id=\"T_52e45_level0_row6\" class=\"row_heading level0 row6\" >6</th>\n",
       "      <td id=\"T_52e45_row6_col0\" class=\"data row6 col0\" >0.7713</td>\n",
       "      <td id=\"T_52e45_row6_col1\" class=\"data row6 col1\" >0.7701</td>\n",
       "      <td id=\"T_52e45_row6_col2\" class=\"data row6 col2\" >0.6304</td>\n",
       "      <td id=\"T_52e45_row6_col3\" class=\"data row6 col3\" >0.4825</td>\n",
       "      <td id=\"T_52e45_row6_col4\" class=\"data row6 col4\" >0.5466</td>\n",
       "      <td id=\"T_52e45_row6_col5\" class=\"data row6 col5\" >0.3973</td>\n",
       "      <td id=\"T_52e45_row6_col6\" class=\"data row6 col6\" >0.4036</td>\n",
       "    </tr>\n",
       "    <tr>\n",
       "      <th id=\"T_52e45_level0_row7\" class=\"row_heading level0 row7\" >7</th>\n",
       "      <td id=\"T_52e45_row7_col0\" class=\"data row7 col0\" >0.7763</td>\n",
       "      <td id=\"T_52e45_row7_col1\" class=\"data row7 col1\" >0.7464</td>\n",
       "      <td id=\"T_52e45_row7_col2\" class=\"data row7 col2\" >0.5301</td>\n",
       "      <td id=\"T_52e45_row7_col3\" class=\"data row7 col3\" >0.4894</td>\n",
       "      <td id=\"T_52e45_row7_col4\" class=\"data row7 col4\" >0.5089</td>\n",
       "      <td id=\"T_52e45_row7_col5\" class=\"data row7 col5\" >0.3644</td>\n",
       "      <td id=\"T_52e45_row7_col6\" class=\"data row7 col6\" >0.3649</td>\n",
       "    </tr>\n",
       "    <tr>\n",
       "      <th id=\"T_52e45_level0_row8\" class=\"row_heading level0 row8\" >8</th>\n",
       "      <td id=\"T_52e45_row8_col0\" class=\"data row8 col0\" >0.7607</td>\n",
       "      <td id=\"T_52e45_row8_col1\" class=\"data row8 col1\" >0.7394</td>\n",
       "      <td id=\"T_52e45_row8_col2\" class=\"data row8 col2\" >0.5731</td>\n",
       "      <td id=\"T_52e45_row8_col3\" class=\"data row8 col3\" >0.4619</td>\n",
       "      <td id=\"T_52e45_row8_col4\" class=\"data row8 col4\" >0.5115</td>\n",
       "      <td id=\"T_52e45_row8_col5\" class=\"data row8 col5\" >0.3554</td>\n",
       "      <td id=\"T_52e45_row8_col6\" class=\"data row8 col6\" >0.3590</td>\n",
       "    </tr>\n",
       "    <tr>\n",
       "      <th id=\"T_52e45_level0_row9\" class=\"row_heading level0 row9\" >9</th>\n",
       "      <td id=\"T_52e45_row9_col0\" class=\"data row9 col0\" >0.7730</td>\n",
       "      <td id=\"T_52e45_row9_col1\" class=\"data row9 col1\" >0.7526</td>\n",
       "      <td id=\"T_52e45_row9_col2\" class=\"data row9 col2\" >0.5546</td>\n",
       "      <td id=\"T_52e45_row9_col3\" class=\"data row9 col3\" >0.4825</td>\n",
       "      <td id=\"T_52e45_row9_col4\" class=\"data row9 col4\" >0.5160</td>\n",
       "      <td id=\"T_52e45_row9_col5\" class=\"data row9 col5\" >0.3687</td>\n",
       "      <td id=\"T_52e45_row9_col6\" class=\"data row9 col6\" >0.3703</td>\n",
       "    </tr>\n",
       "    <tr>\n",
       "      <th id=\"T_52e45_level0_row10\" class=\"row_heading level0 row10\" >Mean</th>\n",
       "      <td id=\"T_52e45_row10_col0\" class=\"data row10 col0\" >0.7824</td>\n",
       "      <td id=\"T_52e45_row10_col1\" class=\"data row10 col1\" >0.7662</td>\n",
       "      <td id=\"T_52e45_row10_col2\" class=\"data row10 col2\" >0.5749</td>\n",
       "      <td id=\"T_52e45_row10_col3\" class=\"data row10 col3\" >0.5029</td>\n",
       "      <td id=\"T_52e45_row10_col4\" class=\"data row10 col4\" >0.5360</td>\n",
       "      <td id=\"T_52e45_row10_col5\" class=\"data row10 col5\" >0.3949</td>\n",
       "      <td id=\"T_52e45_row10_col6\" class=\"data row10 col6\" >0.3967</td>\n",
       "    </tr>\n",
       "    <tr>\n",
       "      <th id=\"T_52e45_level0_row11\" class=\"row_heading level0 row11\" >Std</th>\n",
       "      <td id=\"T_52e45_row11_col0\" class=\"data row11 col0\" >0.0115</td>\n",
       "      <td id=\"T_52e45_row11_col1\" class=\"data row11 col1\" >0.0151</td>\n",
       "      <td id=\"T_52e45_row11_col2\" class=\"data row11 col2\" >0.0273</td>\n",
       "      <td id=\"T_52e45_row11_col3\" class=\"data row11 col3\" >0.0226</td>\n",
       "      <td id=\"T_52e45_row11_col4\" class=\"data row11 col4\" >0.0186</td>\n",
       "      <td id=\"T_52e45_row11_col5\" class=\"data row11 col5\" >0.0249</td>\n",
       "      <td id=\"T_52e45_row11_col6\" class=\"data row11 col6\" >0.0246</td>\n",
       "    </tr>\n",
       "  </tbody>\n",
       "</table>\n"
      ],
      "text/plain": [
       "<pandas.io.formats.style.Styler at 0x23efd167190>"
      ]
     },
     "metadata": {},
     "output_type": "display_data"
    }
   ],
   "source": [
    "tuned_rf = tune_model(rf, optimize='F1')"
   ]
  },
  {
   "cell_type": "markdown",
   "metadata": {
    "colab_type": "text",
    "id": "IqxEZRi1EQrO"
   },
   "source": [
    "Por padrão, `tune_model` otimiza `Accuracy`, mas isso pode ser alterado usando o parâmetro `optimize`. Por exemplo: `tune_model(dt, optimize = 'AUC')` irá procurar os hiperparâmetros de um classificador de árvore de decisão que resulta no maior `AUC` em vez de `Accuracy`. Para os propósitos deste exemplo, usamos a métrica padrão \"Precisão\" apenas para simplificar. Geralmente, quando o conjunto de dados está desequilibrado (como o conjunto de dados de crédito com o qual estamos trabalhando), \"Precisão\" não é uma boa métrica a ser considerada. A metodologia por trás da seleção da métrica certa para avaliar um classificador está além do escopo deste tutorial, mas se você quiser saber mais sobre isso, você pode __[clique aqui](https://medium.com/@MohammedS/performance-metrics-for-classification-problems-in-machine-learning-part-i-b085d432082b)__ para ler um artigo sobre como escolher a métrica de avaliação correta.\n",
    "\n",
    "Métricas por si só não são os únicos critérios que você deve considerar ao finalizar o melhor modelo para produção. Outros fatores a serem considerados incluem tempo de treinamento, desvio padrão de kfolds, etc. À medida que você avança na série de tutoriais, discutiremos esses fatores em detalhes nos níveis intermediário e avançado. Por enquanto, vamos avançar considerando o Tuned Random Forest Classifier `tuned_rf`, como nosso melhor modelo para o restante deste tutorial."
   ]
  },
  {
   "cell_type": "markdown",
   "metadata": {
    "colab_type": "text",
    "id": "w_P46O0jEQrT"
   },
   "source": [
    "# 10.0 Plot a Model"
   ]
  },
  {
   "cell_type": "markdown",
   "metadata": {
    "colab_type": "text",
    "id": "FGM9GOtjEQrV"
   },
   "source": [
    "Antes da finalização do modelo, a função `plot_model()` pode ser usada para analisar o desempenho em diferentes aspectos, como AUC, Matriz de confusão, limite de decisão, etc. Essa função pega um objeto de modelo treinado e retorna um gráfico com base no conjunto de teste/hold-out.\n",
    "\n",
    "Existem 15 gráficos diferentes disponíveis, por favor veja a docstring `plot_model()` para a lista de gráficos disponíveis."
   ]
  },
  {
   "cell_type": "markdown",
   "metadata": {
    "colab_type": "text",
    "id": "euqkQYJaEQrY"
   },
   "source": [
    "### 10.1 AUC Plot"
   ]
  },
  {
   "cell_type": "code",
   "execution_count": 34,
   "metadata": {
    "colab": {},
    "colab_type": "code",
    "id": "RLbLqvkHEQra",
    "outputId": "fe40b5e3-6375-43e8-e97d-1d487e02eb2d"
   },
   "outputs": [
    {
     "data": {
      "image/png": "[encoded data removed]",
      "text/plain": [
       "<Figure size 576x396 with 1 Axes>"
      ]
     },
     "metadata": {},
     "output_type": "display_data"
    }
   ],
   "source": [
    "plot_model(tuned_rf, plot = 'auc')"
   ]
  },
  {
   "cell_type": "markdown",
   "metadata": {
    "colab_type": "text",
    "id": "bwyoTUDQEQrm"
   },
   "source": [
    "### 10.2 Precision-Recall Plot"
   ]
  },
  {
   "cell_type": "code",
   "execution_count": 35,
   "metadata": {
    "colab": {},
    "colab_type": "code",
    "id": "4IvchQoiEQrr",
    "outputId": "fdff2076-86fc-42f5-beee-f0051ea30dd4"
   },
   "outputs": [
    {
     "data": {
      "image/png": "[encoded data removed]",
      "text/plain": [
       "<Figure size 576x396 with 1 Axes>"
      ]
     },
     "metadata": {},
     "output_type": "display_data"
    }
   ],
   "source": [
    "plot_model(tuned_rf, plot = 'pr')"
   ]
  },
  {
   "cell_type": "markdown",
   "metadata": {
    "colab_type": "text",
    "id": "_r9rwEw7EQrz"
   },
   "source": [
    "### 10.3 Importância das variáveis (Feature Importance) Plot"
   ]
  },
  {
   "cell_type": "code",
   "execution_count": 36,
   "metadata": {
    "colab": {},
    "colab_type": "code",
    "id": "nVScSxJ-EQr2",
    "outputId": "f44f4b08-b749-4d0e-dcc9-d7e3dc6240c8"
   },
   "outputs": [
    {
     "data": {
      "image/png": "[encoded data removed]",
      "text/plain": [
       "<Figure size 800x500 with 1 Axes>"
      ]
     },
     "metadata": {},
     "output_type": "display_data"
    }
   ],
   "source": [
    "plot_model(tuned_rf, plot='feature')"
   ]
  },
  {
   "cell_type": "markdown",
   "metadata": {
    "colab_type": "text",
    "id": "FfWC3NEhEQr9"
   },
   "source": [
    "### 10.4 Matriz de confusão (Confusion matrix)"
   ]
  },
  {
   "cell_type": "code",
   "execution_count": 37,
   "metadata": {
    "colab": {},
    "colab_type": "code",
    "id": "OAB5mes-EQsA",
    "outputId": "bd82130d-2cc3-4b63-df5d-03b7aa54bf52"
   },
   "outputs": [
    {
     "data": {
      "image/png": "[encoded data removed]",
      "text/plain": [
       "<Figure size 576x396 with 1 Axes>"
      ]
     },
     "metadata": {},
     "output_type": "display_data"
    }
   ],
   "source": [
    "plot_model(tuned_rf, plot = 'confusion_matrix')"
   ]
  },
  {
   "cell_type": "markdown",
   "metadata": {
    "colab_type": "text",
    "id": "deClKJrbEQsJ"
   },
   "source": [
    "*Another* way to analyze the performance of models is to use the `evaluate_model()` function which displays a user interface for all of the available plots for a given model. It internally uses the `plot_model()` function. "
   ]
  },
  {
   "cell_type": "code",
   "execution_count": 12,
   "metadata": {
    "colab": {
     "base_uri": "https://localhost:8080/",
     "height": 436,
     "referenced_widgets": [
      "42d5400d235d40b78190016ef0dabe11",
      "41031579127f4a53b58957e601465083",
      "12bf8b3c6ae8444a900474912589fdf1",
      "9bb3600d38c04691b444ff375ad5e3f5",
      "8886001bc7c1463ba58a8453f5c55073",
      "0a06fb091bd94ce6b6ab892e2c6faadf",
      "3cc1e83b91f34b289c7d52003f20a97a",
      "8d709ec9ec484944b1f9773748857f84",
      "8399e21b17634116861a5abaa9c0ccf7",
      "d5b6fce1763b4b54898ff3397b0f5bb0",
      "57b94ac505d142769b79de2f1e5c1166",
      "2a81017413ca4fe789c2272a5831a069",
      "02771b4dc3284414ab05df1906f4556b",
      "9e338844e75b4e17be8483529f5f38fd",
      "22588a12c0db4067982e62ebbe7e6930"
     ]
    },
    "colab_type": "code",
    "id": "OcLV1Ln6EQsN",
    "outputId": "7b5b8b4e-8d4a-4371-9a4f-cabb0a96265a"
   },
   "outputs": [
    {
     "data": {
      "application/vnd.jupyter.widget-view+json": {
       "model_id": "c3a50ae7f7ab4352b1d8b55b08ae9e04",
       "version_major": 2,
       "version_minor": 0
      },
      "text/plain": [
       "interactive(children=(ToggleButtons(description='Plot Type:', icons=('',), options=(('Hyperparameters', 'param…"
      ]
     },
     "metadata": {},
     "output_type": "display_data"
    }
   ],
   "source": [
    "evaluate_model(tuned_rf)"
   ]
  },
  {
   "cell_type": "markdown",
   "metadata": {
    "colab_type": "text",
    "id": "RX5pYUJJEQsV"
   },
   "source": [
    "# 11.0 Predict na amostra de test / hold-out"
   ]
  },
  {
   "cell_type": "markdown",
   "metadata": {
    "colab_type": "text",
    "id": "mFSvRYiaEQsd"
   },
   "source": [
    "Antes de finalizar o modelo, é aconselhável realizar uma verificação final prevendo o conjunto de teste/hold-out e revisando as métricas de avaliação. Se você observar a grade de informações na Seção 6 acima, verá que 30% (6.841 amostras) dos dados foram separados como amostra de teste/resistência. Todas as métricas de avaliação que vimos acima são resultados de validação cruzada com base apenas no conjunto de treinamento (70%). Agora, usando nosso modelo final treinado armazenado na variável `tuned_rf`, faremos previsões em relação à amostra de retenção e avaliaremos as métricas para ver se elas são materialmente diferentes dos resultados do CV."
   ]
  },
  {
   "cell_type": "code",
   "execution_count": 13,
   "metadata": {
    "colab": {},
    "colab_type": "code",
    "id": "nwaZk6oTEQsi",
    "outputId": "d30c8533-d347-4fa6-f18e-5b2abc937bec"
   },
   "outputs": [
    {
     "data": {
      "text/html": [
       "<style type=\"text/css\">\n",
       "</style>\n",
       "<table id=\"T_a10f3\">\n",
       "  <thead>\n",
       "    <tr>\n",
       "      <th class=\"blank level0\" >&nbsp;</th>\n",
       "      <th id=\"T_a10f3_level0_col0\" class=\"col_heading level0 col0\" >Model</th>\n",
       "      <th id=\"T_a10f3_level0_col1\" class=\"col_heading level0 col1\" >Accuracy</th>\n",
       "      <th id=\"T_a10f3_level0_col2\" class=\"col_heading level0 col2\" >AUC</th>\n",
       "      <th id=\"T_a10f3_level0_col3\" class=\"col_heading level0 col3\" >Recall</th>\n",
       "      <th id=\"T_a10f3_level0_col4\" class=\"col_heading level0 col4\" >Prec.</th>\n",
       "      <th id=\"T_a10f3_level0_col5\" class=\"col_heading level0 col5\" >F1</th>\n",
       "      <th id=\"T_a10f3_level0_col6\" class=\"col_heading level0 col6\" >Kappa</th>\n",
       "      <th id=\"T_a10f3_level0_col7\" class=\"col_heading level0 col7\" >MCC</th>\n",
       "    </tr>\n",
       "  </thead>\n",
       "  <tbody>\n",
       "    <tr>\n",
       "      <th id=\"T_a10f3_level0_row0\" class=\"row_heading level0 row0\" >0</th>\n",
       "      <td id=\"T_a10f3_row0_col0\" class=\"data row0 col0\" >Random Forest Classifier</td>\n",
       "      <td id=\"T_a10f3_row0_col1\" class=\"data row0 col1\" >0.7835</td>\n",
       "      <td id=\"T_a10f3_row0_col2\" class=\"data row0 col2\" >0.7694</td>\n",
       "      <td id=\"T_a10f3_row0_col3\" class=\"data row0 col3\" >0.5695</td>\n",
       "      <td id=\"T_a10f3_row0_col4\" class=\"data row0 col4\" >0.5215</td>\n",
       "      <td id=\"T_a10f3_row0_col5\" class=\"data row0 col5\" >0.5444</td>\n",
       "      <td id=\"T_a10f3_row0_col6\" class=\"data row0 col6\" >0.4028</td>\n",
       "      <td id=\"T_a10f3_row0_col7\" class=\"data row0 col7\" >0.4035</td>\n",
       "    </tr>\n",
       "  </tbody>\n",
       "</table>\n"
      ],
      "text/plain": [
       "<pandas.io.formats.style.Styler at 0x23efab04cd0>"
      ]
     },
     "metadata": {},
     "output_type": "display_data"
    }
   ],
   "source": [
    "predict_model(tuned_rf);"
   ]
  },
  {
   "cell_type": "markdown",
   "metadata": {
    "colab_type": "text",
    "id": "E-fHsX2AEQsx"
   },
   "source": [
    "A precisão no conjunto de teste/hold-out é **`0.7835`** comparada a **`0.7824`** alcançada nos resultados do CV `tuned_rf` (na seção 9.3 acima). Esta não é uma diferença significativa. Se houver uma grande variação entre os resultados do teste/hold-out e do CV, isso normalmente indicaria um ajuste excessivo, mas também pode ser devido a vários outros fatores e exigiria investigação adicional. Nesse caso, avançaremos com a finalização do modelo e a previsão de dados não vistos (os 5% que separamos no início e nunca expusemos ao PyCaret).\n",
    "\n",
    "(DICA: É sempre bom observar o desvio padrão dos resultados do CV ao usar `create_model()`.)"
   ]
  },
  {
   "cell_type": "markdown",
   "metadata": {
    "colab_type": "text",
    "id": "r79BGjIfEQs1"
   },
   "source": [
    "# 12.0 Finalizando o modelo para deploy"
   ]
  },
  {
   "cell_type": "markdown",
   "metadata": {
    "colab_type": "text",
    "id": "B-6xJ9kQEQs7"
   },
   "source": [
    "A finalização do modelo é a última etapa do experimento. Um fluxo de trabalho normal de aprendizado de máquina no PyCaret começa com `setup()`, seguido pela comparação de todos os modelos usando `compare_models()` e listando alguns modelos candidatos (com base na métrica de interesse) para executar várias técnicas de modelagem, como ajuste de hiperparâmetros, ensembling, empilhamento, etc. Esse fluxo de trabalho acabará por levá-lo ao melhor modelo para uso em fazer previsões sobre dados novos e não vistos. A função `finalize_model()` ajusta o modelo ao conjunto de dados completo, incluindo a amostra de teste/hold-out (30% neste caso). O objetivo dessa função é treinar o modelo no conjunto de dados completo antes de ser implantado na produção."
   ]
  },
  {
   "cell_type": "code",
   "execution_count": 14,
   "metadata": {
    "colab": {},
    "colab_type": "code",
    "id": "_--tO4KGEQs-"
   },
   "outputs": [],
   "source": [
    "final_rf = finalize_model(tuned_rf)"
   ]
  },
  {
   "cell_type": "code",
   "execution_count": 15,
   "metadata": {
    "colab": {
     "base_uri": "https://localhost:8080/",
     "height": 147
    },
    "colab_type": "code",
    "id": "U9W6kXsSEQtQ",
    "outputId": "794b24a4-9c95-4730-eddd-f82e4925b866"
   },
   "outputs": [
    {
     "name": "stdout",
     "output_type": "stream",
     "text": [
      "RandomForestClassifier(bootstrap=True, ccp_alpha=0.0,\n",
      "                       class_weight='balanced_subsample', criterion='entropy',\n",
      "                       max_depth=4, max_features='log2', max_leaf_nodes=None,\n",
      "                       max_samples=None, min_impurity_decrease=0.0002,\n",
      "                       min_impurity_split=None, min_samples_leaf=5,\n",
      "                       min_samples_split=9, min_weight_fraction_leaf=0.0,\n",
      "                       n_estimators=130, n_jobs=-1, oob_score=False,\n",
      "                       random_state=123, verbose=0, warm_start=False)\n"
     ]
    }
   ],
   "source": [
    "#Parâmetros finais do modelo Random Forest para deploy\n",
    "print(final_rf)"
   ]
  },
  {
   "cell_type": "markdown",
   "metadata": {
    "colab_type": "text",
    "id": "kgdOjxypEQtd"
   },
   "source": [
    "**Cuidado:** mais uma coisa para prestar atenção. Depois que o modelo é finalizado usando `finalize_model()`, todo o conjunto de dados, incluindo o conjunto de teste/hold-out, é usado para treinamento. Como tal, se o modelo for usado para previsões no conjunto de retenção após o uso de `finalize_model()`, as informações impressas poderá confundir, pois você está predizendo nos mesmos dados que foram usados para modelagem (treino). Para demonstrar apenas este ponto, usaremos `final_rf` em `predict_model()` para comparar a tabela de informações com a acima na seção 11."
   ]
  },
  {
   "cell_type": "code",
   "execution_count": 43,
   "metadata": {
    "colab": {},
    "colab_type": "code",
    "id": "NJDk3I-EEQtg",
    "outputId": "4d75663a-e86f-4826-c8e4-c9aa722648df"
   },
   "outputs": [
    {
     "data": {
      "text/html": [
       "<style type=\"text/css\">\n",
       "</style>\n",
       "<table id=\"T_230d1\">\n",
       "  <thead>\n",
       "    <tr>\n",
       "      <th class=\"blank level0\" >&nbsp;</th>\n",
       "      <th id=\"T_230d1_level0_col0\" class=\"col_heading level0 col0\" >Model</th>\n",
       "      <th id=\"T_230d1_level0_col1\" class=\"col_heading level0 col1\" >Accuracy</th>\n",
       "      <th id=\"T_230d1_level0_col2\" class=\"col_heading level0 col2\" >AUC</th>\n",
       "      <th id=\"T_230d1_level0_col3\" class=\"col_heading level0 col3\" >Recall</th>\n",
       "      <th id=\"T_230d1_level0_col4\" class=\"col_heading level0 col4\" >Prec.</th>\n",
       "      <th id=\"T_230d1_level0_col5\" class=\"col_heading level0 col5\" >F1</th>\n",
       "      <th id=\"T_230d1_level0_col6\" class=\"col_heading level0 col6\" >Kappa</th>\n",
       "      <th id=\"T_230d1_level0_col7\" class=\"col_heading level0 col7\" >MCC</th>\n",
       "    </tr>\n",
       "  </thead>\n",
       "  <tbody>\n",
       "    <tr>\n",
       "      <th id=\"T_230d1_level0_row0\" class=\"row_heading level0 row0\" >0</th>\n",
       "      <td id=\"T_230d1_row0_col0\" class=\"data row0 col0\" >Random Forest Classifier</td>\n",
       "      <td id=\"T_230d1_row0_col1\" class=\"data row0 col1\" >0.7781</td>\n",
       "      <td id=\"T_230d1_row0_col2\" class=\"data row0 col2\" >0.7713</td>\n",
       "      <td id=\"T_230d1_row0_col3\" class=\"data row0 col3\" >0.5978</td>\n",
       "      <td id=\"T_230d1_row0_col4\" class=\"data row0 col4\" >0.5099</td>\n",
       "      <td id=\"T_230d1_row0_col5\" class=\"data row0 col5\" >0.5504</td>\n",
       "      <td id=\"T_230d1_row0_col6\" class=\"data row0 col6\" >0.4043</td>\n",
       "      <td id=\"T_230d1_row0_col7\" class=\"data row0 col7\" >0.4065</td>\n",
       "    </tr>\n",
       "  </tbody>\n",
       "</table>\n"
      ],
      "text/plain": [
       "<pandas.io.formats.style.Styler at 0x1e686939af0>"
      ]
     },
     "metadata": {},
     "output_type": "display_data"
    }
   ],
   "source": [
    "predict_model(final_rf);"
   ]
  },
  {
   "cell_type": "markdown",
   "metadata": {
    "colab_type": "text",
    "id": "V77JC5JVEQtp"
   },
   "source": [
    "Observe como o AUC em `final_rf` aumentou para **`0.7713`** de **`0.7694`**, mesmo que o modelo seja o mesmo. Isso ocorre porque a variável `final_rf` foi treinada no conjunto de dados completo, incluindo o conjunto de teste/hold-out."
   ]
  },
  {
   "cell_type": "markdown",
   "metadata": {
    "colab_type": "text",
    "id": "hUzc6tXNEQtr"
   },
   "source": [
    "# 13.0 Predizendo o conjunto de dados que não foi usado no treino"
   ]
  },
  {
   "cell_type": "markdown",
   "metadata": {
    "colab_type": "text",
    "id": "dx5vXjChEQtt"
   },
   "source": [
    "A função `predict_model()` também é usada para predizer no conjunto de dados não visto. A única diferença da seção 11 acima é que desta vez passaremos o parâmetro `data_unseen`. `data_unseen` é a variável criada no início do tutorial e contém 5% (1200 amostras) do conjunto de dados original que nunca foi exposto ao PyCaret. (veja a seção 5 para explicação)"
   ]
  },
  {
   "cell_type": "code",
   "execution_count": 44,
   "metadata": {
    "colab": {
     "base_uri": "https://localhost:8080/",
     "height": 211
    },
    "colab_type": "code",
    "id": "0y5KWLC6EQtx",
    "outputId": "30771f87-7847-43ce-e984-9963cff7d043"
   },
   "outputs": [
    {
     "data": {
      "text/html": [
       "<style type=\"text/css\">\n",
       "</style>\n",
       "<table id=\"T_43896\">\n",
       "  <thead>\n",
       "    <tr>\n",
       "      <th class=\"blank level0\" >&nbsp;</th>\n",
       "      <th id=\"T_43896_level0_col0\" class=\"col_heading level0 col0\" >Model</th>\n",
       "      <th id=\"T_43896_level0_col1\" class=\"col_heading level0 col1\" >Accuracy</th>\n",
       "      <th id=\"T_43896_level0_col2\" class=\"col_heading level0 col2\" >AUC</th>\n",
       "      <th id=\"T_43896_level0_col3\" class=\"col_heading level0 col3\" >Recall</th>\n",
       "      <th id=\"T_43896_level0_col4\" class=\"col_heading level0 col4\" >Prec.</th>\n",
       "      <th id=\"T_43896_level0_col5\" class=\"col_heading level0 col5\" >F1</th>\n",
       "      <th id=\"T_43896_level0_col6\" class=\"col_heading level0 col6\" >Kappa</th>\n",
       "      <th id=\"T_43896_level0_col7\" class=\"col_heading level0 col7\" >MCC</th>\n",
       "    </tr>\n",
       "  </thead>\n",
       "  <tbody>\n",
       "    <tr>\n",
       "      <th id=\"T_43896_level0_row0\" class=\"row_heading level0 row0\" >0</th>\n",
       "      <td id=\"T_43896_row0_col0\" class=\"data row0 col0\" >Random Forest Classifier</td>\n",
       "      <td id=\"T_43896_row0_col1\" class=\"data row0 col1\" >0.7842</td>\n",
       "      <td id=\"T_43896_row0_col2\" class=\"data row0 col2\" >0.7745</td>\n",
       "      <td id=\"T_43896_row0_col3\" class=\"data row0 col3\" >0.6122</td>\n",
       "      <td id=\"T_43896_row0_col4\" class=\"data row0 col4\" >0.5063</td>\n",
       "      <td id=\"T_43896_row0_col5\" class=\"data row0 col5\" >0.5542</td>\n",
       "      <td id=\"T_43896_row0_col6\" class=\"data row0 col6\" >0.4135</td>\n",
       "      <td id=\"T_43896_row0_col7\" class=\"data row0 col7\" >0.4168</td>\n",
       "    </tr>\n",
       "  </tbody>\n",
       "</table>\n"
      ],
      "text/plain": [
       "<pandas.io.formats.style.Styler at 0x1e6f9da0bb0>"
      ]
     },
     "metadata": {},
     "output_type": "display_data"
    },
    {
     "data": {
      "text/html": [
       "<div>\n",
       "<style scoped>\n",
       "    .dataframe tbody tr th:only-of-type {\n",
       "        vertical-align: middle;\n",
       "    }\n",
       "\n",
       "    .dataframe tbody tr th {\n",
       "        vertical-align: top;\n",
       "    }\n",
       "\n",
       "    .dataframe thead th {\n",
       "        text-align: right;\n",
       "    }\n",
       "</style>\n",
       "<table border=\"1\" class=\"dataframe\">\n",
       "  <thead>\n",
       "    <tr style=\"text-align: right;\">\n",
       "      <th></th>\n",
       "      <th>LIMIT_BAL</th>\n",
       "      <th>SEX</th>\n",
       "      <th>EDUCATION</th>\n",
       "      <th>MARRIAGE</th>\n",
       "      <th>AGE</th>\n",
       "      <th>PAY_1</th>\n",
       "      <th>PAY_2</th>\n",
       "      <th>PAY_3</th>\n",
       "      <th>PAY_4</th>\n",
       "      <th>PAY_5</th>\n",
       "      <th>...</th>\n",
       "      <th>BILL_AMT6</th>\n",
       "      <th>PAY_AMT1</th>\n",
       "      <th>PAY_AMT2</th>\n",
       "      <th>PAY_AMT3</th>\n",
       "      <th>PAY_AMT4</th>\n",
       "      <th>PAY_AMT5</th>\n",
       "      <th>PAY_AMT6</th>\n",
       "      <th>default</th>\n",
       "      <th>Label</th>\n",
       "      <th>Score</th>\n",
       "    </tr>\n",
       "  </thead>\n",
       "  <tbody>\n",
       "    <tr>\n",
       "      <th>0</th>\n",
       "      <td>100000</td>\n",
       "      <td>2</td>\n",
       "      <td>2</td>\n",
       "      <td>2</td>\n",
       "      <td>23</td>\n",
       "      <td>0</td>\n",
       "      <td>-1</td>\n",
       "      <td>-1</td>\n",
       "      <td>0</td>\n",
       "      <td>0</td>\n",
       "      <td>...</td>\n",
       "      <td>567.0</td>\n",
       "      <td>380.0</td>\n",
       "      <td>601.0</td>\n",
       "      <td>0.0</td>\n",
       "      <td>581.0</td>\n",
       "      <td>1687.0</td>\n",
       "      <td>1542.0</td>\n",
       "      <td>0</td>\n",
       "      <td>0</td>\n",
       "      <td>0.5441</td>\n",
       "    </tr>\n",
       "    <tr>\n",
       "      <th>1</th>\n",
       "      <td>380000</td>\n",
       "      <td>1</td>\n",
       "      <td>2</td>\n",
       "      <td>2</td>\n",
       "      <td>32</td>\n",
       "      <td>-1</td>\n",
       "      <td>-1</td>\n",
       "      <td>-1</td>\n",
       "      <td>-1</td>\n",
       "      <td>-1</td>\n",
       "      <td>...</td>\n",
       "      <td>11873.0</td>\n",
       "      <td>21540.0</td>\n",
       "      <td>15138.0</td>\n",
       "      <td>24677.0</td>\n",
       "      <td>11851.0</td>\n",
       "      <td>11875.0</td>\n",
       "      <td>8251.0</td>\n",
       "      <td>0</td>\n",
       "      <td>0</td>\n",
       "      <td>0.6662</td>\n",
       "    </tr>\n",
       "    <tr>\n",
       "      <th>2</th>\n",
       "      <td>200000</td>\n",
       "      <td>2</td>\n",
       "      <td>2</td>\n",
       "      <td>1</td>\n",
       "      <td>32</td>\n",
       "      <td>-1</td>\n",
       "      <td>-1</td>\n",
       "      <td>-1</td>\n",
       "      <td>-1</td>\n",
       "      <td>2</td>\n",
       "      <td>...</td>\n",
       "      <td>3151.0</td>\n",
       "      <td>5818.0</td>\n",
       "      <td>15.0</td>\n",
       "      <td>9102.0</td>\n",
       "      <td>17.0</td>\n",
       "      <td>3165.0</td>\n",
       "      <td>1395.0</td>\n",
       "      <td>0</td>\n",
       "      <td>0</td>\n",
       "      <td>0.5524</td>\n",
       "    </tr>\n",
       "    <tr>\n",
       "      <th>3</th>\n",
       "      <td>200000</td>\n",
       "      <td>1</td>\n",
       "      <td>1</td>\n",
       "      <td>1</td>\n",
       "      <td>53</td>\n",
       "      <td>2</td>\n",
       "      <td>2</td>\n",
       "      <td>2</td>\n",
       "      <td>2</td>\n",
       "      <td>2</td>\n",
       "      <td>...</td>\n",
       "      <td>149531.0</td>\n",
       "      <td>6300.0</td>\n",
       "      <td>5500.0</td>\n",
       "      <td>5500.0</td>\n",
       "      <td>5500.0</td>\n",
       "      <td>5000.0</td>\n",
       "      <td>5000.0</td>\n",
       "      <td>1</td>\n",
       "      <td>1</td>\n",
       "      <td>0.8320</td>\n",
       "    </tr>\n",
       "    <tr>\n",
       "      <th>4</th>\n",
       "      <td>240000</td>\n",
       "      <td>1</td>\n",
       "      <td>1</td>\n",
       "      <td>2</td>\n",
       "      <td>41</td>\n",
       "      <td>1</td>\n",
       "      <td>-1</td>\n",
       "      <td>-1</td>\n",
       "      <td>0</td>\n",
       "      <td>0</td>\n",
       "      <td>...</td>\n",
       "      <td>1737.0</td>\n",
       "      <td>2622.0</td>\n",
       "      <td>3301.0</td>\n",
       "      <td>0.0</td>\n",
       "      <td>360.0</td>\n",
       "      <td>1737.0</td>\n",
       "      <td>924.0</td>\n",
       "      <td>0</td>\n",
       "      <td>0</td>\n",
       "      <td>0.5353</td>\n",
       "    </tr>\n",
       "  </tbody>\n",
       "</table>\n",
       "<p>5 rows × 26 columns</p>\n",
       "</div>"
      ],
      "text/plain": [
       "   LIMIT_BAL  SEX  EDUCATION  MARRIAGE  AGE  PAY_1  PAY_2  PAY_3  PAY_4  \\\n",
       "0     100000    2          2         2   23      0     -1     -1      0   \n",
       "1     380000    1          2         2   32     -1     -1     -1     -1   \n",
       "2     200000    2          2         1   32     -1     -1     -1     -1   \n",
       "3     200000    1          1         1   53      2      2      2      2   \n",
       "4     240000    1          1         2   41      1     -1     -1      0   \n",
       "\n",
       "   PAY_5  ...  BILL_AMT6  PAY_AMT1  PAY_AMT2  PAY_AMT3  PAY_AMT4  PAY_AMT5  \\\n",
       "0      0  ...      567.0     380.0     601.0       0.0     581.0    1687.0   \n",
       "1     -1  ...    11873.0   21540.0   15138.0   24677.0   11851.0   11875.0   \n",
       "2      2  ...     3151.0    5818.0      15.0    9102.0      17.0    3165.0   \n",
       "3      2  ...   149531.0    6300.0    5500.0    5500.0    5500.0    5000.0   \n",
       "4      0  ...     1737.0    2622.0    3301.0       0.0     360.0    1737.0   \n",
       "\n",
       "   PAY_AMT6  default  Label   Score  \n",
       "0    1542.0        0      0  0.5441  \n",
       "1    8251.0        0      0  0.6662  \n",
       "2    1395.0        0      0  0.5524  \n",
       "3    5000.0        1      1  0.8320  \n",
       "4     924.0        0      0  0.5353  \n",
       "\n",
       "[5 rows x 26 columns]"
      ]
     },
     "execution_count": 44,
     "metadata": {},
     "output_type": "execute_result"
    }
   ],
   "source": [
    "unseen_predictions = predict_model(final_rf, data=data_unseen)\n",
    "unseen_predictions.head()"
   ]
  },
  {
   "cell_type": "markdown",
   "metadata": {
    "colab_type": "text",
    "id": "oPYmVpugEQt5"
   },
   "source": [
    "As colunas `Label` e `Score` são adicionadas ao conjunto `data_unseen`. Rótulo é a previsão e pontuação é a probabilidade da previsão. Observe que os resultados previstos são concatenados ao conjunto de dados original enquanto todas as transformações são executadas automaticamente em segundo plano. Você também pode verificar as métricas sobre isso, pois tem a coluna de destino real `default` disponível. Para fazer isso, usaremos o módulo `pycaret.utils`. Veja exemplo abaixo:"
   ]
  },
  {
   "cell_type": "code",
   "execution_count": 45,
   "metadata": {},
   "outputs": [
    {
     "data": {
      "text/plain": [
       "0.7842"
      ]
     },
     "execution_count": 45,
     "metadata": {},
     "output_type": "execute_result"
    }
   ],
   "source": [
    "from pycaret.utils import check_metric\n",
    "check_metric(unseen_predictions['default'], unseen_predictions['Label'], metric = 'Accuracy')"
   ]
  },
  {
   "cell_type": "markdown",
   "metadata": {
    "colab_type": "text",
    "id": "L__po3sUEQt7"
   },
   "source": [
    "# 14.0 Salvando o modelo final"
   ]
  },
  {
   "cell_type": "markdown",
   "metadata": {
    "colab_type": "text",
    "id": "1sQPT7jrEQt-"
   },
   "source": [
    "Agora terminamos o experimento finalizando o modelo `tuned_rf` que agora está armazenado na variável `final_rf`. Também usamos o modelo armazenado em `final_rf` para prever `data_unseen`. Isso nos leva ao final de nosso experimento, mas uma pergunta ainda deve ser feita: o que acontece quando você tem mais dados novos para predizer? Você tem que passar por todo o experimento novamente? A resposta é não, a função interna do PyCaret `save_model()` permite que você salve o modelo junto com todo o pipeline de transformação para uso posterior."
   ]
  },
  {
   "cell_type": "code",
   "execution_count": 46,
   "metadata": {
    "colab": {},
    "colab_type": "code",
    "id": "ln1YWIXTEQuA",
    "outputId": "d3cb0652-f72e-44e8-9455-824b12740bff"
   },
   "outputs": [
    {
     "name": "stdout",
     "output_type": "stream",
     "text": [
      "Transformation Pipeline and Model Successfully Saved\n"
     ]
    },
    {
     "data": {
      "text/plain": [
       "(Pipeline(memory=None,\n",
       "          steps=[('dtypes',\n",
       "                  DataTypes_Auto_infer(categorical_features=[],\n",
       "                                       display_types=True, features_todrop=[],\n",
       "                                       id_columns=[],\n",
       "                                       ml_usecase='classification',\n",
       "                                       numerical_features=[], target='default',\n",
       "                                       time_features=[])),\n",
       "                 ('imputer',\n",
       "                  Simple_Imputer(categorical_strategy='not_available',\n",
       "                                 fill_value_categorical=None,\n",
       "                                 fill_value_numerical=None,\n",
       "                                 numeric_stra...\n",
       "                  RandomForestClassifier(bootstrap=True, ccp_alpha=0.0,\n",
       "                                         class_weight='balanced_subsample',\n",
       "                                         criterion='entropy', max_depth=4,\n",
       "                                         max_features='log2',\n",
       "                                         max_leaf_nodes=None, max_samples=None,\n",
       "                                         min_impurity_decrease=0.0002,\n",
       "                                         min_impurity_split=None,\n",
       "                                         min_samples_leaf=5, min_samples_split=9,\n",
       "                                         min_weight_fraction_leaf=0.0,\n",
       "                                         n_estimators=130, n_jobs=-1,\n",
       "                                         oob_score=False, random_state=123,\n",
       "                                         verbose=0, warm_start=False)]],\n",
       "          verbose=False),\n",
       " 'Final RF Model 01Jun2022.pkl')"
      ]
     },
     "execution_count": 46,
     "metadata": {},
     "output_type": "execute_result"
    }
   ],
   "source": [
    "save_model(final_rf,'Final RF Model 01Jun2022')"
   ]
  },
  {
   "cell_type": "markdown",
   "metadata": {
    "colab_type": "text",
    "id": "WE6f48AYEQuR"
   },
   "source": [
    "(DICA: É sempre bom usar data no nome do arquivo ao salvar modelos, é bom para controle de versão.)"
   ]
  },
  {
   "cell_type": "markdown",
   "metadata": {
    "colab_type": "text",
    "id": "Z8OBesfkEQuU"
   },
   "source": [
    "# 15.0 Carregando o modelo salvo"
   ]
  },
  {
   "cell_type": "markdown",
   "metadata": {
    "colab_type": "text",
    "id": "V2K_WLaaEQuW"
   },
   "source": [
    "Para carregar um modelo salvo em uma data futura no mesmo ambiente ou em um ambiente alternativo, usaríamos a função `load_model()` do PyCaret e, em seguida, aplicaríamos facilmente o modelo salvo em novos dados não vistos para previsão."
   ]
  },
  {
   "cell_type": "code",
   "execution_count": 47,
   "metadata": {
    "colab": {},
    "colab_type": "code",
    "id": "Siw_2EIUEQub",
    "outputId": "5da8b7c9-01f7-469c-f0c9-b19c8ce11bcc"
   },
   "outputs": [
    {
     "name": "stdout",
     "output_type": "stream",
     "text": [
      "Transformation Pipeline and Model Successfully Loaded\n"
     ]
    }
   ],
   "source": [
    "saved_final_rf = load_model('Final RF Model 01Jun2022')"
   ]
  },
  {
   "cell_type": "markdown",
   "metadata": {
    "colab_type": "text",
    "id": "1zyi6-Q-EQuq"
   },
   "source": [
    "Uma vez que o modelo é carregado no ambiente, você pode simplesmente usá-lo para prever quaisquer novos dados usando a mesma função `predict_model()`. Abaixo, aplicamos o modelo carregado para prever o mesmo `data_unseen` que usamos na seção 13 acima."
   ]
  },
  {
   "cell_type": "code",
   "execution_count": 48,
   "metadata": {
    "colab": {},
    "colab_type": "code",
    "id": "HMPO1ka9EQut"
   },
   "outputs": [
    {
     "data": {
      "text/html": [
       "<style type=\"text/css\">\n",
       "</style>\n",
       "<table id=\"T_b97a8\">\n",
       "  <thead>\n",
       "    <tr>\n",
       "      <th class=\"blank level0\" >&nbsp;</th>\n",
       "      <th id=\"T_b97a8_level0_col0\" class=\"col_heading level0 col0\" >Model</th>\n",
       "      <th id=\"T_b97a8_level0_col1\" class=\"col_heading level0 col1\" >Accuracy</th>\n",
       "      <th id=\"T_b97a8_level0_col2\" class=\"col_heading level0 col2\" >AUC</th>\n",
       "      <th id=\"T_b97a8_level0_col3\" class=\"col_heading level0 col3\" >Recall</th>\n",
       "      <th id=\"T_b97a8_level0_col4\" class=\"col_heading level0 col4\" >Prec.</th>\n",
       "      <th id=\"T_b97a8_level0_col5\" class=\"col_heading level0 col5\" >F1</th>\n",
       "      <th id=\"T_b97a8_level0_col6\" class=\"col_heading level0 col6\" >Kappa</th>\n",
       "      <th id=\"T_b97a8_level0_col7\" class=\"col_heading level0 col7\" >MCC</th>\n",
       "    </tr>\n",
       "  </thead>\n",
       "  <tbody>\n",
       "    <tr>\n",
       "      <th id=\"T_b97a8_level0_row0\" class=\"row_heading level0 row0\" >0</th>\n",
       "      <td id=\"T_b97a8_row0_col0\" class=\"data row0 col0\" >Random Forest Classifier</td>\n",
       "      <td id=\"T_b97a8_row0_col1\" class=\"data row0 col1\" >0.7842</td>\n",
       "      <td id=\"T_b97a8_row0_col2\" class=\"data row0 col2\" >0.7745</td>\n",
       "      <td id=\"T_b97a8_row0_col3\" class=\"data row0 col3\" >0.6122</td>\n",
       "      <td id=\"T_b97a8_row0_col4\" class=\"data row0 col4\" >0.5063</td>\n",
       "      <td id=\"T_b97a8_row0_col5\" class=\"data row0 col5\" >0.5542</td>\n",
       "      <td id=\"T_b97a8_row0_col6\" class=\"data row0 col6\" >0.4135</td>\n",
       "      <td id=\"T_b97a8_row0_col7\" class=\"data row0 col7\" >0.4168</td>\n",
       "    </tr>\n",
       "  </tbody>\n",
       "</table>\n"
      ],
      "text/plain": [
       "<pandas.io.formats.style.Styler at 0x1e683adae80>"
      ]
     },
     "metadata": {},
     "output_type": "display_data"
    }
   ],
   "source": [
    "new_prediction = predict_model(saved_final_rf, data=data_unseen)"
   ]
  },
  {
   "cell_type": "code",
   "execution_count": 49,
   "metadata": {
    "colab": {},
    "colab_type": "code",
    "id": "7wyDQQSzEQu8",
    "outputId": "23065436-42e3-4441-ed58-a8863f8971f9"
   },
   "outputs": [
    {
     "data": {
      "text/html": [
       "<div>\n",
       "<style scoped>\n",
       "    .dataframe tbody tr th:only-of-type {\n",
       "        vertical-align: middle;\n",
       "    }\n",
       "\n",
       "    .dataframe tbody tr th {\n",
       "        vertical-align: top;\n",
       "    }\n",
       "\n",
       "    .dataframe thead th {\n",
       "        text-align: right;\n",
       "    }\n",
       "</style>\n",
       "<table border=\"1\" class=\"dataframe\">\n",
       "  <thead>\n",
       "    <tr style=\"text-align: right;\">\n",
       "      <th></th>\n",
       "      <th>LIMIT_BAL</th>\n",
       "      <th>SEX</th>\n",
       "      <th>EDUCATION</th>\n",
       "      <th>MARRIAGE</th>\n",
       "      <th>AGE</th>\n",
       "      <th>PAY_1</th>\n",
       "      <th>PAY_2</th>\n",
       "      <th>PAY_3</th>\n",
       "      <th>PAY_4</th>\n",
       "      <th>PAY_5</th>\n",
       "      <th>...</th>\n",
       "      <th>BILL_AMT6</th>\n",
       "      <th>PAY_AMT1</th>\n",
       "      <th>PAY_AMT2</th>\n",
       "      <th>PAY_AMT3</th>\n",
       "      <th>PAY_AMT4</th>\n",
       "      <th>PAY_AMT5</th>\n",
       "      <th>PAY_AMT6</th>\n",
       "      <th>default</th>\n",
       "      <th>Label</th>\n",
       "      <th>Score</th>\n",
       "    </tr>\n",
       "  </thead>\n",
       "  <tbody>\n",
       "    <tr>\n",
       "      <th>0</th>\n",
       "      <td>100000</td>\n",
       "      <td>2</td>\n",
       "      <td>2</td>\n",
       "      <td>2</td>\n",
       "      <td>23</td>\n",
       "      <td>0</td>\n",
       "      <td>-1</td>\n",
       "      <td>-1</td>\n",
       "      <td>0</td>\n",
       "      <td>0</td>\n",
       "      <td>...</td>\n",
       "      <td>567.0</td>\n",
       "      <td>380.0</td>\n",
       "      <td>601.0</td>\n",
       "      <td>0.0</td>\n",
       "      <td>581.0</td>\n",
       "      <td>1687.0</td>\n",
       "      <td>1542.0</td>\n",
       "      <td>0</td>\n",
       "      <td>0</td>\n",
       "      <td>0.5441</td>\n",
       "    </tr>\n",
       "    <tr>\n",
       "      <th>1</th>\n",
       "      <td>380000</td>\n",
       "      <td>1</td>\n",
       "      <td>2</td>\n",
       "      <td>2</td>\n",
       "      <td>32</td>\n",
       "      <td>-1</td>\n",
       "      <td>-1</td>\n",
       "      <td>-1</td>\n",
       "      <td>-1</td>\n",
       "      <td>-1</td>\n",
       "      <td>...</td>\n",
       "      <td>11873.0</td>\n",
       "      <td>21540.0</td>\n",
       "      <td>15138.0</td>\n",
       "      <td>24677.0</td>\n",
       "      <td>11851.0</td>\n",
       "      <td>11875.0</td>\n",
       "      <td>8251.0</td>\n",
       "      <td>0</td>\n",
       "      <td>0</td>\n",
       "      <td>0.6662</td>\n",
       "    </tr>\n",
       "    <tr>\n",
       "      <th>2</th>\n",
       "      <td>200000</td>\n",
       "      <td>2</td>\n",
       "      <td>2</td>\n",
       "      <td>1</td>\n",
       "      <td>32</td>\n",
       "      <td>-1</td>\n",
       "      <td>-1</td>\n",
       "      <td>-1</td>\n",
       "      <td>-1</td>\n",
       "      <td>2</td>\n",
       "      <td>...</td>\n",
       "      <td>3151.0</td>\n",
       "      <td>5818.0</td>\n",
       "      <td>15.0</td>\n",
       "      <td>9102.0</td>\n",
       "      <td>17.0</td>\n",
       "      <td>3165.0</td>\n",
       "      <td>1395.0</td>\n",
       "      <td>0</td>\n",
       "      <td>0</td>\n",
       "      <td>0.5524</td>\n",
       "    </tr>\n",
       "    <tr>\n",
       "      <th>3</th>\n",
       "      <td>200000</td>\n",
       "      <td>1</td>\n",
       "      <td>1</td>\n",
       "      <td>1</td>\n",
       "      <td>53</td>\n",
       "      <td>2</td>\n",
       "      <td>2</td>\n",
       "      <td>2</td>\n",
       "      <td>2</td>\n",
       "      <td>2</td>\n",
       "      <td>...</td>\n",
       "      <td>149531.0</td>\n",
       "      <td>6300.0</td>\n",
       "      <td>5500.0</td>\n",
       "      <td>5500.0</td>\n",
       "      <td>5500.0</td>\n",
       "      <td>5000.0</td>\n",
       "      <td>5000.0</td>\n",
       "      <td>1</td>\n",
       "      <td>1</td>\n",
       "      <td>0.8320</td>\n",
       "    </tr>\n",
       "    <tr>\n",
       "      <th>4</th>\n",
       "      <td>240000</td>\n",
       "      <td>1</td>\n",
       "      <td>1</td>\n",
       "      <td>2</td>\n",
       "      <td>41</td>\n",
       "      <td>1</td>\n",
       "      <td>-1</td>\n",
       "      <td>-1</td>\n",
       "      <td>0</td>\n",
       "      <td>0</td>\n",
       "      <td>...</td>\n",
       "      <td>1737.0</td>\n",
       "      <td>2622.0</td>\n",
       "      <td>3301.0</td>\n",
       "      <td>0.0</td>\n",
       "      <td>360.0</td>\n",
       "      <td>1737.0</td>\n",
       "      <td>924.0</td>\n",
       "      <td>0</td>\n",
       "      <td>0</td>\n",
       "      <td>0.5353</td>\n",
       "    </tr>\n",
       "  </tbody>\n",
       "</table>\n",
       "<p>5 rows × 26 columns</p>\n",
       "</div>"
      ],
      "text/plain": [
       "   LIMIT_BAL  SEX  EDUCATION  MARRIAGE  AGE  PAY_1  PAY_2  PAY_3  PAY_4  \\\n",
       "0     100000    2          2         2   23      0     -1     -1      0   \n",
       "1     380000    1          2         2   32     -1     -1     -1     -1   \n",
       "2     200000    2          2         1   32     -1     -1     -1     -1   \n",
       "3     200000    1          1         1   53      2      2      2      2   \n",
       "4     240000    1          1         2   41      1     -1     -1      0   \n",
       "\n",
       "   PAY_5  ...  BILL_AMT6  PAY_AMT1  PAY_AMT2  PAY_AMT3  PAY_AMT4  PAY_AMT5  \\\n",
       "0      0  ...      567.0     380.0     601.0       0.0     581.0    1687.0   \n",
       "1     -1  ...    11873.0   21540.0   15138.0   24677.0   11851.0   11875.0   \n",
       "2      2  ...     3151.0    5818.0      15.0    9102.0      17.0    3165.0   \n",
       "3      2  ...   149531.0    6300.0    5500.0    5500.0    5500.0    5000.0   \n",
       "4      0  ...     1737.0    2622.0    3301.0       0.0     360.0    1737.0   \n",
       "\n",
       "   PAY_AMT6  default  Label   Score  \n",
       "0    1542.0        0      0  0.5441  \n",
       "1    8251.0        0      0  0.6662  \n",
       "2    1395.0        0      0  0.5524  \n",
       "3    5000.0        1      1  0.8320  \n",
       "4     924.0        0      0  0.5353  \n",
       "\n",
       "[5 rows x 26 columns]"
      ]
     },
     "execution_count": 49,
     "metadata": {},
     "output_type": "execute_result"
    }
   ],
   "source": [
    "new_prediction.head()"
   ]
  },
  {
   "cell_type": "markdown",
   "metadata": {
    "colab_type": "text",
    "id": "bf8I1uqcEQvD"
   },
   "source": [
    "Observe que os resultados de `unseen_predictions` e `new_prediction` são idênticos."
   ]
  },
  {
   "cell_type": "code",
   "execution_count": 50,
   "metadata": {},
   "outputs": [
    {
     "data": {
      "text/plain": [
       "0.7842"
      ]
     },
     "execution_count": 50,
     "metadata": {},
     "output_type": "execute_result"
    }
   ],
   "source": [
    "from pycaret.utils import check_metric\n",
    "check_metric(new_prediction['default'], new_prediction['Label'], metric = 'Accuracy')"
   ]
  },
  {
   "cell_type": "markdown",
   "metadata": {
    "colab_type": "text",
    "id": "_HeOs8BhEQvF"
   },
   "source": [
    "# 16.0 Resumo / Próximos passos?"
   ]
  },
  {
   "cell_type": "markdown",
   "metadata": {
    "colab_type": "text",
    "id": "VqG1NnwXEQvK"
   },
   "source": [
    "Este tutorial cobriu todo o pipeline de aprendizado de máquina desde a ingestão de dados, pré-processamento, treinamento do modelo, ajuste de hiperparâmetros, previsão e salvamento do modelo para uso posterior. Concluímos todas essas etapas em menos de 10 comandos que são naturalmente construídos e muito intuitivos de lembrar, como `create_model()`, `tune_model()`, `compare_models()`. Recriar todo o experimento sem o PyCaret levaria mais de 100 linhas de código na maioria das bibliotecas.\n",
    "\n",
    "Nós cobrimos apenas o básico de `pycaret.classification`. Nos tutoriais a seguir, aprofundaremos o pré-processamento avançado, o ensembling, o empilhamento generalizado e outras técnicas que permitem personalizar totalmente seu pipeline de aprendizado de máquina e devem ser conhecidas por qualquer cientista de dados.\n",
    "\n",
    "Nos vemos no próximo tutorial. Siga o link para __[Tutorial de classificação binária (CLF102) - Nível intermediário - Inglês](https://github.com/pycaret/pycaret/blob/master/tutorials/Binary%20Classification%20Tutorial%20Level%20Intermediate%20-%20CLF102.ipynb)__"
   ]
  }
 ],
 "metadata": {
  "colab": {
   "collapsed_sections": [
    "Ui_rALqYEQmv",
    "y9s9wNcjEQn0",
    "it_nJo1IEQob",
    "P5m2pciOEQo4",
    "UWMSeyNhEQo-",
    "rWUojqBCEQpb",
    "nSg3OUjuEQpu",
    "XvpjzbGQEQqB",
    "BQlMCxrUEQqG",
    "CD-f0delEQqq",
    "KO3zIfs-EQrA",
    "w_P46O0jEQrT",
    "euqkQYJaEQrY",
    "bwyoTUDQEQrm",
    "_r9rwEw7EQrz",
    "FfWC3NEhEQr9",
    "RX5pYUJJEQsV",
    "r79BGjIfEQs1",
    "hUzc6tXNEQtr",
    "L__po3sUEQt7",
    "Z8OBesfkEQuU",
    "_HeOs8BhEQvF"
   ],
   "name": "Binary Classification Tutorial (CLF101) - Level Beginner (ACN_EDITS).ipynb",
   "provenance": []
  },
  "kernelspec": {
   "display_name": "Python (pycaret_env_2)",
   "language": "python",
   "name": "pycaret_env"
  },
  "language_info": {
   "codemirror_mode": {
    "name": "ipython",
    "version": 3
   },
   "file_extension": ".py",
   "mimetype": "text/x-python",
   "name": "python",
   "nbconvert_exporter": "python",
   "pygments_lexer": "ipython3",
   "version": "3.10.15"
  },
  "varInspector": {
   "cols": {
    "lenName": 16,
    "lenType": 16,
    "lenVar": 40
   },
   "kernels_config": {
    "python": {
     "delete_cmd_postfix": "",
     "delete_cmd_prefix": "del ",
     "library": "var_list.py",
     "varRefreshCmd": "print(var_dic_list())"
    },
    "r": {
     "delete_cmd_postfix": ") ",
     "delete_cmd_prefix": "rm(",
     "library": "var_list.r",
     "varRefreshCmd": "cat(var_dic_list()) "
    }
   },
   "types_to_exclude": [
    "module",
    "function",
    "builtin_function_or_method",
    "instance",
    "_Feature"
   ],
   "window_display": false
  },
  "widgets": {
   "application/vnd.jupyter.widget-state+json": {
    "02771b4dc3284414ab05df1906f4556b": {
     "model_module": "@jupyter-widgets/controls",
     "model_name": "IntProgressModel",
     "state": {
      "_dom_classes": [],
      "_model_module": "@jupyter-widgets/controls",
      "_model_module_version": "1.5.0",
      "_model_name": "IntProgressModel",
      "_view_count": null,
      "_view_module": "@jupyter-widgets/controls",
      "_view_module_version": "1.5.0",
      "_view_name": "ProgressView",
      "bar_style": "",
      "description": "Processing: ",
      "description_tooltip": null,
      "layout": "IPY_MODEL_22588a12c0db4067982e62ebbe7e6930",
      "max": 5,
      "min": 0,
      "orientation": "horizontal",
      "style": "IPY_MODEL_9e338844e75b4e17be8483529f5f38fd",
      "value": 5
     }
    },
    "0a06fb091bd94ce6b6ab892e2c6faadf": {
     "model_module": "@jupyter-widgets/base",
     "model_name": "LayoutModel",
     "state": {
      "_model_module": "@jupyter-widgets/base",
      "_model_module_version": "1.2.0",
      "_model_name": "LayoutModel",
      "_view_count": null,
      "_view_module": "@jupyter-widgets/base",
      "_view_module_version": "1.2.0",
      "_view_name": "LayoutView",
      "align_content": null,
      "align_items": null,
      "align_self": null,
      "border": null,
      "bottom": null,
      "display": null,
      "flex": null,
      "flex_flow": null,
      "grid_area": null,
      "grid_auto_columns": null,
      "grid_auto_flow": null,
      "grid_auto_rows": null,
      "grid_column": null,
      "grid_gap": null,
      "grid_row": null,
      "grid_template_areas": null,
      "grid_template_columns": null,
      "grid_template_rows": null,
      "height": null,
      "justify_content": null,
      "justify_items": null,
      "left": null,
      "margin": null,
      "max_height": null,
      "max_width": null,
      "min_height": null,
      "min_width": null,
      "object_fit": null,
      "object_position": null,
      "order": null,
      "overflow": null,
      "overflow_x": null,
      "overflow_y": null,
      "padding": null,
      "right": null,
      "top": null,
      "visibility": null,
      "width": null
     }
    },
    "12bf8b3c6ae8444a900474912589fdf1": {
     "model_module": "@jupyter-widgets/controls",
     "model_name": "ToggleButtonsModel",
     "state": {
      "_dom_classes": [],
      "_model_module": "@jupyter-widgets/controls",
      "_model_module_version": "1.5.0",
      "_model_name": "ToggleButtonsModel",
      "_options_labels": [
       "Hyperparameters",
       "AUC",
       "Confusion Matrix",
       "Threshold",
       "Precision Recall",
       "Error",
       "Class Report",
       "Feature Selection",
       "Learning Curve",
       "Manifold Learning",
       "Calibration Curve",
       "Validation Curve",
       "Dimensions",
       "Feature Importance",
       "Decision Boundary"
      ],
      "_view_count": null,
      "_view_module": "@jupyter-widgets/controls",
      "_view_module_version": "1.5.0",
      "_view_name": "ToggleButtonsView",
      "button_style": "",
      "description": "Plot Type:",
      "description_tooltip": null,
      "disabled": false,
      "icons": [
       ""
      ],
      "index": 2,
      "layout": "IPY_MODEL_0a06fb091bd94ce6b6ab892e2c6faadf",
      "style": "IPY_MODEL_8886001bc7c1463ba58a8453f5c55073",
      "tooltips": []
     }
    },
    "22588a12c0db4067982e62ebbe7e6930": {
     "model_module": "@jupyter-widgets/base",
     "model_name": "LayoutModel",
     "state": {
      "_model_module": "@jupyter-widgets/base",
      "_model_module_version": "1.2.0",
      "_model_name": "LayoutModel",
      "_view_count": null,
      "_view_module": "@jupyter-widgets/base",
      "_view_module_version": "1.2.0",
      "_view_name": "LayoutView",
      "align_content": null,
      "align_items": null,
      "align_self": null,
      "border": null,
      "bottom": null,
      "display": null,
      "flex": null,
      "flex_flow": null,
      "grid_area": null,
      "grid_auto_columns": null,
      "grid_auto_flow": null,
      "grid_auto_rows": null,
      "grid_column": null,
      "grid_gap": null,
      "grid_row": null,
      "grid_template_areas": null,
      "grid_template_columns": null,
      "grid_template_rows": null,
      "height": null,
      "justify_content": null,
      "justify_items": null,
      "left": null,
      "margin": null,
      "max_height": null,
      "max_width": null,
      "min_height": null,
      "min_width": null,
      "object_fit": null,
      "object_position": null,
      "order": null,
      "overflow": null,
      "overflow_x": null,
      "overflow_y": null,
      "padding": null,
      "right": null,
      "top": null,
      "visibility": null,
      "width": null
     }
    },
    "2a81017413ca4fe789c2272a5831a069": {
     "model_module": "@jupyter-widgets/base",
     "model_name": "LayoutModel",
     "state": {
      "_model_module": "@jupyter-widgets/base",
      "_model_module_version": "1.2.0",
      "_model_name": "LayoutModel",
      "_view_count": null,
      "_view_module": "@jupyter-widgets/base",
      "_view_module_version": "1.2.0",
      "_view_name": "LayoutView",
      "align_content": null,
      "align_items": null,
      "align_self": null,
      "border": null,
      "bottom": null,
      "display": null,
      "flex": null,
      "flex_flow": null,
      "grid_area": null,
      "grid_auto_columns": null,
      "grid_auto_flow": null,
      "grid_auto_rows": null,
      "grid_column": null,
      "grid_gap": null,
      "grid_row": null,
      "grid_template_areas": null,
      "grid_template_columns": null,
      "grid_template_rows": null,
      "height": null,
      "justify_content": null,
      "justify_items": null,
      "left": null,
      "margin": null,
      "max_height": null,
      "max_width": null,
      "min_height": null,
      "min_width": null,
      "object_fit": null,
      "object_position": null,
      "order": null,
      "overflow": null,
      "overflow_x": null,
      "overflow_y": null,
      "padding": null,
      "right": null,
      "top": null,
      "visibility": null,
      "width": null
     }
    },
    "3cc1e83b91f34b289c7d52003f20a97a": {
     "model_module": "@jupyter-widgets/controls",
     "model_name": "IntProgressModel",
     "state": {
      "_dom_classes": [],
      "_model_module": "@jupyter-widgets/controls",
      "_model_module_version": "1.5.0",
      "_model_name": "IntProgressModel",
      "_view_count": null,
      "_view_module": "@jupyter-widgets/controls",
      "_view_module_version": "1.5.0",
      "_view_name": "ProgressView",
      "bar_style": "",
      "description": "Processing: ",
      "description_tooltip": null,
      "layout": "IPY_MODEL_8399e21b17634116861a5abaa9c0ccf7",
      "max": 5,
      "min": 0,
      "orientation": "horizontal",
      "style": "IPY_MODEL_8d709ec9ec484944b1f9773748857f84",
      "value": 2
     }
    },
    "41031579127f4a53b58957e601465083": {
     "model_module": "@jupyter-widgets/base",
     "model_name": "LayoutModel",
     "state": {
      "_model_module": "@jupyter-widgets/base",
      "_model_module_version": "1.2.0",
      "_model_name": "LayoutModel",
      "_view_count": null,
      "_view_module": "@jupyter-widgets/base",
      "_view_module_version": "1.2.0",
      "_view_name": "LayoutView",
      "align_content": null,
      "align_items": null,
      "align_self": null,
      "border": null,
      "bottom": null,
      "display": null,
      "flex": null,
      "flex_flow": null,
      "grid_area": null,
      "grid_auto_columns": null,
      "grid_auto_flow": null,
      "grid_auto_rows": null,
      "grid_column": null,
      "grid_gap": null,
      "grid_row": null,
      "grid_template_areas": null,
      "grid_template_columns": null,
      "grid_template_rows": null,
      "height": null,
      "justify_content": null,
      "justify_items": null,
      "left": null,
      "margin": null,
      "max_height": null,
      "max_width": null,
      "min_height": null,
      "min_width": null,
      "object_fit": null,
      "object_position": null,
      "order": null,
      "overflow": null,
      "overflow_x": null,
      "overflow_y": null,
      "padding": null,
      "right": null,
      "top": null,
      "visibility": null,
      "width": null
     }
    },
    "42d5400d235d40b78190016ef0dabe11": {
     "model_module": "@jupyter-widgets/controls",
     "model_name": "VBoxModel",
     "state": {
      "_dom_classes": [
       "widget-interact"
      ],
      "_model_module": "@jupyter-widgets/controls",
      "_model_module_version": "1.5.0",
      "_model_name": "VBoxModel",
      "_view_count": null,
      "_view_module": "@jupyter-widgets/controls",
      "_view_module_version": "1.5.0",
      "_view_name": "VBoxView",
      "box_style": "",
      "children": [
       "IPY_MODEL_12bf8b3c6ae8444a900474912589fdf1",
       "IPY_MODEL_9bb3600d38c04691b444ff375ad5e3f5"
      ],
      "layout": "IPY_MODEL_41031579127f4a53b58957e601465083"
     }
    },
    "57b94ac505d142769b79de2f1e5c1166": {
     "model_module": "@jupyter-widgets/controls",
     "model_name": "ProgressStyleModel",
     "state": {
      "_model_module": "@jupyter-widgets/controls",
      "_model_module_version": "1.5.0",
      "_model_name": "ProgressStyleModel",
      "_view_count": null,
      "_view_module": "@jupyter-widgets/base",
      "_view_module_version": "1.2.0",
      "_view_name": "StyleView",
      "bar_color": null,
      "description_width": ""
     }
    },
    "8399e21b17634116861a5abaa9c0ccf7": {
     "model_module": "@jupyter-widgets/base",
     "model_name": "LayoutModel",
     "state": {
      "_model_module": "@jupyter-widgets/base",
      "_model_module_version": "1.2.0",
      "_model_name": "LayoutModel",
      "_view_count": null,
      "_view_module": "@jupyter-widgets/base",
      "_view_module_version": "1.2.0",
      "_view_name": "LayoutView",
      "align_content": null,
      "align_items": null,
      "align_self": null,
      "border": null,
      "bottom": null,
      "display": null,
      "flex": null,
      "flex_flow": null,
      "grid_area": null,
      "grid_auto_columns": null,
      "grid_auto_flow": null,
      "grid_auto_rows": null,
      "grid_column": null,
      "grid_gap": null,
      "grid_row": null,
      "grid_template_areas": null,
      "grid_template_columns": null,
      "grid_template_rows": null,
      "height": null,
      "justify_content": null,
      "justify_items": null,
      "left": null,
      "margin": null,
      "max_height": null,
      "max_width": null,
      "min_height": null,
      "min_width": null,
      "object_fit": null,
      "object_position": null,
      "order": null,
      "overflow": null,
      "overflow_x": null,
      "overflow_y": null,
      "padding": null,
      "right": null,
      "top": null,
      "visibility": null,
      "width": null
     }
    },
    "8886001bc7c1463ba58a8453f5c55073": {
     "model_module": "@jupyter-widgets/controls",
     "model_name": "ToggleButtonsStyleModel",
     "state": {
      "_model_module": "@jupyter-widgets/controls",
      "_model_module_version": "1.5.0",
      "_model_name": "ToggleButtonsStyleModel",
      "_view_count": null,
      "_view_module": "@jupyter-widgets/base",
      "_view_module_version": "1.2.0",
      "_view_name": "StyleView",
      "button_width": "",
      "description_width": "",
      "font_weight": ""
     }
    },
    "8d709ec9ec484944b1f9773748857f84": {
     "model_module": "@jupyter-widgets/controls",
     "model_name": "ProgressStyleModel",
     "state": {
      "_model_module": "@jupyter-widgets/controls",
      "_model_module_version": "1.5.0",
      "_model_name": "ProgressStyleModel",
      "_view_count": null,
      "_view_module": "@jupyter-widgets/base",
      "_view_module_version": "1.2.0",
      "_view_name": "StyleView",
      "bar_color": null,
      "description_width": ""
     }
    },
    "9bb3600d38c04691b444ff375ad5e3f5": {
     "model_module": "@jupyter-widgets/output",
     "model_name": "OutputModel",
     "state": {
      "_dom_classes": [],
      "_model_module": "@jupyter-widgets/output",
      "_model_module_version": "1.0.0",
      "_model_name": "OutputModel",
      "_view_count": null,
      "_view_module": "@jupyter-widgets/output",
      "_view_module_version": "1.0.0",
      "_view_name": "OutputView",
      "layout": "IPY_MODEL_4f8f81ab97b041a58a53c85a1ab97bd4",
      "msg_id": "",
      "outputs": [
       {
        "image/png": "iVBORw0KGgoAAAANSUhEUgAAAeoAAAFlCAYAAAAki6s3AAAABHNCSVQICAgIfAhkiAAAAAlwSFlz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\nAAAm9n9QR+M8QEgGtgAAAABJRU5ErkJggg==\n",
        "metadata": {
         "tags": []
        },
        "output_type": "display_data",
        "text/plain": "<Figure size 576x396 with 1 Axes>"
       }
      ]
     }
    },
    "9e338844e75b4e17be8483529f5f38fd": {
     "model_module": "@jupyter-widgets/controls",
     "model_name": "ProgressStyleModel",
     "state": {
      "_model_module": "@jupyter-widgets/controls",
      "_model_module_version": "1.5.0",
      "_model_name": "ProgressStyleModel",
      "_view_count": null,
      "_view_module": "@jupyter-widgets/base",
      "_view_module_version": "1.2.0",
      "_view_name": "StyleView",
      "bar_color": null,
      "description_width": ""
     }
    },
    "d5b6fce1763b4b54898ff3397b0f5bb0": {
     "model_module": "@jupyter-widgets/controls",
     "model_name": "IntProgressModel",
     "state": {
      "_dom_classes": [],
      "_model_module": "@jupyter-widgets/controls",
      "_model_module_version": "1.5.0",
      "_model_name": "IntProgressModel",
      "_view_count": null,
      "_view_module": "@jupyter-widgets/controls",
      "_view_module_version": "1.5.0",
      "_view_name": "ProgressView",
      "bar_style": "",
      "description": "Processing: ",
      "description_tooltip": null,
      "layout": "IPY_MODEL_2a81017413ca4fe789c2272a5831a069",
      "max": 5,
      "min": 0,
      "orientation": "horizontal",
      "style": "IPY_MODEL_57b94ac505d142769b79de2f1e5c1166",
      "value": 5
     }
    }
   }
  }
 },
 "nbformat": 4,
 "nbformat_minor": 4
}
